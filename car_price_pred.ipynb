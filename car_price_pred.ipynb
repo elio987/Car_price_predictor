{
  "nbformat": 4,
  "nbformat_minor": 0,
  "metadata": {
    "colab": {
      "provenance": [],
      "collapsed_sections": []
    },
    "kernelspec": {
      "name": "python3",
      "display_name": "Python 3"
    },
    "language_info": {
      "name": "python"
    }
  },
  "cells": [
    {
      "cell_type": "markdown",
      "source": [
        "## Leonardo Gracida Muñoz A01379812\n",
        "Predicción del precio de un carro basándose en sus caraterísticas categóricas y variables numéricas.\n",
        "<br>Primero importamos todas las librerías necesarias para poder resolver el problema.\n",
        "<br> Enlace hacia la dataset utilizada:\n",
        "<br>\n",
        "https://www.kaggle.com/datasets/toramky/automobile-dataset"
      ],
      "metadata": {
        "id": "wYH4NOyMf7aG"
      }
    },
    {
      "cell_type": "code",
      "execution_count": null,
      "metadata": {
        "id": "-ENP-NY5-d-T"
      },
      "outputs": [],
      "source": [
        "import numpy as np\n",
        "import pandas as pd\n",
        "import matplotlib.pyplot as plt\n",
        "import seaborn as sns\n",
        "import math\n",
        "from scipy.stats import norm"
      ]
    },
    {
      "cell_type": "code",
      "source": [
        "#Importamos el la dataset a utilziar en este caso usamos la default de los automóviles\n",
        "df = pd.read_csv(\"Automobile.csv\")\n",
        "print(df.shape)"
      ],
      "metadata": {
        "id": "ilGr3Jgc-lfY",
        "colab": {
          "base_uri": "https://localhost:8080/"
        },
        "outputId": "7df2fde2-d6c7-4a5d-f1b0-09ed1cb0fbd8"
      },
      "execution_count": null,
      "outputs": [
        {
          "output_type": "stream",
          "name": "stdout",
          "text": [
            "(205, 26)\n"
          ]
        }
      ]
    },
    {
      "cell_type": "code",
      "source": [
        "df.head()"
      ],
      "metadata": {
        "colab": {
          "base_uri": "https://localhost:8080/",
          "height": 366
        },
        "id": "kxZgUZGy_E-5",
        "outputId": "c9329474-5b8d-481d-a901-99151b95b41e"
      },
      "execution_count": null,
      "outputs": [
        {
          "output_type": "execute_result",
          "data": {
            "text/plain": [
              "   symboling normalized-losses         make fuel-type aspiration  \\\n",
              "0          3                 ?  alfa-romero       gas        std   \n",
              "1          3                 ?  alfa-romero       gas        std   \n",
              "2          1                 ?  alfa-romero       gas        std   \n",
              "3          2               164         audi       gas        std   \n",
              "4          2               164         audi       gas        std   \n",
              "\n",
              "  number-of-doors   body-style drive-wheels engine-location  wheel-base  ...  \\\n",
              "0             two  convertible          rwd           front        88.6  ...   \n",
              "1             two  convertible          rwd           front        88.6  ...   \n",
              "2             two    hatchback          rwd           front        94.5  ...   \n",
              "3            four        sedan          fwd           front        99.8  ...   \n",
              "4            four        sedan          4wd           front        99.4  ...   \n",
              "\n",
              "   engine-size  fuel-system  bore  stroke compression-ratio horsepower  \\\n",
              "0          130         mpfi  3.47    2.68               9.0        111   \n",
              "1          130         mpfi  3.47    2.68               9.0        111   \n",
              "2          152         mpfi  2.68    3.47               9.0        154   \n",
              "3          109         mpfi  3.19     3.4              10.0        102   \n",
              "4          136         mpfi  3.19     3.4               8.0        115   \n",
              "\n",
              "   peak-rpm city-mpg highway-mpg  price  \n",
              "0      5000       21          27  13495  \n",
              "1      5000       21          27  16500  \n",
              "2      5000       19          26  16500  \n",
              "3      5500       24          30  13950  \n",
              "4      5500       18          22  17450  \n",
              "\n",
              "[5 rows x 26 columns]"
            ],
            "text/html": [
              "\n",
              "  <div id=\"df-fdcb160a-6074-4843-80e3-cfb78bb450a5\">\n",
              "    <div class=\"colab-df-container\">\n",
              "      <div>\n",
              "<style scoped>\n",
              "    .dataframe tbody tr th:only-of-type {\n",
              "        vertical-align: middle;\n",
              "    }\n",
              "\n",
              "    .dataframe tbody tr th {\n",
              "        vertical-align: top;\n",
              "    }\n",
              "\n",
              "    .dataframe thead th {\n",
              "        text-align: right;\n",
              "    }\n",
              "</style>\n",
              "<table border=\"1\" class=\"dataframe\">\n",
              "  <thead>\n",
              "    <tr style=\"text-align: right;\">\n",
              "      <th></th>\n",
              "      <th>symboling</th>\n",
              "      <th>normalized-losses</th>\n",
              "      <th>make</th>\n",
              "      <th>fuel-type</th>\n",
              "      <th>aspiration</th>\n",
              "      <th>number-of-doors</th>\n",
              "      <th>body-style</th>\n",
              "      <th>drive-wheels</th>\n",
              "      <th>engine-location</th>\n",
              "      <th>wheel-base</th>\n",
              "      <th>...</th>\n",
              "      <th>engine-size</th>\n",
              "      <th>fuel-system</th>\n",
              "      <th>bore</th>\n",
              "      <th>stroke</th>\n",
              "      <th>compression-ratio</th>\n",
              "      <th>horsepower</th>\n",
              "      <th>peak-rpm</th>\n",
              "      <th>city-mpg</th>\n",
              "      <th>highway-mpg</th>\n",
              "      <th>price</th>\n",
              "    </tr>\n",
              "  </thead>\n",
              "  <tbody>\n",
              "    <tr>\n",
              "      <th>0</th>\n",
              "      <td>3</td>\n",
              "      <td>?</td>\n",
              "      <td>alfa-romero</td>\n",
              "      <td>gas</td>\n",
              "      <td>std</td>\n",
              "      <td>two</td>\n",
              "      <td>convertible</td>\n",
              "      <td>rwd</td>\n",
              "      <td>front</td>\n",
              "      <td>88.6</td>\n",
              "      <td>...</td>\n",
              "      <td>130</td>\n",
              "      <td>mpfi</td>\n",
              "      <td>3.47</td>\n",
              "      <td>2.68</td>\n",
              "      <td>9.0</td>\n",
              "      <td>111</td>\n",
              "      <td>5000</td>\n",
              "      <td>21</td>\n",
              "      <td>27</td>\n",
              "      <td>13495</td>\n",
              "    </tr>\n",
              "    <tr>\n",
              "      <th>1</th>\n",
              "      <td>3</td>\n",
              "      <td>?</td>\n",
              "      <td>alfa-romero</td>\n",
              "      <td>gas</td>\n",
              "      <td>std</td>\n",
              "      <td>two</td>\n",
              "      <td>convertible</td>\n",
              "      <td>rwd</td>\n",
              "      <td>front</td>\n",
              "      <td>88.6</td>\n",
              "      <td>...</td>\n",
              "      <td>130</td>\n",
              "      <td>mpfi</td>\n",
              "      <td>3.47</td>\n",
              "      <td>2.68</td>\n",
              "      <td>9.0</td>\n",
              "      <td>111</td>\n",
              "      <td>5000</td>\n",
              "      <td>21</td>\n",
              "      <td>27</td>\n",
              "      <td>16500</td>\n",
              "    </tr>\n",
              "    <tr>\n",
              "      <th>2</th>\n",
              "      <td>1</td>\n",
              "      <td>?</td>\n",
              "      <td>alfa-romero</td>\n",
              "      <td>gas</td>\n",
              "      <td>std</td>\n",
              "      <td>two</td>\n",
              "      <td>hatchback</td>\n",
              "      <td>rwd</td>\n",
              "      <td>front</td>\n",
              "      <td>94.5</td>\n",
              "      <td>...</td>\n",
              "      <td>152</td>\n",
              "      <td>mpfi</td>\n",
              "      <td>2.68</td>\n",
              "      <td>3.47</td>\n",
              "      <td>9.0</td>\n",
              "      <td>154</td>\n",
              "      <td>5000</td>\n",
              "      <td>19</td>\n",
              "      <td>26</td>\n",
              "      <td>16500</td>\n",
              "    </tr>\n",
              "    <tr>\n",
              "      <th>3</th>\n",
              "      <td>2</td>\n",
              "      <td>164</td>\n",
              "      <td>audi</td>\n",
              "      <td>gas</td>\n",
              "      <td>std</td>\n",
              "      <td>four</td>\n",
              "      <td>sedan</td>\n",
              "      <td>fwd</td>\n",
              "      <td>front</td>\n",
              "      <td>99.8</td>\n",
              "      <td>...</td>\n",
              "      <td>109</td>\n",
              "      <td>mpfi</td>\n",
              "      <td>3.19</td>\n",
              "      <td>3.4</td>\n",
              "      <td>10.0</td>\n",
              "      <td>102</td>\n",
              "      <td>5500</td>\n",
              "      <td>24</td>\n",
              "      <td>30</td>\n",
              "      <td>13950</td>\n",
              "    </tr>\n",
              "    <tr>\n",
              "      <th>4</th>\n",
              "      <td>2</td>\n",
              "      <td>164</td>\n",
              "      <td>audi</td>\n",
              "      <td>gas</td>\n",
              "      <td>std</td>\n",
              "      <td>four</td>\n",
              "      <td>sedan</td>\n",
              "      <td>4wd</td>\n",
              "      <td>front</td>\n",
              "      <td>99.4</td>\n",
              "      <td>...</td>\n",
              "      <td>136</td>\n",
              "      <td>mpfi</td>\n",
              "      <td>3.19</td>\n",
              "      <td>3.4</td>\n",
              "      <td>8.0</td>\n",
              "      <td>115</td>\n",
              "      <td>5500</td>\n",
              "      <td>18</td>\n",
              "      <td>22</td>\n",
              "      <td>17450</td>\n",
              "    </tr>\n",
              "  </tbody>\n",
              "</table>\n",
              "<p>5 rows × 26 columns</p>\n",
              "</div>\n",
              "      <button class=\"colab-df-convert\" onclick=\"convertToInteractive('df-fdcb160a-6074-4843-80e3-cfb78bb450a5')\"\n",
              "              title=\"Convert this dataframe to an interactive table.\"\n",
              "              style=\"display:none;\">\n",
              "        \n",
              "  <svg xmlns=\"http://www.w3.org/2000/svg\" height=\"24px\"viewBox=\"0 0 24 24\"\n",
              "       width=\"24px\">\n",
              "    <path d=\"M0 0h24v24H0V0z\" fill=\"none\"/>\n",
              "    <path d=\"M18.56 5.44l.94 2.06.94-2.06 2.06-.94-2.06-.94-.94-2.06-.94 2.06-2.06.94zm-11 1L8.5 8.5l.94-2.06 2.06-.94-2.06-.94L8.5 2.5l-.94 2.06-2.06.94zm10 10l.94 2.06.94-2.06 2.06-.94-2.06-.94-.94-2.06-.94 2.06-2.06.94z\"/><path d=\"M17.41 7.96l-1.37-1.37c-.4-.4-.92-.59-1.43-.59-.52 0-1.04.2-1.43.59L10.3 9.45l-7.72 7.72c-.78.78-.78 2.05 0 2.83L4 21.41c.39.39.9.59 1.41.59.51 0 1.02-.2 1.41-.59l7.78-7.78 2.81-2.81c.8-.78.8-2.07 0-2.86zM5.41 20L4 18.59l7.72-7.72 1.47 1.35L5.41 20z\"/>\n",
              "  </svg>\n",
              "      </button>\n",
              "      \n",
              "  <style>\n",
              "    .colab-df-container {\n",
              "      display:flex;\n",
              "      flex-wrap:wrap;\n",
              "      gap: 12px;\n",
              "    }\n",
              "\n",
              "    .colab-df-convert {\n",
              "      background-color: #E8F0FE;\n",
              "      border: none;\n",
              "      border-radius: 50%;\n",
              "      cursor: pointer;\n",
              "      display: none;\n",
              "      fill: #1967D2;\n",
              "      height: 32px;\n",
              "      padding: 0 0 0 0;\n",
              "      width: 32px;\n",
              "    }\n",
              "\n",
              "    .colab-df-convert:hover {\n",
              "      background-color: #E2EBFA;\n",
              "      box-shadow: 0px 1px 2px rgba(60, 64, 67, 0.3), 0px 1px 3px 1px rgba(60, 64, 67, 0.15);\n",
              "      fill: #174EA6;\n",
              "    }\n",
              "\n",
              "    [theme=dark] .colab-df-convert {\n",
              "      background-color: #3B4455;\n",
              "      fill: #D2E3FC;\n",
              "    }\n",
              "\n",
              "    [theme=dark] .colab-df-convert:hover {\n",
              "      background-color: #434B5C;\n",
              "      box-shadow: 0px 1px 3px 1px rgba(0, 0, 0, 0.15);\n",
              "      filter: drop-shadow(0px 1px 2px rgba(0, 0, 0, 0.3));\n",
              "      fill: #FFFFFF;\n",
              "    }\n",
              "  </style>\n",
              "\n",
              "      <script>\n",
              "        const buttonEl =\n",
              "          document.querySelector('#df-fdcb160a-6074-4843-80e3-cfb78bb450a5 button.colab-df-convert');\n",
              "        buttonEl.style.display =\n",
              "          google.colab.kernel.accessAllowed ? 'block' : 'none';\n",
              "\n",
              "        async function convertToInteractive(key) {\n",
              "          const element = document.querySelector('#df-fdcb160a-6074-4843-80e3-cfb78bb450a5');\n",
              "          const dataTable =\n",
              "            await google.colab.kernel.invokeFunction('convertToInteractive',\n",
              "                                                     [key], {});\n",
              "          if (!dataTable) return;\n",
              "\n",
              "          const docLinkHtml = 'Like what you see? Visit the ' +\n",
              "            '<a target=\"_blank\" href=https://colab.research.google.com/notebooks/data_table.ipynb>data table notebook</a>'\n",
              "            + ' to learn more about interactive tables.';\n",
              "          element.innerHTML = '';\n",
              "          dataTable['output_type'] = 'display_data';\n",
              "          await google.colab.output.renderOutput(dataTable, element);\n",
              "          const docLink = document.createElement('div');\n",
              "          docLink.innerHTML = docLinkHtml;\n",
              "          element.appendChild(docLink);\n",
              "        }\n",
              "      </script>\n",
              "    </div>\n",
              "  </div>\n",
              "  "
            ]
          },
          "metadata": {},
          "execution_count": 814
        }
      ]
    },
    {
      "cell_type": "code",
      "source": [
        "#Vemos si hay valores faltantes de tipo vacio o NaN\n",
        "df.isnull().mean()"
      ],
      "metadata": {
        "colab": {
          "base_uri": "https://localhost:8080/"
        },
        "id": "XwHQSOxI_G4s",
        "outputId": "72d0545d-c410-4df8-f4ef-d878ea380075"
      },
      "execution_count": null,
      "outputs": [
        {
          "output_type": "execute_result",
          "data": {
            "text/plain": [
              "symboling            0.0\n",
              "normalized-losses    0.0\n",
              "make                 0.0\n",
              "fuel-type            0.0\n",
              "aspiration           0.0\n",
              "number-of-doors      0.0\n",
              "body-style           0.0\n",
              "drive-wheels         0.0\n",
              "engine-location      0.0\n",
              "wheel-base           0.0\n",
              "length               0.0\n",
              "width                0.0\n",
              "height               0.0\n",
              "curb-weight          0.0\n",
              "engine-type          0.0\n",
              "num-of-cylinders     0.0\n",
              "engine-size          0.0\n",
              "fuel-system          0.0\n",
              "bore                 0.0\n",
              "stroke               0.0\n",
              "compression-ratio    0.0\n",
              "horsepower           0.0\n",
              "peak-rpm             0.0\n",
              "city-mpg             0.0\n",
              "highway-mpg          0.0\n",
              "price                0.0\n",
              "dtype: float64"
            ]
          },
          "metadata": {},
          "execution_count": 815
        }
      ]
    },
    {
      "cell_type": "markdown",
      "source": [
        "# Llenado de datos vacios"
      ],
      "metadata": {
        "id": "dipEdeOnJG2G"
      }
    },
    {
      "cell_type": "markdown",
      "source": [
        "En este caso vemos que en la base de datos no hay valores vacios tipos NaN, pero al revisar vemos que en lugar de valores vacios llenaron las características faltantes con un string de \"?\". Para poder lidiar con esto lo que hicimos fue el llenar los datos con este string con la media de las columnas numéricas, hicimos esto ya que vimos que el número de valores faltantes no es muy grande en comparación con el numéro total de cada columna numérica, en el caso de los valores faltantes de variables categóricas los llenamos con la moda de cada una de las columnas categóricas, ya que en este caso también el numpero de valores vacios no es grande en comparación con el numero de valores totales."
      ],
      "metadata": {
        "id": "87mMjWWCgsPg"
      }
    },
    {
      "cell_type": "markdown",
      "source": [
        "Como los valores faltantes son tipo string debemos iterar en cada una las columnas que detectemos valores \"?\" en lugar de usar las funciones automáticas de nan ya que técnicamente no lo son.\n",
        "\n",
        "Como en el ejemplo de abajo donde iteramos en la primera columna para llenar estos valores faltanes con la media."
      ],
      "metadata": {
        "id": "-LFC7NTohx7g"
      }
    },
    {
      "cell_type": "markdown",
      "source": [
        "Checamos en las variables numéricas y categoricas si hay valores faltantes."
      ],
      "metadata": {
        "id": "RQrK3-rhimAQ"
      }
    },
    {
      "cell_type": "code",
      "source": [
        "columnas = [\"bore\",\"stroke\",\"horsepower\",\"price\",\"number-of-doors\"]\n",
        "for i in columnas:\n",
        "  print(df[i].value_counts())"
      ],
      "metadata": {
        "colab": {
          "base_uri": "https://localhost:8080/"
        },
        "id": "mSc7_vhy_mwo",
        "outputId": "bf6c034d-e2a3-400d-c917-71b7b9888b04"
      },
      "execution_count": null,
      "outputs": [
        {
          "output_type": "stream",
          "name": "stdout",
          "text": [
            "3.62    23\n",
            "3.19    20\n",
            "3.15    15\n",
            "3.03    12\n",
            "2.97    12\n",
            "3.46     9\n",
            "3.31     8\n",
            "3.78     8\n",
            "3.43     8\n",
            "3.27     7\n",
            "2.91     7\n",
            "3.39     6\n",
            "3.54     6\n",
            "3.05     6\n",
            "3.58     6\n",
            "3.7      5\n",
            "3.01     5\n",
            "3.35     4\n",
            "?        4\n",
            "3.17     3\n",
            "3.59     3\n",
            "3.74     3\n",
            "3.47     2\n",
            "3.94     2\n",
            "3.24     2\n",
            "3.13     2\n",
            "3.63     2\n",
            "3.5      2\n",
            "3.8      2\n",
            "3.33     2\n",
            "2.54     1\n",
            "3.08     1\n",
            "3.61     1\n",
            "3.34     1\n",
            "3.6      1\n",
            "2.92     1\n",
            "3.76     1\n",
            "2.68     1\n",
            "2.99     1\n",
            "Name: bore, dtype: int64\n",
            "3.4     20\n",
            "3.23    14\n",
            "3.15    14\n",
            "3.03    14\n",
            "3.39    13\n",
            "2.64    11\n",
            "3.29     9\n",
            "3.35     9\n",
            "3.46     8\n",
            "3.11     6\n",
            "3.27     6\n",
            "3.41     6\n",
            "3.07     6\n",
            "3.58     6\n",
            "3.19     6\n",
            "3.5      6\n",
            "3.64     5\n",
            "3.52     5\n",
            "3.86     4\n",
            "3.54     4\n",
            "3.47     4\n",
            "?        4\n",
            "3.9      3\n",
            "2.9      3\n",
            "3.1      2\n",
            "4.17     2\n",
            "2.8      2\n",
            "2.19     2\n",
            "3.08     2\n",
            "2.68     2\n",
            "2.36     1\n",
            "3.16     1\n",
            "2.07     1\n",
            "3.21     1\n",
            "3.12     1\n",
            "2.76     1\n",
            "2.87     1\n",
            "Name: stroke, dtype: int64\n",
            "68     19\n",
            "70     11\n",
            "69     10\n",
            "116     9\n",
            "110     8\n",
            "95      7\n",
            "88      6\n",
            "62      6\n",
            "101     6\n",
            "160     6\n",
            "114     6\n",
            "84      5\n",
            "97      5\n",
            "102     5\n",
            "145     5\n",
            "82      5\n",
            "76      5\n",
            "111     4\n",
            "92      4\n",
            "123     4\n",
            "86      4\n",
            "90      3\n",
            "73      3\n",
            "85      3\n",
            "207     3\n",
            "182     3\n",
            "121     3\n",
            "152     3\n",
            "112     2\n",
            "56      2\n",
            "161     2\n",
            "156     2\n",
            "94      2\n",
            "52      2\n",
            "?       2\n",
            "162     2\n",
            "155     2\n",
            "184     2\n",
            "100     2\n",
            "176     2\n",
            "55      1\n",
            "262     1\n",
            "134     1\n",
            "115     1\n",
            "140     1\n",
            "48      1\n",
            "58      1\n",
            "60      1\n",
            "78      1\n",
            "135     1\n",
            "200     1\n",
            "64      1\n",
            "120     1\n",
            "72      1\n",
            "154     1\n",
            "288     1\n",
            "143     1\n",
            "142     1\n",
            "175     1\n",
            "106     1\n",
            "Name: horsepower, dtype: int64\n",
            "?        4\n",
            "8921     2\n",
            "18150    2\n",
            "8845     2\n",
            "8495     2\n",
            "        ..\n",
            "45400    1\n",
            "16503    1\n",
            "5389     1\n",
            "6189     1\n",
            "22625    1\n",
            "Name: price, Length: 187, dtype: int64\n",
            "four    114\n",
            "two      89\n",
            "?         2\n",
            "Name: number-of-doors, dtype: int64\n"
          ]
        }
      ]
    },
    {
      "cell_type": "markdown",
      "source": [
        "Reemplazamos los signos de interrogación con valores vacios NaN."
      ],
      "metadata": {
        "id": "sP9WDlbsjCTh"
      }
    },
    {
      "cell_type": "code",
      "source": [
        "df = df.replace(\"?\",np.nan)\n",
        "df.dtypes\n",
        "var_num = []"
      ],
      "metadata": {
        "id": "Cq2UaV6qjc5M"
      },
      "execution_count": null,
      "outputs": []
    },
    {
      "cell_type": "code",
      "source": [
        "df.head()"
      ],
      "metadata": {
        "colab": {
          "base_uri": "https://localhost:8080/",
          "height": 366
        },
        "id": "2DEyys2zmfiv",
        "outputId": "dc7dd260-50e7-4930-ff9b-4921d8347a5b"
      },
      "execution_count": null,
      "outputs": [
        {
          "output_type": "execute_result",
          "data": {
            "text/plain": [
              "   symboling normalized-losses         make fuel-type aspiration  \\\n",
              "0          3               NaN  alfa-romero       gas        std   \n",
              "1          3               NaN  alfa-romero       gas        std   \n",
              "2          1               NaN  alfa-romero       gas        std   \n",
              "3          2               164         audi       gas        std   \n",
              "4          2               164         audi       gas        std   \n",
              "\n",
              "  number-of-doors   body-style drive-wheels engine-location  wheel-base  ...  \\\n",
              "0             two  convertible          rwd           front        88.6  ...   \n",
              "1             two  convertible          rwd           front        88.6  ...   \n",
              "2             two    hatchback          rwd           front        94.5  ...   \n",
              "3            four        sedan          fwd           front        99.8  ...   \n",
              "4            four        sedan          4wd           front        99.4  ...   \n",
              "\n",
              "   engine-size  fuel-system  bore  stroke compression-ratio horsepower  \\\n",
              "0          130         mpfi  3.47    2.68               9.0        111   \n",
              "1          130         mpfi  3.47    2.68               9.0        111   \n",
              "2          152         mpfi  2.68    3.47               9.0        154   \n",
              "3          109         mpfi  3.19     3.4              10.0        102   \n",
              "4          136         mpfi  3.19     3.4               8.0        115   \n",
              "\n",
              "   peak-rpm city-mpg highway-mpg  price  \n",
              "0      5000       21          27  13495  \n",
              "1      5000       21          27  16500  \n",
              "2      5000       19          26  16500  \n",
              "3      5500       24          30  13950  \n",
              "4      5500       18          22  17450  \n",
              "\n",
              "[5 rows x 26 columns]"
            ],
            "text/html": [
              "\n",
              "  <div id=\"df-251866ac-e62b-40f3-8c34-aab2791a3662\">\n",
              "    <div class=\"colab-df-container\">\n",
              "      <div>\n",
              "<style scoped>\n",
              "    .dataframe tbody tr th:only-of-type {\n",
              "        vertical-align: middle;\n",
              "    }\n",
              "\n",
              "    .dataframe tbody tr th {\n",
              "        vertical-align: top;\n",
              "    }\n",
              "\n",
              "    .dataframe thead th {\n",
              "        text-align: right;\n",
              "    }\n",
              "</style>\n",
              "<table border=\"1\" class=\"dataframe\">\n",
              "  <thead>\n",
              "    <tr style=\"text-align: right;\">\n",
              "      <th></th>\n",
              "      <th>symboling</th>\n",
              "      <th>normalized-losses</th>\n",
              "      <th>make</th>\n",
              "      <th>fuel-type</th>\n",
              "      <th>aspiration</th>\n",
              "      <th>number-of-doors</th>\n",
              "      <th>body-style</th>\n",
              "      <th>drive-wheels</th>\n",
              "      <th>engine-location</th>\n",
              "      <th>wheel-base</th>\n",
              "      <th>...</th>\n",
              "      <th>engine-size</th>\n",
              "      <th>fuel-system</th>\n",
              "      <th>bore</th>\n",
              "      <th>stroke</th>\n",
              "      <th>compression-ratio</th>\n",
              "      <th>horsepower</th>\n",
              "      <th>peak-rpm</th>\n",
              "      <th>city-mpg</th>\n",
              "      <th>highway-mpg</th>\n",
              "      <th>price</th>\n",
              "    </tr>\n",
              "  </thead>\n",
              "  <tbody>\n",
              "    <tr>\n",
              "      <th>0</th>\n",
              "      <td>3</td>\n",
              "      <td>NaN</td>\n",
              "      <td>alfa-romero</td>\n",
              "      <td>gas</td>\n",
              "      <td>std</td>\n",
              "      <td>two</td>\n",
              "      <td>convertible</td>\n",
              "      <td>rwd</td>\n",
              "      <td>front</td>\n",
              "      <td>88.6</td>\n",
              "      <td>...</td>\n",
              "      <td>130</td>\n",
              "      <td>mpfi</td>\n",
              "      <td>3.47</td>\n",
              "      <td>2.68</td>\n",
              "      <td>9.0</td>\n",
              "      <td>111</td>\n",
              "      <td>5000</td>\n",
              "      <td>21</td>\n",
              "      <td>27</td>\n",
              "      <td>13495</td>\n",
              "    </tr>\n",
              "    <tr>\n",
              "      <th>1</th>\n",
              "      <td>3</td>\n",
              "      <td>NaN</td>\n",
              "      <td>alfa-romero</td>\n",
              "      <td>gas</td>\n",
              "      <td>std</td>\n",
              "      <td>two</td>\n",
              "      <td>convertible</td>\n",
              "      <td>rwd</td>\n",
              "      <td>front</td>\n",
              "      <td>88.6</td>\n",
              "      <td>...</td>\n",
              "      <td>130</td>\n",
              "      <td>mpfi</td>\n",
              "      <td>3.47</td>\n",
              "      <td>2.68</td>\n",
              "      <td>9.0</td>\n",
              "      <td>111</td>\n",
              "      <td>5000</td>\n",
              "      <td>21</td>\n",
              "      <td>27</td>\n",
              "      <td>16500</td>\n",
              "    </tr>\n",
              "    <tr>\n",
              "      <th>2</th>\n",
              "      <td>1</td>\n",
              "      <td>NaN</td>\n",
              "      <td>alfa-romero</td>\n",
              "      <td>gas</td>\n",
              "      <td>std</td>\n",
              "      <td>two</td>\n",
              "      <td>hatchback</td>\n",
              "      <td>rwd</td>\n",
              "      <td>front</td>\n",
              "      <td>94.5</td>\n",
              "      <td>...</td>\n",
              "      <td>152</td>\n",
              "      <td>mpfi</td>\n",
              "      <td>2.68</td>\n",
              "      <td>3.47</td>\n",
              "      <td>9.0</td>\n",
              "      <td>154</td>\n",
              "      <td>5000</td>\n",
              "      <td>19</td>\n",
              "      <td>26</td>\n",
              "      <td>16500</td>\n",
              "    </tr>\n",
              "    <tr>\n",
              "      <th>3</th>\n",
              "      <td>2</td>\n",
              "      <td>164</td>\n",
              "      <td>audi</td>\n",
              "      <td>gas</td>\n",
              "      <td>std</td>\n",
              "      <td>four</td>\n",
              "      <td>sedan</td>\n",
              "      <td>fwd</td>\n",
              "      <td>front</td>\n",
              "      <td>99.8</td>\n",
              "      <td>...</td>\n",
              "      <td>109</td>\n",
              "      <td>mpfi</td>\n",
              "      <td>3.19</td>\n",
              "      <td>3.4</td>\n",
              "      <td>10.0</td>\n",
              "      <td>102</td>\n",
              "      <td>5500</td>\n",
              "      <td>24</td>\n",
              "      <td>30</td>\n",
              "      <td>13950</td>\n",
              "    </tr>\n",
              "    <tr>\n",
              "      <th>4</th>\n",
              "      <td>2</td>\n",
              "      <td>164</td>\n",
              "      <td>audi</td>\n",
              "      <td>gas</td>\n",
              "      <td>std</td>\n",
              "      <td>four</td>\n",
              "      <td>sedan</td>\n",
              "      <td>4wd</td>\n",
              "      <td>front</td>\n",
              "      <td>99.4</td>\n",
              "      <td>...</td>\n",
              "      <td>136</td>\n",
              "      <td>mpfi</td>\n",
              "      <td>3.19</td>\n",
              "      <td>3.4</td>\n",
              "      <td>8.0</td>\n",
              "      <td>115</td>\n",
              "      <td>5500</td>\n",
              "      <td>18</td>\n",
              "      <td>22</td>\n",
              "      <td>17450</td>\n",
              "    </tr>\n",
              "  </tbody>\n",
              "</table>\n",
              "<p>5 rows × 26 columns</p>\n",
              "</div>\n",
              "      <button class=\"colab-df-convert\" onclick=\"convertToInteractive('df-251866ac-e62b-40f3-8c34-aab2791a3662')\"\n",
              "              title=\"Convert this dataframe to an interactive table.\"\n",
              "              style=\"display:none;\">\n",
              "        \n",
              "  <svg xmlns=\"http://www.w3.org/2000/svg\" height=\"24px\"viewBox=\"0 0 24 24\"\n",
              "       width=\"24px\">\n",
              "    <path d=\"M0 0h24v24H0V0z\" fill=\"none\"/>\n",
              "    <path d=\"M18.56 5.44l.94 2.06.94-2.06 2.06-.94-2.06-.94-.94-2.06-.94 2.06-2.06.94zm-11 1L8.5 8.5l.94-2.06 2.06-.94-2.06-.94L8.5 2.5l-.94 2.06-2.06.94zm10 10l.94 2.06.94-2.06 2.06-.94-2.06-.94-.94-2.06-.94 2.06-2.06.94z\"/><path d=\"M17.41 7.96l-1.37-1.37c-.4-.4-.92-.59-1.43-.59-.52 0-1.04.2-1.43.59L10.3 9.45l-7.72 7.72c-.78.78-.78 2.05 0 2.83L4 21.41c.39.39.9.59 1.41.59.51 0 1.02-.2 1.41-.59l7.78-7.78 2.81-2.81c.8-.78.8-2.07 0-2.86zM5.41 20L4 18.59l7.72-7.72 1.47 1.35L5.41 20z\"/>\n",
              "  </svg>\n",
              "      </button>\n",
              "      \n",
              "  <style>\n",
              "    .colab-df-container {\n",
              "      display:flex;\n",
              "      flex-wrap:wrap;\n",
              "      gap: 12px;\n",
              "    }\n",
              "\n",
              "    .colab-df-convert {\n",
              "      background-color: #E8F0FE;\n",
              "      border: none;\n",
              "      border-radius: 50%;\n",
              "      cursor: pointer;\n",
              "      display: none;\n",
              "      fill: #1967D2;\n",
              "      height: 32px;\n",
              "      padding: 0 0 0 0;\n",
              "      width: 32px;\n",
              "    }\n",
              "\n",
              "    .colab-df-convert:hover {\n",
              "      background-color: #E2EBFA;\n",
              "      box-shadow: 0px 1px 2px rgba(60, 64, 67, 0.3), 0px 1px 3px 1px rgba(60, 64, 67, 0.15);\n",
              "      fill: #174EA6;\n",
              "    }\n",
              "\n",
              "    [theme=dark] .colab-df-convert {\n",
              "      background-color: #3B4455;\n",
              "      fill: #D2E3FC;\n",
              "    }\n",
              "\n",
              "    [theme=dark] .colab-df-convert:hover {\n",
              "      background-color: #434B5C;\n",
              "      box-shadow: 0px 1px 3px 1px rgba(0, 0, 0, 0.15);\n",
              "      filter: drop-shadow(0px 1px 2px rgba(0, 0, 0, 0.3));\n",
              "      fill: #FFFFFF;\n",
              "    }\n",
              "  </style>\n",
              "\n",
              "      <script>\n",
              "        const buttonEl =\n",
              "          document.querySelector('#df-251866ac-e62b-40f3-8c34-aab2791a3662 button.colab-df-convert');\n",
              "        buttonEl.style.display =\n",
              "          google.colab.kernel.accessAllowed ? 'block' : 'none';\n",
              "\n",
              "        async function convertToInteractive(key) {\n",
              "          const element = document.querySelector('#df-251866ac-e62b-40f3-8c34-aab2791a3662');\n",
              "          const dataTable =\n",
              "            await google.colab.kernel.invokeFunction('convertToInteractive',\n",
              "                                                     [key], {});\n",
              "          if (!dataTable) return;\n",
              "\n",
              "          const docLinkHtml = 'Like what you see? Visit the ' +\n",
              "            '<a target=\"_blank\" href=https://colab.research.google.com/notebooks/data_table.ipynb>data table notebook</a>'\n",
              "            + ' to learn more about interactive tables.';\n",
              "          element.innerHTML = '';\n",
              "          dataTable['output_type'] = 'display_data';\n",
              "          await google.colab.output.renderOutput(dataTable, element);\n",
              "          const docLink = document.createElement('div');\n",
              "          docLink.innerHTML = docLinkHtml;\n",
              "          element.appendChild(docLink);\n",
              "        }\n",
              "      </script>\n",
              "    </div>\n",
              "  </div>\n",
              "  "
            ]
          },
          "metadata": {},
          "execution_count": 818
        }
      ]
    },
    {
      "cell_type": "markdown",
      "source": [
        "Como debemos de separar el dataset en una parte de train y en una parte de test, antes vamos a llenar las variables categóricas faltantes con la moda y pasarlas a valores numéricos, esto lo hacemos porque al momento de dividir la data puede que una tenga variables categóricas que tenga el train que no tenga el test.\n",
        "<br>Como en este caso solo una columna de categórica tiene datos vacios la llenamos con la moda."
      ],
      "metadata": {
        "id": "6K7uws8wflbx"
      }
    },
    {
      "cell_type": "code",
      "source": [
        "var = [\"normalized-losses\",\"bore\",\"horsepower\",\"peak-rpm\",\"price\",\"stroke\"]\n",
        "for i in var:\n",
        "    df[i] = df[i].astype(float)\n",
        "var_num = []\n",
        "for i in df:\n",
        "    if df[i].dtype != \"object\":\n",
        "        var_num.append(i)"
      ],
      "metadata": {
        "id": "amJWMY33sHNo"
      },
      "execution_count": null,
      "outputs": []
    },
    {
      "cell_type": "code",
      "source": [
        "df['number-of-doors'].fillna(df['number-of-doors'].mode()[0], inplace=True)"
      ],
      "metadata": {
        "id": "YoMxf-UWsPSM"
      },
      "execution_count": null,
      "outputs": []
    },
    {
      "cell_type": "code",
      "source": [
        "df.isna().sum()"
      ],
      "metadata": {
        "colab": {
          "base_uri": "https://localhost:8080/"
        },
        "id": "_Yc5DZ4hlPjh",
        "outputId": "c9d6029e-6d80-447d-dee1-a90b23c19bbd"
      },
      "execution_count": null,
      "outputs": [
        {
          "output_type": "execute_result",
          "data": {
            "text/plain": [
              "symboling             0\n",
              "normalized-losses    41\n",
              "make                  0\n",
              "fuel-type             0\n",
              "aspiration            0\n",
              "number-of-doors       0\n",
              "body-style            0\n",
              "drive-wheels          0\n",
              "engine-location       0\n",
              "wheel-base            0\n",
              "length                0\n",
              "width                 0\n",
              "height                0\n",
              "curb-weight           0\n",
              "engine-type           0\n",
              "num-of-cylinders      0\n",
              "engine-size           0\n",
              "fuel-system           0\n",
              "bore                  4\n",
              "stroke                4\n",
              "compression-ratio     0\n",
              "horsepower            2\n",
              "peak-rpm              2\n",
              "city-mpg              0\n",
              "highway-mpg           0\n",
              "price                 4\n",
              "dtype: int64"
            ]
          },
          "metadata": {},
          "execution_count": 821
        }
      ]
    },
    {
      "cell_type": "markdown",
      "source": [
        "Llenamos las varibles categóricas que usen dummy variables."
      ],
      "metadata": {
        "id": "RMiFWzSFgmdG"
      }
    },
    {
      "cell_type": "code",
      "source": [
        "from sklearn.preprocessing import LabelEncoder\n",
        "dummy_cat = [\"make\",\"body-style\",\"drive-wheels\",\"fuel-system\",\"engine-type\",\"num-of-cylinders\"]\n",
        "dummy_final = []\n",
        "for i in dummy_cat:\n",
        "    #print(df[i].unique())\n",
        "    dummy_final+= df[i].unique().tolist()\n",
        "    dummies = pd.get_dummies(df[i])\n",
        "    df = pd.concat([df.drop(columns=[i]), dummies], axis=1)\n",
        "print(dummy_final)"
      ],
      "metadata": {
        "colab": {
          "base_uri": "https://localhost:8080/"
        },
        "id": "RUbIfaa-sFfS",
        "outputId": "1f338d44-4424-476d-9ace-898d04179e35"
      },
      "execution_count": null,
      "outputs": [
        {
          "output_type": "stream",
          "name": "stdout",
          "text": [
            "['alfa-romero', 'audi', 'bmw', 'chevrolet', 'dodge', 'honda', 'isuzu', 'jaguar', 'mazda', 'mercedes-benz', 'mercury', 'mitsubishi', 'nissan', 'peugot', 'plymouth', 'porsche', 'renault', 'saab', 'subaru', 'toyota', 'volkswagen', 'volvo', 'convertible', 'hatchback', 'sedan', 'wagon', 'hardtop', 'rwd', 'fwd', '4wd', 'mpfi', '2bbl', 'mfi', '1bbl', 'spfi', '4bbl', 'idi', 'spdi', 'dohc', 'ohcv', 'ohc', 'l', 'rotor', 'ohcf', 'dohcv', 'four', 'six', 'five', 'three', 'twelve', 'two', 'eight']\n"
          ]
        }
      ]
    },
    {
      "cell_type": "markdown",
      "source": [
        "Ahora llenamos las variables categóricas que usen label encoder o que solo tengan dos categorías."
      ],
      "metadata": {
        "id": "uTG5jXUdgSBU"
      }
    },
    {
      "cell_type": "code",
      "source": [
        "label_encoder = LabelEncoder()\n",
        "le_cat = [\"fuel-type\",\"aspiration\",\"number-of-doors\",\"engine-location\"]\n",
        "for i in le_cat:\n",
        "    df[i]=label_encoder.fit_transform(df[i]) \n",
        "print(len(df.columns))"
      ],
      "metadata": {
        "id": "YHck3uniuW5F",
        "colab": {
          "base_uri": "https://localhost:8080/"
        },
        "outputId": "d488757a-0cee-4216-aea1-13aa473daabb"
      },
      "execution_count": null,
      "outputs": [
        {
          "output_type": "stream",
          "name": "stdout",
          "text": [
            "72\n"
          ]
        }
      ]
    },
    {
      "cell_type": "markdown",
      "source": [
        "Ahora si separamos la data en train y test. usando un 30% de test.\n",
        "\n",
        "---\n",
        "\n"
      ],
      "metadata": {
        "id": "ETgLXcw9gsT0"
      }
    },
    {
      "cell_type": "code",
      "source": [
        "from sklearn.model_selection import train_test_split\n",
        "X_train, X_test, y_train, y_test = train_test_split(df.drop([\"price\"],axis=1), df[\"price\"], test_size=0.30, random_state=42)\n",
        "df = X_train\n",
        "df[\"price\"] = y_train\n",
        "df_test = X_test\n",
        "df_test[\"price\"] = y_test\n",
        "print(df.shape,df_test.shape)"
      ],
      "metadata": {
        "colab": {
          "base_uri": "https://localhost:8080/"
        },
        "id": "bm2VYpmlHL7E",
        "outputId": "9f8eeca9-ea41-4aa4-fb5e-698de900b34b"
      },
      "execution_count": null,
      "outputs": [
        {
          "output_type": "stream",
          "name": "stdout",
          "text": [
            "(143, 72) (62, 72)\n"
          ]
        }
      ]
    },
    {
      "cell_type": "markdown",
      "source": [
        "Llenamos lo datos numericos faltantes en la parte de train"
      ],
      "metadata": {
        "id": "7ZRXU6PPgzxW"
      }
    },
    {
      "cell_type": "code",
      "source": [
        "var = [\"normalized-losses\",\"bore\",\"horsepower\",\"peak-rpm\",\"price\",\"stroke\"]\n",
        "for i in var:\n",
        "    df[i] = df[i].astype(float)\n",
        "    mean = df[i].mean()\n",
        "    df[i] = df[i].fillna(mean)"
      ],
      "metadata": {
        "id": "Md8DyRu4lWnF"
      },
      "execution_count": null,
      "outputs": []
    },
    {
      "cell_type": "code",
      "source": [
        "df.isna().sum()"
      ],
      "metadata": {
        "colab": {
          "base_uri": "https://localhost:8080/"
        },
        "id": "5ttwWBgIrzTi",
        "outputId": "108fee6e-cd7e-45c8-a5bd-a5120005de90"
      },
      "execution_count": null,
      "outputs": [
        {
          "output_type": "execute_result",
          "data": {
            "text/plain": [
              "symboling            0\n",
              "normalized-losses    0\n",
              "fuel-type            0\n",
              "aspiration           0\n",
              "number-of-doors      0\n",
              "                    ..\n",
              "six                  0\n",
              "three                0\n",
              "twelve               0\n",
              "two                  0\n",
              "price                0\n",
              "Length: 72, dtype: int64"
            ]
          },
          "metadata": {},
          "execution_count": 826
        }
      ]
    },
    {
      "cell_type": "code",
      "source": [
        "df.head()\n",
        "df2 = df.copy()"
      ],
      "metadata": {
        "id": "Psd3TxaEKRgC"
      },
      "execution_count": null,
      "outputs": []
    },
    {
      "cell_type": "markdown",
      "source": [
        "# Llenado de datos vacios en la parte de test"
      ],
      "metadata": {
        "id": "ksLl1CEOJOQU"
      }
    },
    {
      "cell_type": "code",
      "source": [
        "df_test.isna().sum()"
      ],
      "metadata": {
        "colab": {
          "base_uri": "https://localhost:8080/"
        },
        "id": "tvYqQdu9JPIJ",
        "outputId": "b731144f-6493-4072-b452-6e526e38caf4"
      },
      "execution_count": null,
      "outputs": [
        {
          "output_type": "execute_result",
          "data": {
            "text/plain": [
              "symboling             0\n",
              "normalized-losses    11\n",
              "fuel-type             0\n",
              "aspiration            0\n",
              "number-of-doors       0\n",
              "                     ..\n",
              "six                   0\n",
              "three                 0\n",
              "twelve                0\n",
              "two                   0\n",
              "price                 2\n",
              "Length: 72, dtype: int64"
            ]
          },
          "metadata": {},
          "execution_count": 828
        }
      ]
    },
    {
      "cell_type": "code",
      "source": [
        "columnas = [\"normalized-losses\",\"bore\",\"horsepower\",\"peak-rpm\",\"price\",\"stroke\"]\n",
        "for i in columnas:\n",
        "    df_test[i] = df_test[i].astype(float)\n",
        "    mean = df_test[i].mean()\n",
        "    df_test[i] = df_test[i].fillna(mean)"
      ],
      "metadata": {
        "id": "ClCgiupzJ07s"
      },
      "execution_count": null,
      "outputs": []
    },
    {
      "cell_type": "code",
      "source": [
        "df_test.isna().sum()"
      ],
      "metadata": {
        "colab": {
          "base_uri": "https://localhost:8080/"
        },
        "id": "xV2m5xTnLWuB",
        "outputId": "d0ff5718-4444-4aed-d335-26fc115cd6f7"
      },
      "execution_count": null,
      "outputs": [
        {
          "output_type": "execute_result",
          "data": {
            "text/plain": [
              "symboling            0\n",
              "normalized-losses    0\n",
              "fuel-type            0\n",
              "aspiration           0\n",
              "number-of-doors      0\n",
              "                    ..\n",
              "six                  0\n",
              "three                0\n",
              "twelve               0\n",
              "two                  0\n",
              "price                0\n",
              "Length: 72, dtype: int64"
            ]
          },
          "metadata": {},
          "execution_count": 830
        }
      ]
    },
    {
      "cell_type": "markdown",
      "source": [
        "Al ver la descripción de las columnas numéricas vamos a escoger las variables que se pueden comportar de una forma más normal, viendo la desviación estándar y los cuartiles.\n",
        "<br> En este caso vamos a sacar el boxplot, el histograma y el qqplot para ver su distribución."
      ],
      "metadata": {
        "id": "8Op2tglGlwIu"
      }
    },
    {
      "cell_type": "markdown",
      "source": [
        "## Length"
      ],
      "metadata": {
        "id": "US6cynuamJzA"
      }
    },
    {
      "cell_type": "code",
      "source": [
        "df[[\"length\"]].boxplot()"
      ],
      "metadata": {
        "colab": {
          "base_uri": "https://localhost:8080/",
          "height": 282
        },
        "id": "6rHHE3WHKkSL",
        "outputId": "6b37f465-3d30-48fb-a2af-4070c36d9f29"
      },
      "execution_count": null,
      "outputs": [
        {
          "output_type": "execute_result",
          "data": {
            "text/plain": [
              "<matplotlib.axes._subplots.AxesSubplot at 0x7fd6daa3a0d0>"
            ]
          },
          "metadata": {},
          "execution_count": 831
        },
        {
          "output_type": "display_data",
          "data": {
            "text/plain": [
              "<Figure size 432x288 with 1 Axes>"
            ],
            "image/png": "[encoded data removed]"
          },
          "metadata": {
            "needs_background": "light"
          }
        }
      ]
    },
    {
      "cell_type": "code",
      "source": [
        "df[[\"length\"]].hist(bins=25)"
      ],
      "metadata": {
        "colab": {
          "base_uri": "https://localhost:8080/",
          "height": 316
        },
        "id": "DdjVvBRoM4k-",
        "outputId": "aafb2d2c-b879-4056-edc2-886fcdd70b3c"
      },
      "execution_count": null,
      "outputs": [
        {
          "output_type": "execute_result",
          "data": {
            "text/plain": [
              "array([[<matplotlib.axes._subplots.AxesSubplot object at 0x7fd6dafc0650>]],\n",
              "      dtype=object)"
            ]
          },
          "metadata": {},
          "execution_count": 832
        },
        {
          "output_type": "display_data",
          "data": {
            "text/plain": [
              "<Figure size 432x288 with 1 Axes>"
            ],
            "image/png": "[encoded data removed]"
          },
          "metadata": {
            "needs_background": "light"
          }
        }
      ]
    },
    {
      "cell_type": "code",
      "source": [
        "data_normal = df[\"length\"]\n",
        "data_standard = (data_normal-data_normal.mean())/data_normal.std(ddof=1)\n",
        "data_standard = np.sort(data_standard)\n",
        "i= np.array(range(1,len(df[\"length\"])+1))\n",
        "P = (i-0.5)/len(data_normal)\n",
        "theo_q=norm.ppf(P)\n",
        "x = np.linspace(-5,5,50)\n",
        "plt.plot(x,x)\n",
        "plt.scatter(theo_q,data_standard)\n",
        "plt.show()"
      ],
      "metadata": {
        "colab": {
          "base_uri": "https://localhost:8080/",
          "height": 265
        },
        "id": "EOJJ_xYNO13Z",
        "outputId": "8043d21a-115d-43f9-fb19-1d285bc783b5"
      },
      "execution_count": null,
      "outputs": [
        {
          "output_type": "display_data",
          "data": {
            "text/plain": [
              "<Figure size 432x288 with 1 Axes>"
            ],
            "image/png": "[encoded data removed]"
          },
          "metadata": {
            "needs_background": "light"
          }
        }
      ]
    },
    {
      "cell_type": "markdown",
      "source": [
        "## Width"
      ],
      "metadata": {
        "id": "M1YHfsXXmW-g"
      }
    },
    {
      "cell_type": "code",
      "source": [
        "df[[\"width\"]].boxplot()"
      ],
      "metadata": {
        "colab": {
          "base_uri": "https://localhost:8080/",
          "height": 282
        },
        "id": "_AO4CaDRM_JH",
        "outputId": "86a09d1e-30a8-40f3-b4d1-2c6e673f9bf5"
      },
      "execution_count": null,
      "outputs": [
        {
          "output_type": "execute_result",
          "data": {
            "text/plain": [
              "<matplotlib.axes._subplots.AxesSubplot at 0x7fd6ddbd3410>"
            ]
          },
          "metadata": {},
          "execution_count": 834
        },
        {
          "output_type": "display_data",
          "data": {
            "text/plain": [
              "<Figure size 432x288 with 1 Axes>"
            ],
            "image/png": "[encoded data removed]"
          },
          "metadata": {
            "needs_background": "light"
          }
        }
      ]
    },
    {
      "cell_type": "code",
      "source": [
        "df[[\"width\"]].hist(bins=25)"
      ],
      "metadata": {
        "colab": {
          "base_uri": "https://localhost:8080/",
          "height": 316
        },
        "id": "FZ1YAtQ8NTkx",
        "outputId": "dd76e45b-3138-4d52-d1ba-1e8da5cbb9d8"
      },
      "execution_count": null,
      "outputs": [
        {
          "output_type": "execute_result",
          "data": {
            "text/plain": [
              "array([[<matplotlib.axes._subplots.AxesSubplot object at 0x7fd6dab0a390>]],\n",
              "      dtype=object)"
            ]
          },
          "metadata": {},
          "execution_count": 835
        },
        {
          "output_type": "display_data",
          "data": {
            "text/plain": [
              "<Figure size 432x288 with 1 Axes>"
            ],
            "image/png": "[encoded data removed]"
          },
          "metadata": {
            "needs_background": "light"
          }
        }
      ]
    },
    {
      "cell_type": "code",
      "source": [
        "data_normal = df[\"width\"]\n",
        "data_standard = (data_normal-data_normal.mean())/data_normal.std(ddof=1)\n",
        "data_standard = np.sort(data_standard)\n",
        "i= np.array(range(1,len(df[\"width\"])+1))\n",
        "P = (i-0.5)/len(data_normal)\n",
        "theo_q=norm.ppf(P)\n",
        "x = np.linspace(-5,5,50)\n",
        "plt.plot(x,x)\n",
        "plt.scatter(theo_q,data_standard)\n",
        "plt.show()"
      ],
      "metadata": {
        "colab": {
          "base_uri": "https://localhost:8080/",
          "height": 265
        },
        "id": "1FhDHrBGNZXA",
        "outputId": "17d12f01-157b-46b5-f162-27d4c4da4620"
      },
      "execution_count": null,
      "outputs": [
        {
          "output_type": "display_data",
          "data": {
            "text/plain": [
              "<Figure size 432x288 with 1 Axes>"
            ],
            "image/png": "[encoded data removed]"
          },
          "metadata": {
            "needs_background": "light"
          }
        }
      ]
    },
    {
      "cell_type": "markdown",
      "source": [
        "## Height"
      ],
      "metadata": {
        "id": "jRZ3wnhUmZRn"
      }
    },
    {
      "cell_type": "code",
      "source": [
        "df[[\"height\"]].boxplot()"
      ],
      "metadata": {
        "colab": {
          "base_uri": "https://localhost:8080/",
          "height": 282
        },
        "id": "GAp74-AHPdwK",
        "outputId": "f474eb5d-2504-4539-ecaa-1678ed8cb1e0"
      },
      "execution_count": null,
      "outputs": [
        {
          "output_type": "execute_result",
          "data": {
            "text/plain": [
              "<matplotlib.axes._subplots.AxesSubplot at 0x7fd6dcf0d910>"
            ]
          },
          "metadata": {},
          "execution_count": 837
        },
        {
          "output_type": "display_data",
          "data": {
            "text/plain": [
              "<Figure size 432x288 with 1 Axes>"
            ],
            "image/png": "[encoded data removed]"
          },
          "metadata": {
            "needs_background": "light"
          }
        }
      ]
    },
    {
      "cell_type": "code",
      "source": [
        "df[[\"height\"]].hist(bins=25)"
      ],
      "metadata": {
        "colab": {
          "base_uri": "https://localhost:8080/",
          "height": 316
        },
        "id": "za5eiuXNP58f",
        "outputId": "d294fbce-bb20-47b7-fcc9-0f740f227e20"
      },
      "execution_count": null,
      "outputs": [
        {
          "output_type": "execute_result",
          "data": {
            "text/plain": [
              "array([[<matplotlib.axes._subplots.AxesSubplot object at 0x7fd6da526510>]],\n",
              "      dtype=object)"
            ]
          },
          "metadata": {},
          "execution_count": 838
        },
        {
          "output_type": "display_data",
          "data": {
            "text/plain": [
              "<Figure size 432x288 with 1 Axes>"
            ],
            "image/png": "[encoded data removed]"
          },
          "metadata": {
            "needs_background": "light"
          }
        }
      ]
    },
    {
      "cell_type": "code",
      "source": [
        "data_normal = df[\"height\"]\n",
        "data_standard = (data_normal-data_normal.mean())/data_normal.std(ddof=1)\n",
        "data_standard = np.sort(data_standard)\n",
        "i= np.array(range(1,len(df[\"height\"])+1))\n",
        "P = (i-0.5)/len(data_normal)\n",
        "theo_q=norm.ppf(P)\n",
        "x = np.linspace(-5,5,50)\n",
        "plt.plot(x,x)\n",
        "plt.scatter(theo_q,data_standard)\n",
        "plt.show()"
      ],
      "metadata": {
        "colab": {
          "base_uri": "https://localhost:8080/",
          "height": 265
        },
        "id": "Ix33kpYBP_WJ",
        "outputId": "012ee55c-0d3b-4e17-ff87-cc01ddb48f85"
      },
      "execution_count": null,
      "outputs": [
        {
          "output_type": "display_data",
          "data": {
            "text/plain": [
              "<Figure size 432x288 with 1 Axes>"
            ],
            "image/png": "[encoded data removed]"
          },
          "metadata": {
            "needs_background": "light"
          }
        }
      ]
    },
    {
      "cell_type": "markdown",
      "source": [
        "## Curb weight"
      ],
      "metadata": {
        "id": "w5D-9-TXmbRh"
      }
    },
    {
      "cell_type": "code",
      "source": [
        "df[[\"curb-weight\"]].boxplot()"
      ],
      "metadata": {
        "colab": {
          "base_uri": "https://localhost:8080/",
          "height": 282
        },
        "id": "nTdTZztWht-T",
        "outputId": "07d08650-72db-40a3-d468-02ddbf34e30a"
      },
      "execution_count": null,
      "outputs": [
        {
          "output_type": "execute_result",
          "data": {
            "text/plain": [
              "<matplotlib.axes._subplots.AxesSubplot at 0x7fd6dcd59ad0>"
            ]
          },
          "metadata": {},
          "execution_count": 840
        },
        {
          "output_type": "display_data",
          "data": {
            "text/plain": [
              "<Figure size 432x288 with 1 Axes>"
            ],
            "image/png": "[encoded data removed]"
          },
          "metadata": {
            "needs_background": "light"
          }
        }
      ]
    },
    {
      "cell_type": "code",
      "source": [
        "df[[\"curb-weight\"]].hist(bins=25)"
      ],
      "metadata": {
        "colab": {
          "base_uri": "https://localhost:8080/",
          "height": 316
        },
        "id": "pnBIo5qBh1P8",
        "outputId": "03426188-8969-402d-d845-d28a1d3c05aa"
      },
      "execution_count": null,
      "outputs": [
        {
          "output_type": "execute_result",
          "data": {
            "text/plain": [
              "array([[<matplotlib.axes._subplots.AxesSubplot object at 0x7fd6db02da90>]],\n",
              "      dtype=object)"
            ]
          },
          "metadata": {},
          "execution_count": 841
        },
        {
          "output_type": "display_data",
          "data": {
            "text/plain": [
              "<Figure size 432x288 with 1 Axes>"
            ],
            "image/png": "[encoded data removed]"
          },
          "metadata": {
            "needs_background": "light"
          }
        }
      ]
    },
    {
      "cell_type": "code",
      "source": [
        "data_normal = df[\"curb-weight\"]\n",
        "data_standard = (data_normal-data_normal.mean())/data_normal.std(ddof=1)\n",
        "data_standard = np.sort(data_standard)\n",
        "i= np.array(range(1,len(df[\"curb-weight\"])+1))\n",
        "P = (i-0.5)/len(data_normal)\n",
        "theo_q=norm.ppf(P)\n",
        "x = np.linspace(-5,5,50)\n",
        "plt.plot(x,x)\n",
        "plt.scatter(theo_q,data_standard)\n",
        "plt.show()"
      ],
      "metadata": {
        "colab": {
          "base_uri": "https://localhost:8080/",
          "height": 265
        },
        "id": "BGBEC6XQh5lZ",
        "outputId": "e5d38583-5ec1-455f-d1f9-4e8d4a856739"
      },
      "execution_count": null,
      "outputs": [
        {
          "output_type": "display_data",
          "data": {
            "text/plain": [
              "<Figure size 432x288 with 1 Axes>"
            ],
            "image/png": "[encoded data removed]"
          },
          "metadata": {
            "needs_background": "light"
          }
        }
      ]
    },
    {
      "cell_type": "markdown",
      "source": [
        "## Engine size"
      ],
      "metadata": {
        "id": "v7dKjbtWmd7u"
      }
    },
    {
      "cell_type": "code",
      "source": [
        "df[[\"engine-size\"]].boxplot()"
      ],
      "metadata": {
        "colab": {
          "base_uri": "https://localhost:8080/",
          "height": 282
        },
        "id": "xsdknBGriAKu",
        "outputId": "43f2d3bc-f592-44cf-e49a-45d694b2d730"
      },
      "execution_count": null,
      "outputs": [
        {
          "output_type": "execute_result",
          "data": {
            "text/plain": [
              "<matplotlib.axes._subplots.AxesSubplot at 0x7fd6db02db10>"
            ]
          },
          "metadata": {},
          "execution_count": 843
        },
        {
          "output_type": "display_data",
          "data": {
            "text/plain": [
              "<Figure size 432x288 with 1 Axes>"
            ],
            "image/png": "[encoded data removed]"
          },
          "metadata": {
            "needs_background": "light"
          }
        }
      ]
    },
    {
      "cell_type": "code",
      "source": [
        "df[[\"engine-size\"]].hist(bins=25)"
      ],
      "metadata": {
        "colab": {
          "base_uri": "https://localhost:8080/",
          "height": 316
        },
        "id": "uu5RanjuiGBX",
        "outputId": "7e834d3e-2a5b-4ca9-d90e-fb06de16fb96"
      },
      "execution_count": null,
      "outputs": [
        {
          "output_type": "execute_result",
          "data": {
            "text/plain": [
              "array([[<matplotlib.axes._subplots.AxesSubplot object at 0x7fd6dae81690>]],\n",
              "      dtype=object)"
            ]
          },
          "metadata": {},
          "execution_count": 844
        },
        {
          "output_type": "display_data",
          "data": {
            "text/plain": [
              "<Figure size 432x288 with 1 Axes>"
            ],
            "image/png": "[encoded data removed]"
          },
          "metadata": {
            "needs_background": "light"
          }
        }
      ]
    },
    {
      "cell_type": "code",
      "source": [
        "data_normal = df[\"engine-size\"]\n",
        "data_standard = (data_normal-data_normal.mean())/data_normal.std(ddof=1)\n",
        "data_standard = np.sort(data_standard)\n",
        "i= np.array(range(1,len(df[\"engine-size\"])+1))\n",
        "P = (i-0.5)/len(data_normal)\n",
        "theo_q=norm.ppf(P)\n",
        "x = np.linspace(-5,5,50)\n",
        "plt.plot(x,x)\n",
        "plt.scatter(theo_q,data_standard)\n",
        "plt.show()"
      ],
      "metadata": {
        "id": "1En1OBzUiMZb",
        "colab": {
          "base_uri": "https://localhost:8080/",
          "height": 265
        },
        "outputId": "869628ff-5a80-4615-822b-f01ac2cab421"
      },
      "execution_count": null,
      "outputs": [
        {
          "output_type": "display_data",
          "data": {
            "text/plain": [
              "<Figure size 432x288 with 1 Axes>"
            ],
            "image/png": "[encoded data removed]"
          },
          "metadata": {
            "needs_background": "light"
          }
        }
      ]
    },
    {
      "cell_type": "markdown",
      "source": [
        "## Bore"
      ],
      "metadata": {
        "id": "AUYUUAgHmf-T"
      }
    },
    {
      "cell_type": "code",
      "source": [
        "df[[\"bore\"]].boxplot()"
      ],
      "metadata": {
        "colab": {
          "base_uri": "https://localhost:8080/",
          "height": 285
        },
        "id": "_qTb3qCrkVyc",
        "outputId": "4f95139e-8681-4b65-c614-059173dfcf51"
      },
      "execution_count": null,
      "outputs": [
        {
          "output_type": "execute_result",
          "data": {
            "text/plain": [
              "<matplotlib.axes._subplots.AxesSubplot at 0x7fd6db1176d0>"
            ]
          },
          "metadata": {},
          "execution_count": 846
        },
        {
          "output_type": "display_data",
          "data": {
            "text/plain": [
              "<Figure size 432x288 with 1 Axes>"
            ],
            "image/png": "[encoded data removed]"
          },
          "metadata": {
            "needs_background": "light"
          }
        }
      ]
    },
    {
      "cell_type": "code",
      "source": [
        "df[[\"bore\"]].hist(bins=25)"
      ],
      "metadata": {
        "colab": {
          "base_uri": "https://localhost:8080/",
          "height": 316
        },
        "id": "8346fLgIkddI",
        "outputId": "793a888e-41d0-42b2-8d06-76e719e940af"
      },
      "execution_count": null,
      "outputs": [
        {
          "output_type": "execute_result",
          "data": {
            "text/plain": [
              "array([[<matplotlib.axes._subplots.AxesSubplot object at 0x7fd6db0dd890>]],\n",
              "      dtype=object)"
            ]
          },
          "metadata": {},
          "execution_count": 847
        },
        {
          "output_type": "display_data",
          "data": {
            "text/plain": [
              "<Figure size 432x288 with 1 Axes>"
            ],
            "image/png": "[encoded data removed]"
          },
          "metadata": {
            "needs_background": "light"
          }
        }
      ]
    },
    {
      "cell_type": "code",
      "source": [
        "data_normal = df[\"bore\"]\n",
        "data_standard = (data_normal-data_normal.mean())/data_normal.std(ddof=1)\n",
        "data_standard = np.sort(data_standard)\n",
        "i= np.array(range(1,len(df[\"bore\"])+1))\n",
        "P = (i-0.5)/len(data_normal)\n",
        "theo_q=norm.ppf(P)\n",
        "x = np.linspace(-5,5,50)\n",
        "plt.plot(x,x)\n",
        "plt.scatter(theo_q,data_standard)\n",
        "plt.show()"
      ],
      "metadata": {
        "colab": {
          "base_uri": "https://localhost:8080/",
          "height": 265
        },
        "id": "_1CT0x9RkfTE",
        "outputId": "56b4b075-f2cc-48d3-f9ab-544636ea4833"
      },
      "execution_count": null,
      "outputs": [
        {
          "output_type": "display_data",
          "data": {
            "text/plain": [
              "<Figure size 432x288 with 1 Axes>"
            ],
            "image/png": "[encoded data removed]"
          },
          "metadata": {
            "needs_background": "light"
          }
        }
      ]
    },
    {
      "cell_type": "markdown",
      "source": [
        "## Horsepower"
      ],
      "metadata": {
        "id": "e1TizJ5LmiEO"
      }
    },
    {
      "cell_type": "code",
      "source": [
        "df[[\"horsepower\"]].boxplot()"
      ],
      "metadata": {
        "colab": {
          "base_uri": "https://localhost:8080/",
          "height": 282
        },
        "id": "8nNSphiHkjPK",
        "outputId": "fbb3aa23-9ea4-4e1d-d139-db85f03c9d5e"
      },
      "execution_count": null,
      "outputs": [
        {
          "output_type": "execute_result",
          "data": {
            "text/plain": [
              "<matplotlib.axes._subplots.AxesSubplot at 0x7fd6dbbe5750>"
            ]
          },
          "metadata": {},
          "execution_count": 849
        },
        {
          "output_type": "display_data",
          "data": {
            "text/plain": [
              "<Figure size 432x288 with 1 Axes>"
            ],
            "image/png": "[encoded data removed]"
          },
          "metadata": {
            "needs_background": "light"
          }
        }
      ]
    },
    {
      "cell_type": "code",
      "source": [
        "df[[\"horsepower\"]].hist(bins=25)"
      ],
      "metadata": {
        "colab": {
          "base_uri": "https://localhost:8080/",
          "height": 316
        },
        "id": "Ql-KuDaKkoDW",
        "outputId": "db1e114c-c1c0-4f4d-f533-02854d08aba6"
      },
      "execution_count": null,
      "outputs": [
        {
          "output_type": "execute_result",
          "data": {
            "text/plain": [
              "array([[<matplotlib.axes._subplots.AxesSubplot object at 0x7fd6dcbfbb50>]],\n",
              "      dtype=object)"
            ]
          },
          "metadata": {},
          "execution_count": 850
        },
        {
          "output_type": "display_data",
          "data": {
            "text/plain": [
              "<Figure size 432x288 with 1 Axes>"
            ],
            "image/png": "[encoded data removed]"
          },
          "metadata": {
            "needs_background": "light"
          }
        }
      ]
    },
    {
      "cell_type": "code",
      "source": [
        "data_normal = df[\"horsepower\"]\n",
        "data_standard = (data_normal-data_normal.mean())/data_normal.std(ddof=1)\n",
        "data_standard = np.sort(data_standard)\n",
        "i= np.array(range(1,len(df[\"horsepower\"])+1))\n",
        "P = (i-0.5)/len(data_normal)\n",
        "theo_q=norm.ppf(P)\n",
        "x = np.linspace(-5,5,50)\n",
        "plt.plot(x,x)\n",
        "plt.scatter(theo_q,data_standard)\n",
        "plt.show()"
      ],
      "metadata": {
        "colab": {
          "base_uri": "https://localhost:8080/",
          "height": 265
        },
        "id": "zHaa-dT_kr19",
        "outputId": "9d0ee942-c658-46f1-babf-dc8091f12126"
      },
      "execution_count": null,
      "outputs": [
        {
          "output_type": "display_data",
          "data": {
            "text/plain": [
              "<Figure size 432x288 with 1 Axes>"
            ],
            "image/png": "[encoded data removed]"
          },
          "metadata": {
            "needs_background": "light"
          }
        }
      ]
    },
    {
      "cell_type": "markdown",
      "source": [
        "## Price"
      ],
      "metadata": {
        "id": "3oV5yICmmkq2"
      }
    },
    {
      "cell_type": "code",
      "source": [
        "df[[\"price\"]].boxplot()"
      ],
      "metadata": {
        "id": "LFdX7z5WqCPA",
        "outputId": "1bbd198c-00ad-40f7-dda1-dbd36c720d68",
        "colab": {
          "base_uri": "https://localhost:8080/",
          "height": 282
        }
      },
      "execution_count": null,
      "outputs": [
        {
          "output_type": "execute_result",
          "data": {
            "text/plain": [
              "<matplotlib.axes._subplots.AxesSubplot at 0x7fd6dcb8f550>"
            ]
          },
          "metadata": {},
          "execution_count": 852
        },
        {
          "output_type": "display_data",
          "data": {
            "text/plain": [
              "<Figure size 432x288 with 1 Axes>"
            ],
            "image/png": "[encoded data removed]"
          },
          "metadata": {
            "needs_background": "light"
          }
        }
      ]
    },
    {
      "cell_type": "code",
      "source": [
        "df[[\"price\"]].hist(bins=25)"
      ],
      "metadata": {
        "id": "zlOvVyYCqHCF",
        "outputId": "58b1af6d-d97e-4063-eb61-421a9c0998e3",
        "colab": {
          "base_uri": "https://localhost:8080/",
          "height": 316
        }
      },
      "execution_count": null,
      "outputs": [
        {
          "output_type": "execute_result",
          "data": {
            "text/plain": [
              "array([[<matplotlib.axes._subplots.AxesSubplot object at 0x7fd6dca8f590>]],\n",
              "      dtype=object)"
            ]
          },
          "metadata": {},
          "execution_count": 853
        },
        {
          "output_type": "display_data",
          "data": {
            "text/plain": [
              "<Figure size 432x288 with 1 Axes>"
            ],
            "image/png": "[encoded data removed]"
          },
          "metadata": {
            "needs_background": "light"
          }
        }
      ]
    },
    {
      "cell_type": "code",
      "source": [
        "data_normal = df[\"price\"]\n",
        "data_standard = (data_normal-data_normal.mean())/data_normal.std(ddof=1)\n",
        "data_standard = np.sort(data_standard)\n",
        "i= np.array(range(1,len(df[\"price\"])+1))\n",
        "P = (i-0.5)/len(data_normal)\n",
        "theo_q=norm.ppf(P)\n",
        "x = np.linspace(-5,5,50)\n",
        "plt.plot(x,x)\n",
        "plt.scatter(theo_q,data_standard)\n",
        "plt.show()"
      ],
      "metadata": {
        "id": "39eaV7YJqLkm",
        "outputId": "fb1db87d-ad8f-4b22-bba0-384b551eef80",
        "colab": {
          "base_uri": "https://localhost:8080/",
          "height": 265
        }
      },
      "execution_count": null,
      "outputs": [
        {
          "output_type": "display_data",
          "data": {
            "text/plain": [
              "<Figure size 432x288 with 1 Axes>"
            ],
            "image/png": "[encoded data removed]"
          },
          "metadata": {
            "needs_background": "light"
          }
        }
      ]
    },
    {
      "cell_type": "markdown",
      "source": [
        "Al ver su distribuciń, box plot y escala de los valores podemos observar lo siguiente. En el caso de los outliers consideré no eliminarlos, ya que en este caso los valores que son outliers o considerados asi no estan tan alejados que los demás o en caso de estar muy alejados hay más valores que los acompañan en lugar de parecer datos aislados como con son los outliers, ya que también la naturaleza de los carros puede haber carros con ciertos caballos de fuerza y puede haber otro carro con el doble o hasta el triple de caballos de fuerza. También en el caso del precio puede haber carros con un precio muy baratos como puede haber carros con precios muy grandes comparados con los carros más comúnes."
      ],
      "metadata": {
        "id": "xFqkY5uRmnVd"
      }
    },
    {
      "cell_type": "code",
      "source": [
        "print(df.shape)\n",
        "df = df.drop_duplicates()"
      ],
      "metadata": {
        "id": "T2-Q-DBYQN7Z",
        "colab": {
          "base_uri": "https://localhost:8080/"
        },
        "outputId": "eabc02ae-8f8d-4e44-920c-2326c0cd5e3c"
      },
      "execution_count": null,
      "outputs": [
        {
          "output_type": "stream",
          "name": "stdout",
          "text": [
            "(143, 72)\n"
          ]
        }
      ]
    },
    {
      "cell_type": "markdown",
      "source": [
        "Al ver estos datos debemos ver la correlación de estas variables numéricas con el target que es el precio del carro."
      ],
      "metadata": {
        "id": "eQLJJJzRnvG2"
      }
    },
    {
      "cell_type": "code",
      "source": [
        "df[var_num].corr()"
      ],
      "metadata": {
        "colab": {
          "base_uri": "https://localhost:8080/",
          "height": 647
        },
        "id": "mkutMeoYfx5U",
        "outputId": "1ab5bf71-8240-4d7b-c5c6-7cad934bd8b8"
      },
      "execution_count": null,
      "outputs": [
        {
          "output_type": "execute_result",
          "data": {
            "text/plain": [
              "                   symboling  normalized-losses  wheel-base    length  \\\n",
              "symboling           1.000000           0.413611   -0.529310 -0.347552   \n",
              "normalized-losses   0.413611           1.000000   -0.011070  0.069431   \n",
              "wheel-base         -0.529310          -0.011070    1.000000  0.873137   \n",
              "length             -0.347552           0.069431    0.873137  1.000000   \n",
              "width              -0.204471           0.116593    0.770678  0.821267   \n",
              "height             -0.500465          -0.332565    0.587438  0.471636   \n",
              "curb-weight        -0.217571           0.135657    0.763689  0.868949   \n",
              "engine-size        -0.084859           0.150737    0.513343  0.643460   \n",
              "bore               -0.106126           0.029379    0.457995  0.570529   \n",
              "stroke             -0.088887           0.029061    0.177542  0.125178   \n",
              "compression-ratio  -0.169990          -0.122458    0.246137  0.171994   \n",
              "horsepower          0.065830           0.217720    0.313684  0.514096   \n",
              "peak-rpm            0.253015           0.189112   -0.366279 -0.329240   \n",
              "city-mpg           -0.061686          -0.290022   -0.450056 -0.652630   \n",
              "highway-mpg         0.027517          -0.238526   -0.541073 -0.692163   \n",
              "price              -0.044708           0.193601    0.560112  0.679567   \n",
              "\n",
              "                      width    height  curb-weight  engine-size      bore  \\\n",
              "symboling         -0.204471 -0.500465    -0.217571    -0.084859 -0.106126   \n",
              "normalized-losses  0.116593 -0.332565     0.135657     0.150737  0.029379   \n",
              "wheel-base         0.770678  0.587438     0.763689     0.513343  0.457995   \n",
              "length             0.821267  0.471636     0.868949     0.643460  0.570529   \n",
              "width              1.000000  0.252645     0.838544     0.710388  0.530939   \n",
              "height             0.252645  1.000000     0.261443    -0.013444  0.148536   \n",
              "curb-weight        0.838544  0.261443     1.000000     0.841292  0.623010   \n",
              "engine-size        0.710388 -0.013444     0.841292     1.000000  0.553638   \n",
              "bore               0.530939  0.148536     0.623010     0.553638  1.000000   \n",
              "stroke             0.159338 -0.011468     0.140310     0.162425 -0.049706   \n",
              "compression-ratio  0.160541  0.241545     0.128556     0.003910  0.003866   \n",
              "horsepower         0.627527 -0.144135     0.733061     0.800845  0.555528   \n",
              "peak-rpm          -0.219965 -0.284122    -0.297677    -0.265059 -0.265069   \n",
              "city-mpg          -0.634135 -0.034521    -0.771963    -0.680272 -0.558013   \n",
              "highway-mpg       -0.664386 -0.106532    -0.818683    -0.701740 -0.554029   \n",
              "price              0.734369  0.080209     0.825527     0.860621  0.512338   \n",
              "\n",
              "                     stroke  compression-ratio  horsepower  peak-rpm  \\\n",
              "symboling         -0.088887          -0.169990    0.065830  0.253015   \n",
              "normalized-losses  0.029061          -0.122458    0.217720  0.189112   \n",
              "wheel-base         0.177542           0.246137    0.313684 -0.366279   \n",
              "length             0.125178           0.171994    0.514096 -0.329240   \n",
              "width              0.159338           0.160541    0.627527 -0.219965   \n",
              "height            -0.011468           0.241545   -0.144135 -0.284122   \n",
              "curb-weight        0.140310           0.128556    0.733061 -0.297677   \n",
              "engine-size        0.162425           0.003910    0.800845 -0.265059   \n",
              "bore              -0.049706           0.003866    0.555528 -0.265069   \n",
              "stroke             1.000000           0.134473    0.037381 -0.029316   \n",
              "compression-ratio  0.134473           1.000000   -0.198515 -0.407115   \n",
              "horsepower         0.037381          -0.198515    1.000000  0.106199   \n",
              "peak-rpm          -0.029316          -0.407115    0.106199  1.000000   \n",
              "city-mpg          -0.042059           0.332751   -0.814126 -0.058729   \n",
              "highway-mpg       -0.050301           0.237054   -0.765096  0.005024   \n",
              "price              0.046216           0.027986    0.747322 -0.129360   \n",
              "\n",
              "                   city-mpg  highway-mpg     price  \n",
              "symboling         -0.061686     0.027517 -0.044708  \n",
              "normalized-losses -0.290022    -0.238526  0.193601  \n",
              "wheel-base        -0.450056    -0.541073  0.560112  \n",
              "length            -0.652630    -0.692163  0.679567  \n",
              "width             -0.634135    -0.664386  0.734369  \n",
              "height            -0.034521    -0.106532  0.080209  \n",
              "curb-weight       -0.771963    -0.818683  0.825527  \n",
              "engine-size       -0.680272    -0.701740  0.860621  \n",
              "bore              -0.558013    -0.554029  0.512338  \n",
              "stroke            -0.042059    -0.050301  0.046216  \n",
              "compression-ratio  0.332751     0.237054  0.027986  \n",
              "horsepower        -0.814126    -0.765096  0.747322  \n",
              "peak-rpm          -0.058729     0.005024 -0.129360  \n",
              "city-mpg           1.000000     0.960887 -0.721076  \n",
              "highway-mpg        0.960887     1.000000 -0.750252  \n",
              "price             -0.721076    -0.750252  1.000000  "
            ],
            "text/html": [
              "\n",
              "  <div id=\"df-deb4cc47-b81c-48e8-a723-d25d98bff3a3\">\n",
              "    <div class=\"colab-df-container\">\n",
              "      <div>\n",
              "<style scoped>\n",
              "    .dataframe tbody tr th:only-of-type {\n",
              "        vertical-align: middle;\n",
              "    }\n",
              "\n",
              "    .dataframe tbody tr th {\n",
              "        vertical-align: top;\n",
              "    }\n",
              "\n",
              "    .dataframe thead th {\n",
              "        text-align: right;\n",
              "    }\n",
              "</style>\n",
              "<table border=\"1\" class=\"dataframe\">\n",
              "  <thead>\n",
              "    <tr style=\"text-align: right;\">\n",
              "      <th></th>\n",
              "      <th>symboling</th>\n",
              "      <th>normalized-losses</th>\n",
              "      <th>wheel-base</th>\n",
              "      <th>length</th>\n",
              "      <th>width</th>\n",
              "      <th>height</th>\n",
              "      <th>curb-weight</th>\n",
              "      <th>engine-size</th>\n",
              "      <th>bore</th>\n",
              "      <th>stroke</th>\n",
              "      <th>compression-ratio</th>\n",
              "      <th>horsepower</th>\n",
              "      <th>peak-rpm</th>\n",
              "      <th>city-mpg</th>\n",
              "      <th>highway-mpg</th>\n",
              "      <th>price</th>\n",
              "    </tr>\n",
              "  </thead>\n",
              "  <tbody>\n",
              "    <tr>\n",
              "      <th>symboling</th>\n",
              "      <td>1.000000</td>\n",
              "      <td>0.413611</td>\n",
              "      <td>-0.529310</td>\n",
              "      <td>-0.347552</td>\n",
              "      <td>-0.204471</td>\n",
              "      <td>-0.500465</td>\n",
              "      <td>-0.217571</td>\n",
              "      <td>-0.084859</td>\n",
              "      <td>-0.106126</td>\n",
              "      <td>-0.088887</td>\n",
              "      <td>-0.169990</td>\n",
              "      <td>0.065830</td>\n",
              "      <td>0.253015</td>\n",
              "      <td>-0.061686</td>\n",
              "      <td>0.027517</td>\n",
              "      <td>-0.044708</td>\n",
              "    </tr>\n",
              "    <tr>\n",
              "      <th>normalized-losses</th>\n",
              "      <td>0.413611</td>\n",
              "      <td>1.000000</td>\n",
              "      <td>-0.011070</td>\n",
              "      <td>0.069431</td>\n",
              "      <td>0.116593</td>\n",
              "      <td>-0.332565</td>\n",
              "      <td>0.135657</td>\n",
              "      <td>0.150737</td>\n",
              "      <td>0.029379</td>\n",
              "      <td>0.029061</td>\n",
              "      <td>-0.122458</td>\n",
              "      <td>0.217720</td>\n",
              "      <td>0.189112</td>\n",
              "      <td>-0.290022</td>\n",
              "      <td>-0.238526</td>\n",
              "      <td>0.193601</td>\n",
              "    </tr>\n",
              "    <tr>\n",
              "      <th>wheel-base</th>\n",
              "      <td>-0.529310</td>\n",
              "      <td>-0.011070</td>\n",
              "      <td>1.000000</td>\n",
              "      <td>0.873137</td>\n",
              "      <td>0.770678</td>\n",
              "      <td>0.587438</td>\n",
              "      <td>0.763689</td>\n",
              "      <td>0.513343</td>\n",
              "      <td>0.457995</td>\n",
              "      <td>0.177542</td>\n",
              "      <td>0.246137</td>\n",
              "      <td>0.313684</td>\n",
              "      <td>-0.366279</td>\n",
              "      <td>-0.450056</td>\n",
              "      <td>-0.541073</td>\n",
              "      <td>0.560112</td>\n",
              "    </tr>\n",
              "    <tr>\n",
              "      <th>length</th>\n",
              "      <td>-0.347552</td>\n",
              "      <td>0.069431</td>\n",
              "      <td>0.873137</td>\n",
              "      <td>1.000000</td>\n",
              "      <td>0.821267</td>\n",
              "      <td>0.471636</td>\n",
              "      <td>0.868949</td>\n",
              "      <td>0.643460</td>\n",
              "      <td>0.570529</td>\n",
              "      <td>0.125178</td>\n",
              "      <td>0.171994</td>\n",
              "      <td>0.514096</td>\n",
              "      <td>-0.329240</td>\n",
              "      <td>-0.652630</td>\n",
              "      <td>-0.692163</td>\n",
              "      <td>0.679567</td>\n",
              "    </tr>\n",
              "    <tr>\n",
              "      <th>width</th>\n",
              "      <td>-0.204471</td>\n",
              "      <td>0.116593</td>\n",
              "      <td>0.770678</td>\n",
              "      <td>0.821267</td>\n",
              "      <td>1.000000</td>\n",
              "      <td>0.252645</td>\n",
              "      <td>0.838544</td>\n",
              "      <td>0.710388</td>\n",
              "      <td>0.530939</td>\n",
              "      <td>0.159338</td>\n",
              "      <td>0.160541</td>\n",
              "      <td>0.627527</td>\n",
              "      <td>-0.219965</td>\n",
              "      <td>-0.634135</td>\n",
              "      <td>-0.664386</td>\n",
              "      <td>0.734369</td>\n",
              "    </tr>\n",
              "    <tr>\n",
              "      <th>height</th>\n",
              "      <td>-0.500465</td>\n",
              "      <td>-0.332565</td>\n",
              "      <td>0.587438</td>\n",
              "      <td>0.471636</td>\n",
              "      <td>0.252645</td>\n",
              "      <td>1.000000</td>\n",
              "      <td>0.261443</td>\n",
              "      <td>-0.013444</td>\n",
              "      <td>0.148536</td>\n",
              "      <td>-0.011468</td>\n",
              "      <td>0.241545</td>\n",
              "      <td>-0.144135</td>\n",
              "      <td>-0.284122</td>\n",
              "      <td>-0.034521</td>\n",
              "      <td>-0.106532</td>\n",
              "      <td>0.080209</td>\n",
              "    </tr>\n",
              "    <tr>\n",
              "      <th>curb-weight</th>\n",
              "      <td>-0.217571</td>\n",
              "      <td>0.135657</td>\n",
              "      <td>0.763689</td>\n",
              "      <td>0.868949</td>\n",
              "      <td>0.838544</td>\n",
              "      <td>0.261443</td>\n",
              "      <td>1.000000</td>\n",
              "      <td>0.841292</td>\n",
              "      <td>0.623010</td>\n",
              "      <td>0.140310</td>\n",
              "      <td>0.128556</td>\n",
              "      <td>0.733061</td>\n",
              "      <td>-0.297677</td>\n",
              "      <td>-0.771963</td>\n",
              "      <td>-0.818683</td>\n",
              "      <td>0.825527</td>\n",
              "    </tr>\n",
              "    <tr>\n",
              "      <th>engine-size</th>\n",
              "      <td>-0.084859</td>\n",
              "      <td>0.150737</td>\n",
              "      <td>0.513343</td>\n",
              "      <td>0.643460</td>\n",
              "      <td>0.710388</td>\n",
              "      <td>-0.013444</td>\n",
              "      <td>0.841292</td>\n",
              "      <td>1.000000</td>\n",
              "      <td>0.553638</td>\n",
              "      <td>0.162425</td>\n",
              "      <td>0.003910</td>\n",
              "      <td>0.800845</td>\n",
              "      <td>-0.265059</td>\n",
              "      <td>-0.680272</td>\n",
              "      <td>-0.701740</td>\n",
              "      <td>0.860621</td>\n",
              "    </tr>\n",
              "    <tr>\n",
              "      <th>bore</th>\n",
              "      <td>-0.106126</td>\n",
              "      <td>0.029379</td>\n",
              "      <td>0.457995</td>\n",
              "      <td>0.570529</td>\n",
              "      <td>0.530939</td>\n",
              "      <td>0.148536</td>\n",
              "      <td>0.623010</td>\n",
              "      <td>0.553638</td>\n",
              "      <td>1.000000</td>\n",
              "      <td>-0.049706</td>\n",
              "      <td>0.003866</td>\n",
              "      <td>0.555528</td>\n",
              "      <td>-0.265069</td>\n",
              "      <td>-0.558013</td>\n",
              "      <td>-0.554029</td>\n",
              "      <td>0.512338</td>\n",
              "    </tr>\n",
              "    <tr>\n",
              "      <th>stroke</th>\n",
              "      <td>-0.088887</td>\n",
              "      <td>0.029061</td>\n",
              "      <td>0.177542</td>\n",
              "      <td>0.125178</td>\n",
              "      <td>0.159338</td>\n",
              "      <td>-0.011468</td>\n",
              "      <td>0.140310</td>\n",
              "      <td>0.162425</td>\n",
              "      <td>-0.049706</td>\n",
              "      <td>1.000000</td>\n",
              "      <td>0.134473</td>\n",
              "      <td>0.037381</td>\n",
              "      <td>-0.029316</td>\n",
              "      <td>-0.042059</td>\n",
              "      <td>-0.050301</td>\n",
              "      <td>0.046216</td>\n",
              "    </tr>\n",
              "    <tr>\n",
              "      <th>compression-ratio</th>\n",
              "      <td>-0.169990</td>\n",
              "      <td>-0.122458</td>\n",
              "      <td>0.246137</td>\n",
              "      <td>0.171994</td>\n",
              "      <td>0.160541</td>\n",
              "      <td>0.241545</td>\n",
              "      <td>0.128556</td>\n",
              "      <td>0.003910</td>\n",
              "      <td>0.003866</td>\n",
              "      <td>0.134473</td>\n",
              "      <td>1.000000</td>\n",
              "      <td>-0.198515</td>\n",
              "      <td>-0.407115</td>\n",
              "      <td>0.332751</td>\n",
              "      <td>0.237054</td>\n",
              "      <td>0.027986</td>\n",
              "    </tr>\n",
              "    <tr>\n",
              "      <th>horsepower</th>\n",
              "      <td>0.065830</td>\n",
              "      <td>0.217720</td>\n",
              "      <td>0.313684</td>\n",
              "      <td>0.514096</td>\n",
              "      <td>0.627527</td>\n",
              "      <td>-0.144135</td>\n",
              "      <td>0.733061</td>\n",
              "      <td>0.800845</td>\n",
              "      <td>0.555528</td>\n",
              "      <td>0.037381</td>\n",
              "      <td>-0.198515</td>\n",
              "      <td>1.000000</td>\n",
              "      <td>0.106199</td>\n",
              "      <td>-0.814126</td>\n",
              "      <td>-0.765096</td>\n",
              "      <td>0.747322</td>\n",
              "    </tr>\n",
              "    <tr>\n",
              "      <th>peak-rpm</th>\n",
              "      <td>0.253015</td>\n",
              "      <td>0.189112</td>\n",
              "      <td>-0.366279</td>\n",
              "      <td>-0.329240</td>\n",
              "      <td>-0.219965</td>\n",
              "      <td>-0.284122</td>\n",
              "      <td>-0.297677</td>\n",
              "      <td>-0.265059</td>\n",
              "      <td>-0.265069</td>\n",
              "      <td>-0.029316</td>\n",
              "      <td>-0.407115</td>\n",
              "      <td>0.106199</td>\n",
              "      <td>1.000000</td>\n",
              "      <td>-0.058729</td>\n",
              "      <td>0.005024</td>\n",
              "      <td>-0.129360</td>\n",
              "    </tr>\n",
              "    <tr>\n",
              "      <th>city-mpg</th>\n",
              "      <td>-0.061686</td>\n",
              "      <td>-0.290022</td>\n",
              "      <td>-0.450056</td>\n",
              "      <td>-0.652630</td>\n",
              "      <td>-0.634135</td>\n",
              "      <td>-0.034521</td>\n",
              "      <td>-0.771963</td>\n",
              "      <td>-0.680272</td>\n",
              "      <td>-0.558013</td>\n",
              "      <td>-0.042059</td>\n",
              "      <td>0.332751</td>\n",
              "      <td>-0.814126</td>\n",
              "      <td>-0.058729</td>\n",
              "      <td>1.000000</td>\n",
              "      <td>0.960887</td>\n",
              "      <td>-0.721076</td>\n",
              "    </tr>\n",
              "    <tr>\n",
              "      <th>highway-mpg</th>\n",
              "      <td>0.027517</td>\n",
              "      <td>-0.238526</td>\n",
              "      <td>-0.541073</td>\n",
              "      <td>-0.692163</td>\n",
              "      <td>-0.664386</td>\n",
              "      <td>-0.106532</td>\n",
              "      <td>-0.818683</td>\n",
              "      <td>-0.701740</td>\n",
              "      <td>-0.554029</td>\n",
              "      <td>-0.050301</td>\n",
              "      <td>0.237054</td>\n",
              "      <td>-0.765096</td>\n",
              "      <td>0.005024</td>\n",
              "      <td>0.960887</td>\n",
              "      <td>1.000000</td>\n",
              "      <td>-0.750252</td>\n",
              "    </tr>\n",
              "    <tr>\n",
              "      <th>price</th>\n",
              "      <td>-0.044708</td>\n",
              "      <td>0.193601</td>\n",
              "      <td>0.560112</td>\n",
              "      <td>0.679567</td>\n",
              "      <td>0.734369</td>\n",
              "      <td>0.080209</td>\n",
              "      <td>0.825527</td>\n",
              "      <td>0.860621</td>\n",
              "      <td>0.512338</td>\n",
              "      <td>0.046216</td>\n",
              "      <td>0.027986</td>\n",
              "      <td>0.747322</td>\n",
              "      <td>-0.129360</td>\n",
              "      <td>-0.721076</td>\n",
              "      <td>-0.750252</td>\n",
              "      <td>1.000000</td>\n",
              "    </tr>\n",
              "  </tbody>\n",
              "</table>\n",
              "</div>\n",
              "      <button class=\"colab-df-convert\" onclick=\"convertToInteractive('df-deb4cc47-b81c-48e8-a723-d25d98bff3a3')\"\n",
              "              title=\"Convert this dataframe to an interactive table.\"\n",
              "              style=\"display:none;\">\n",
              "        \n",
              "  <svg xmlns=\"http://www.w3.org/2000/svg\" height=\"24px\"viewBox=\"0 0 24 24\"\n",
              "       width=\"24px\">\n",
              "    <path d=\"M0 0h24v24H0V0z\" fill=\"none\"/>\n",
              "    <path d=\"M18.56 5.44l.94 2.06.94-2.06 2.06-.94-2.06-.94-.94-2.06-.94 2.06-2.06.94zm-11 1L8.5 8.5l.94-2.06 2.06-.94-2.06-.94L8.5 2.5l-.94 2.06-2.06.94zm10 10l.94 2.06.94-2.06 2.06-.94-2.06-.94-.94-2.06-.94 2.06-2.06.94z\"/><path d=\"M17.41 7.96l-1.37-1.37c-.4-.4-.92-.59-1.43-.59-.52 0-1.04.2-1.43.59L10.3 9.45l-7.72 7.72c-.78.78-.78 2.05 0 2.83L4 21.41c.39.39.9.59 1.41.59.51 0 1.02-.2 1.41-.59l7.78-7.78 2.81-2.81c.8-.78.8-2.07 0-2.86zM5.41 20L4 18.59l7.72-7.72 1.47 1.35L5.41 20z\"/>\n",
              "  </svg>\n",
              "      </button>\n",
              "      \n",
              "  <style>\n",
              "    .colab-df-container {\n",
              "      display:flex;\n",
              "      flex-wrap:wrap;\n",
              "      gap: 12px;\n",
              "    }\n",
              "\n",
              "    .colab-df-convert {\n",
              "      background-color: #E8F0FE;\n",
              "      border: none;\n",
              "      border-radius: 50%;\n",
              "      cursor: pointer;\n",
              "      display: none;\n",
              "      fill: #1967D2;\n",
              "      height: 32px;\n",
              "      padding: 0 0 0 0;\n",
              "      width: 32px;\n",
              "    }\n",
              "\n",
              "    .colab-df-convert:hover {\n",
              "      background-color: #E2EBFA;\n",
              "      box-shadow: 0px 1px 2px rgba(60, 64, 67, 0.3), 0px 1px 3px 1px rgba(60, 64, 67, 0.15);\n",
              "      fill: #174EA6;\n",
              "    }\n",
              "\n",
              "    [theme=dark] .colab-df-convert {\n",
              "      background-color: #3B4455;\n",
              "      fill: #D2E3FC;\n",
              "    }\n",
              "\n",
              "    [theme=dark] .colab-df-convert:hover {\n",
              "      background-color: #434B5C;\n",
              "      box-shadow: 0px 1px 3px 1px rgba(0, 0, 0, 0.15);\n",
              "      filter: drop-shadow(0px 1px 2px rgba(0, 0, 0, 0.3));\n",
              "      fill: #FFFFFF;\n",
              "    }\n",
              "  </style>\n",
              "\n",
              "      <script>\n",
              "        const buttonEl =\n",
              "          document.querySelector('#df-deb4cc47-b81c-48e8-a723-d25d98bff3a3 button.colab-df-convert');\n",
              "        buttonEl.style.display =\n",
              "          google.colab.kernel.accessAllowed ? 'block' : 'none';\n",
              "\n",
              "        async function convertToInteractive(key) {\n",
              "          const element = document.querySelector('#df-deb4cc47-b81c-48e8-a723-d25d98bff3a3');\n",
              "          const dataTable =\n",
              "            await google.colab.kernel.invokeFunction('convertToInteractive',\n",
              "                                                     [key], {});\n",
              "          if (!dataTable) return;\n",
              "\n",
              "          const docLinkHtml = 'Like what you see? Visit the ' +\n",
              "            '<a target=\"_blank\" href=https://colab.research.google.com/notebooks/data_table.ipynb>data table notebook</a>'\n",
              "            + ' to learn more about interactive tables.';\n",
              "          element.innerHTML = '';\n",
              "          dataTable['output_type'] = 'display_data';\n",
              "          await google.colab.output.renderOutput(dataTable, element);\n",
              "          const docLink = document.createElement('div');\n",
              "          docLink.innerHTML = docLinkHtml;\n",
              "          element.appendChild(docLink);\n",
              "        }\n",
              "      </script>\n",
              "    </div>\n",
              "  </div>\n",
              "  "
            ]
          },
          "metadata": {},
          "execution_count": 856
        }
      ]
    },
    {
      "cell_type": "markdown",
      "source": [
        "Para poder tener un mejor análisis usamos un heat map para ver la columna o fila de la correlación del precio con las demás variables."
      ],
      "metadata": {
        "id": "BZcUYwFxn2pD"
      }
    },
    {
      "cell_type": "code",
      "source": [
        "plt.figure(figsize=(16, 16), dpi=80)\n",
        "sns.heatmap(df[var_num].corr(),annot=True)\n",
        "plt.show()"
      ],
      "metadata": {
        "colab": {
          "base_uri": "https://localhost:8080/",
          "height": 1000
        },
        "id": "uEsBpN-XeNIE",
        "outputId": "3e2ce970-6829-4bdb-ff0c-92caa7f42bfb"
      },
      "execution_count": null,
      "outputs": [
        {
          "output_type": "display_data",
          "data": {
            "text/plain": [
              "<Figure size 1280x1280 with 2 Axes>"
            ],
            "image/png": "[encoded data removed]"
          },
          "metadata": {
            "needs_background": "light"
          }
        }
      ]
    },
    {
      "cell_type": "markdown",
      "source": [
        "# Transformacion de los datos\n",
        "\n",
        "Como pudimos ver en las gráficas la distribución de los datos no se comporta de una menra normal, por lo que necesitamos transformar los datos para que pudan comprtarce de una manera más normal, esto no va a hacer que se comporten de una menra ideal, pero va a mejorar el resultado. Además como hay datos con valores muy grandes lo qu debemos hacer es escalar las variables para poder hacer la transformación de los datos.\n",
        "<br>Vamos a usar la transformación de yeo jhonson.\n",
        "<br>En el caso del escalamiento vamos a usar la de mínimo y máximo, para que vaya de 0 a 1. Viendo el mapa de calor las variables que vamos a escoger para nuestro modelo es horsepower, engine-size y curb-weight"
      ],
      "metadata": {
        "id": "yI9PT_NJVsII"
      }
    },
    {
      "cell_type": "markdown",
      "source": [
        "Además de no olvidar escalar y transforma el target"
      ],
      "metadata": {
        "id": "SGcYKbyZZ2Y_"
      }
    },
    {
      "cell_type": "code",
      "source": [
        "df['minmax_price'] = (df['price']-df['price'].min())/ (df['price'].max()-df['price'].min())"
      ],
      "metadata": {
        "id": "oSPlgLRoZdkR"
      },
      "execution_count": null,
      "outputs": []
    },
    {
      "cell_type": "code",
      "source": [
        "from scipy import stats\n",
        "transformed, lbda = stats.yeojohnson(df['minmax_price'])\n",
        "df['t_minmax_price'] = transformed\n",
        "lbda"
      ],
      "metadata": {
        "colab": {
          "base_uri": "https://localhost:8080/"
        },
        "id": "eHmGSuFsafDU",
        "outputId": "fdfe4489-20e3-404e-c657-58fd56102ef7"
      },
      "execution_count": null,
      "outputs": [
        {
          "output_type": "execute_result",
          "data": {
            "text/plain": [
              "-3.937190628051185"
            ]
          },
          "metadata": {},
          "execution_count": 859
        }
      ]
    },
    {
      "cell_type": "code",
      "source": [
        "data_normal = df[\"t_minmax_price\"]\n",
        "data_standard = (data_normal-data_normal.mean())/data_normal.std(ddof=1)\n",
        "data_standard = np.sort(data_standard)\n",
        "i= np.array(range(1,len(df[\"t_minmax_price\"])+1))\n",
        "P = (i-0.5)/len(data_normal)\n",
        "theo_q=norm.ppf(P)\n",
        "x = np.linspace(-5,5,50)\n",
        "plt.plot(x,x)\n",
        "plt.scatter(theo_q,data_standard)\n",
        "plt.show()"
      ],
      "metadata": {
        "colab": {
          "base_uri": "https://localhost:8080/",
          "height": 265
        },
        "id": "DXdzXtX8aqwf",
        "outputId": "ed44cdb7-01fb-4cef-921e-22a85c9f9d8e"
      },
      "execution_count": null,
      "outputs": [
        {
          "output_type": "display_data",
          "data": {
            "text/plain": [
              "<Figure size 432x288 with 1 Axes>"
            ],
            "image/png": "[encoded data removed]"
          },
          "metadata": {
            "needs_background": "light"
          }
        }
      ]
    },
    {
      "cell_type": "markdown",
      "source": [
        "Vemos que mejoro la distribución del precio haciendolo más normal.\n",
        "<br> Lo hacemos con las siguientes variables escogidas.\n",
        "## Curb weight"
      ],
      "metadata": {
        "id": "GnHVwJAbpLNg"
      }
    },
    {
      "cell_type": "code",
      "source": [
        "df['minmax_curb_weight'] = (df['curb-weight']-df['curb-weight'].min())/ (df['curb-weight'].max()-df['curb-weight'].min())"
      ],
      "metadata": {
        "id": "uR-XP89Dav5o"
      },
      "execution_count": null,
      "outputs": []
    },
    {
      "cell_type": "code",
      "source": [
        "transformed, lbda = stats.yeojohnson(df['minmax_curb_weight'])\n",
        "df['t_minmax_curb_weight'] = transformed\n",
        "lbda"
      ],
      "metadata": {
        "colab": {
          "base_uri": "https://localhost:8080/"
        },
        "id": "KBma1NKOctaK",
        "outputId": "abc565f6-5906-4e8c-a312-e8bb550cb6d2"
      },
      "execution_count": null,
      "outputs": [
        {
          "output_type": "execute_result",
          "data": {
            "text/plain": [
              "-1.086159711314654"
            ]
          },
          "metadata": {},
          "execution_count": 862
        }
      ]
    },
    {
      "cell_type": "code",
      "source": [
        "data_normal = df[\"t_minmax_curb_weight\"]\n",
        "data_standard = (data_normal-data_normal.mean())/data_normal.std(ddof=1)\n",
        "data_standard = np.sort(data_standard)\n",
        "i= np.array(range(1,len(df[\"t_minmax_curb_weight\"])+1))\n",
        "P = (i-0.5)/len(data_normal)\n",
        "theo_q=norm.ppf(P)\n",
        "x = np.linspace(-5,5,50)\n",
        "plt.plot(x,x)\n",
        "plt.scatter(theo_q,data_standard)\n",
        "plt.show()"
      ],
      "metadata": {
        "colab": {
          "base_uri": "https://localhost:8080/",
          "height": 265
        },
        "id": "hsg3LKvLdClX",
        "outputId": "ba939209-38c0-4325-f224-47ca5d613a66"
      },
      "execution_count": null,
      "outputs": [
        {
          "output_type": "display_data",
          "data": {
            "text/plain": [
              "<Figure size 432x288 with 1 Axes>"
            ],
            "image/png": "[encoded data removed]"
          },
          "metadata": {
            "needs_background": "light"
          }
        }
      ]
    },
    {
      "cell_type": "markdown",
      "source": [
        "## Engine size"
      ],
      "metadata": {
        "id": "wYD2ssrYpZk6"
      }
    },
    {
      "cell_type": "code",
      "source": [
        "df['minmax_engine-size'] = (df['engine-size']-df['engine-size'].min())/ (df['engine-size'].max()-df['engine-size'].min())"
      ],
      "metadata": {
        "id": "563SJPtjdKlr"
      },
      "execution_count": null,
      "outputs": []
    },
    {
      "cell_type": "code",
      "source": [
        "transformed, lbda = stats.yeojohnson(df['minmax_engine-size'])\n",
        "df['t_minmax_engine-size'] = transformed\n",
        "lbda"
      ],
      "metadata": {
        "colab": {
          "base_uri": "https://localhost:8080/"
        },
        "id": "b-i38yevddY2",
        "outputId": "0bc3fa8a-2960-4b7b-80f1-aa953dc485d1"
      },
      "execution_count": null,
      "outputs": [
        {
          "output_type": "execute_result",
          "data": {
            "text/plain": [
              "-4.502338134046304"
            ]
          },
          "metadata": {},
          "execution_count": 865
        }
      ]
    },
    {
      "cell_type": "code",
      "source": [
        "data_normal = df[\"t_minmax_engine-size\"]\n",
        "data_standard = (data_normal-data_normal.mean())/data_normal.std(ddof=1)\n",
        "data_standard = np.sort(data_standard)\n",
        "i= np.array(range(1,len(df[\"t_minmax_engine-size\"])+1))\n",
        "P = (i-0.5)/len(data_normal)\n",
        "theo_q=norm.ppf(P)\n",
        "x = np.linspace(-5,5,50)\n",
        "plt.plot(x,x)\n",
        "plt.scatter(theo_q,data_standard)\n",
        "plt.show()"
      ],
      "metadata": {
        "colab": {
          "base_uri": "https://localhost:8080/",
          "height": 265
        },
        "id": "iIT3h2U2dkrH",
        "outputId": "2de1ea5c-0dcb-4e35-aabb-aa3e6be2af38"
      },
      "execution_count": null,
      "outputs": [
        {
          "output_type": "display_data",
          "data": {
            "text/plain": [
              "<Figure size 432x288 with 1 Axes>"
            ],
            "image/png": "[encoded data removed]"
          },
          "metadata": {
            "needs_background": "light"
          }
        }
      ]
    },
    {
      "cell_type": "markdown",
      "source": [
        "## Horsepower"
      ],
      "metadata": {
        "id": "Ka3bag4lpbzK"
      }
    },
    {
      "cell_type": "code",
      "source": [
        "df['minmax_horsepower'] = (df['horsepower']-df['horsepower'].min())/ (df['horsepower'].max()-df['horsepower'].min())"
      ],
      "metadata": {
        "id": "F9RdUUlVdqj-"
      },
      "execution_count": null,
      "outputs": []
    },
    {
      "cell_type": "code",
      "source": [
        "transformed, lbda = stats.yeojohnson(df['minmax_horsepower'])\n",
        "df['t_minmax_horsepower'] = transformed\n",
        "lbda"
      ],
      "metadata": {
        "colab": {
          "base_uri": "https://localhost:8080/"
        },
        "id": "XQ4vbtnqd46q",
        "outputId": "a472281b-4ec0-425a-8630-a8dbe41948d2"
      },
      "execution_count": null,
      "outputs": [
        {
          "output_type": "execute_result",
          "data": {
            "text/plain": [
              "-3.442913198187792"
            ]
          },
          "metadata": {},
          "execution_count": 868
        }
      ]
    },
    {
      "cell_type": "code",
      "source": [
        "data_normal = df[\"t_minmax_horsepower\"]\n",
        "data_standard = (data_normal-data_normal.mean())/data_normal.std(ddof=1)\n",
        "data_standard = np.sort(data_standard)\n",
        "i= np.array(range(1,len(df[\"t_minmax_horsepower\"])+1))\n",
        "P = (i-0.5)/len(data_normal)\n",
        "theo_q=norm.ppf(P)\n",
        "x = np.linspace(-5,5,50)\n",
        "plt.plot(x,x)\n",
        "plt.scatter(theo_q,data_standard)\n",
        "plt.show()"
      ],
      "metadata": {
        "colab": {
          "base_uri": "https://localhost:8080/",
          "height": 265
        },
        "id": "8UmTH1jZd97n",
        "outputId": "af4b735d-aded-424d-d4fd-8232d5da84ad"
      },
      "execution_count": null,
      "outputs": [
        {
          "output_type": "display_data",
          "data": {
            "text/plain": [
              "<Figure size 432x288 with 1 Axes>"
            ],
            "image/png": "[encoded data removed]"
          },
          "metadata": {
            "needs_background": "light"
          }
        }
      ]
    },
    {
      "cell_type": "markdown",
      "source": [
        "# Analisis de variables categoricas\n",
        "En este caso como yo no cuento con los conocimientos necesarios de las características categóricas de los carros, como lo es la marca, su tipo de transmisión, el número de puertas, el tipo de gasolina que usa, etc. Decidimos el ingresar o usar todas las variables categóricas de la Dataset.\n",
        "<br> Para pasar las variables categóricas a valores numéricos hicimos lo sigiente: en caso de solo tener dos categorías usamos LabelEncoder, en caso de tener más de dos usamos Dummy Variables.\n",
        "<br> Vemos que variables tiene más de dos categorías."
      ],
      "metadata": {
        "id": "uD6Zi9fFfID5"
      }
    },
    {
      "cell_type": "code",
      "source": [
        "df.columns"
      ],
      "metadata": {
        "colab": {
          "base_uri": "https://localhost:8080/"
        },
        "id": "813mMHVTb_uB",
        "outputId": "a50964ff-a849-464f-833d-70df53a1fe1d"
      },
      "execution_count": null,
      "outputs": [
        {
          "output_type": "execute_result",
          "data": {
            "text/plain": [
              "Index(['symboling', 'normalized-losses', 'fuel-type', 'aspiration',\n",
              "       'number-of-doors', 'engine-location', 'wheel-base', 'length', 'width',\n",
              "       'height', 'curb-weight', 'engine-size', 'bore', 'stroke',\n",
              "       'compression-ratio', 'horsepower', 'peak-rpm', 'city-mpg',\n",
              "       'highway-mpg', 'alfa-romero', 'audi', 'bmw', 'chevrolet', 'dodge',\n",
              "       'honda', 'isuzu', 'jaguar', 'mazda', 'mercedes-benz', 'mercury',\n",
              "       'mitsubishi', 'nissan', 'peugot', 'plymouth', 'porsche', 'renault',\n",
              "       'saab', 'subaru', 'toyota', 'volkswagen', 'volvo', 'convertible',\n",
              "       'hardtop', 'hatchback', 'sedan', 'wagon', '4wd', 'fwd', 'rwd', '1bbl',\n",
              "       '2bbl', '4bbl', 'idi', 'mfi', 'mpfi', 'spdi', 'spfi', 'dohc', 'dohcv',\n",
              "       'l', 'ohc', 'ohcf', 'ohcv', 'rotor', 'eight', 'five', 'four', 'six',\n",
              "       'three', 'twelve', 'two', 'price', 'minmax_price', 't_minmax_price',\n",
              "       'minmax_curb_weight', 't_minmax_curb_weight', 'minmax_engine-size',\n",
              "       't_minmax_engine-size', 'minmax_horsepower', 't_minmax_horsepower'],\n",
              "      dtype='object')"
            ]
          },
          "metadata": {},
          "execution_count": 870
        }
      ]
    },
    {
      "cell_type": "code",
      "source": [
        "df.head()"
      ],
      "metadata": {
        "id": "vEVZ-zQmgVPQ",
        "colab": {
          "base_uri": "https://localhost:8080/",
          "height": 334
        },
        "outputId": "16fedc2a-514c-461d-aa48-05a1908ac359"
      },
      "execution_count": null,
      "outputs": [
        {
          "output_type": "execute_result",
          "data": {
            "text/plain": [
              "     symboling  normalized-losses  fuel-type  aspiration  number-of-doors  \\\n",
              "177         -1          65.000000          1           0                0   \n",
              "75           1         123.026549          1           1                1   \n",
              "174         -1          65.000000          0           1                0   \n",
              "31           2         137.000000          1           0                1   \n",
              "12           0         188.000000          1           0                1   \n",
              "\n",
              "     engine-location  wheel-base  length  width  height  ...  two    price  \\\n",
              "177                0       102.4   175.6   66.5    53.9  ...    0  11248.0   \n",
              "75                 0       102.7   178.4   68.0    54.8  ...    0  16503.0   \n",
              "174                0       102.4   175.6   66.5    54.9  ...    0  10698.0   \n",
              "31                 0        86.6   144.6   63.9    50.8  ...    0   6855.0   \n",
              "12                 0       101.2   176.8   64.8    54.3  ...    0  20970.0   \n",
              "\n",
              "     minmax_price  t_minmax_price  minmax_curb_weight  t_minmax_curb_weight  \\\n",
              "177      0.152177        0.108576            0.284379              0.219142   \n",
              "75       0.282632        0.158666            0.485536              0.321693   \n",
              "174      0.138523        0.101588            0.294170              0.224905   \n",
              "31       0.043121        0.038895            0.000000             -0.000000   \n",
              "12       0.393526        0.185217            0.396529              0.280116   \n",
              "\n",
              "     minmax_engine-size  t_minmax_engine-size  minmax_horsepower  \\\n",
              "177            0.203125              0.125507           0.169492   \n",
              "75             0.273438              0.147304           0.521186   \n",
              "174            0.156250              0.106580           0.088983   \n",
              "31             0.085938              0.068872           0.101695   \n",
              "12             0.367188              0.167780           0.292373   \n",
              "\n",
              "     t_minmax_horsepower  \n",
              "177             0.121031  \n",
              "75              0.221929  \n",
              "174             0.073874  \n",
              "31              0.082357  \n",
              "12              0.170343  \n",
              "\n",
              "[5 rows x 80 columns]"
            ],
            "text/html": [
              "\n",
              "  <div id=\"df-09585999-d4c7-40ca-a84c-f964c95d0251\">\n",
              "    <div class=\"colab-df-container\">\n",
              "      <div>\n",
              "<style scoped>\n",
              "    .dataframe tbody tr th:only-of-type {\n",
              "        vertical-align: middle;\n",
              "    }\n",
              "\n",
              "    .dataframe tbody tr th {\n",
              "        vertical-align: top;\n",
              "    }\n",
              "\n",
              "    .dataframe thead th {\n",
              "        text-align: right;\n",
              "    }\n",
              "</style>\n",
              "<table border=\"1\" class=\"dataframe\">\n",
              "  <thead>\n",
              "    <tr style=\"text-align: right;\">\n",
              "      <th></th>\n",
              "      <th>symboling</th>\n",
              "      <th>normalized-losses</th>\n",
              "      <th>fuel-type</th>\n",
              "      <th>aspiration</th>\n",
              "      <th>number-of-doors</th>\n",
              "      <th>engine-location</th>\n",
              "      <th>wheel-base</th>\n",
              "      <th>length</th>\n",
              "      <th>width</th>\n",
              "      <th>height</th>\n",
              "      <th>...</th>\n",
              "      <th>two</th>\n",
              "      <th>price</th>\n",
              "      <th>minmax_price</th>\n",
              "      <th>t_minmax_price</th>\n",
              "      <th>minmax_curb_weight</th>\n",
              "      <th>t_minmax_curb_weight</th>\n",
              "      <th>minmax_engine-size</th>\n",
              "      <th>t_minmax_engine-size</th>\n",
              "      <th>minmax_horsepower</th>\n",
              "      <th>t_minmax_horsepower</th>\n",
              "    </tr>\n",
              "  </thead>\n",
              "  <tbody>\n",
              "    <tr>\n",
              "      <th>177</th>\n",
              "      <td>-1</td>\n",
              "      <td>65.000000</td>\n",
              "      <td>1</td>\n",
              "      <td>0</td>\n",
              "      <td>0</td>\n",
              "      <td>0</td>\n",
              "      <td>102.4</td>\n",
              "      <td>175.6</td>\n",
              "      <td>66.5</td>\n",
              "      <td>53.9</td>\n",
              "      <td>...</td>\n",
              "      <td>0</td>\n",
              "      <td>11248.0</td>\n",
              "      <td>0.152177</td>\n",
              "      <td>0.108576</td>\n",
              "      <td>0.284379</td>\n",
              "      <td>0.219142</td>\n",
              "      <td>0.203125</td>\n",
              "      <td>0.125507</td>\n",
              "      <td>0.169492</td>\n",
              "      <td>0.121031</td>\n",
              "    </tr>\n",
              "    <tr>\n",
              "      <th>75</th>\n",
              "      <td>1</td>\n",
              "      <td>123.026549</td>\n",
              "      <td>1</td>\n",
              "      <td>1</td>\n",
              "      <td>1</td>\n",
              "      <td>0</td>\n",
              "      <td>102.7</td>\n",
              "      <td>178.4</td>\n",
              "      <td>68.0</td>\n",
              "      <td>54.8</td>\n",
              "      <td>...</td>\n",
              "      <td>0</td>\n",
              "      <td>16503.0</td>\n",
              "      <td>0.282632</td>\n",
              "      <td>0.158666</td>\n",
              "      <td>0.485536</td>\n",
              "      <td>0.321693</td>\n",
              "      <td>0.273438</td>\n",
              "      <td>0.147304</td>\n",
              "      <td>0.521186</td>\n",
              "      <td>0.221929</td>\n",
              "    </tr>\n",
              "    <tr>\n",
              "      <th>174</th>\n",
              "      <td>-1</td>\n",
              "      <td>65.000000</td>\n",
              "      <td>0</td>\n",
              "      <td>1</td>\n",
              "      <td>0</td>\n",
              "      <td>0</td>\n",
              "      <td>102.4</td>\n",
              "      <td>175.6</td>\n",
              "      <td>66.5</td>\n",
              "      <td>54.9</td>\n",
              "      <td>...</td>\n",
              "      <td>0</td>\n",
              "      <td>10698.0</td>\n",
              "      <td>0.138523</td>\n",
              "      <td>0.101588</td>\n",
              "      <td>0.294170</td>\n",
              "      <td>0.224905</td>\n",
              "      <td>0.156250</td>\n",
              "      <td>0.106580</td>\n",
              "      <td>0.088983</td>\n",
              "      <td>0.073874</td>\n",
              "    </tr>\n",
              "    <tr>\n",
              "      <th>31</th>\n",
              "      <td>2</td>\n",
              "      <td>137.000000</td>\n",
              "      <td>1</td>\n",
              "      <td>0</td>\n",
              "      <td>1</td>\n",
              "      <td>0</td>\n",
              "      <td>86.6</td>\n",
              "      <td>144.6</td>\n",
              "      <td>63.9</td>\n",
              "      <td>50.8</td>\n",
              "      <td>...</td>\n",
              "      <td>0</td>\n",
              "      <td>6855.0</td>\n",
              "      <td>0.043121</td>\n",
              "      <td>0.038895</td>\n",
              "      <td>0.000000</td>\n",
              "      <td>-0.000000</td>\n",
              "      <td>0.085938</td>\n",
              "      <td>0.068872</td>\n",
              "      <td>0.101695</td>\n",
              "      <td>0.082357</td>\n",
              "    </tr>\n",
              "    <tr>\n",
              "      <th>12</th>\n",
              "      <td>0</td>\n",
              "      <td>188.000000</td>\n",
              "      <td>1</td>\n",
              "      <td>0</td>\n",
              "      <td>1</td>\n",
              "      <td>0</td>\n",
              "      <td>101.2</td>\n",
              "      <td>176.8</td>\n",
              "      <td>64.8</td>\n",
              "      <td>54.3</td>\n",
              "      <td>...</td>\n",
              "      <td>0</td>\n",
              "      <td>20970.0</td>\n",
              "      <td>0.393526</td>\n",
              "      <td>0.185217</td>\n",
              "      <td>0.396529</td>\n",
              "      <td>0.280116</td>\n",
              "      <td>0.367188</td>\n",
              "      <td>0.167780</td>\n",
              "      <td>0.292373</td>\n",
              "      <td>0.170343</td>\n",
              "    </tr>\n",
              "  </tbody>\n",
              "</table>\n",
              "<p>5 rows × 80 columns</p>\n",
              "</div>\n",
              "      <button class=\"colab-df-convert\" onclick=\"convertToInteractive('df-09585999-d4c7-40ca-a84c-f964c95d0251')\"\n",
              "              title=\"Convert this dataframe to an interactive table.\"\n",
              "              style=\"display:none;\">\n",
              "        \n",
              "  <svg xmlns=\"http://www.w3.org/2000/svg\" height=\"24px\"viewBox=\"0 0 24 24\"\n",
              "       width=\"24px\">\n",
              "    <path d=\"M0 0h24v24H0V0z\" fill=\"none\"/>\n",
              "    <path d=\"M18.56 5.44l.94 2.06.94-2.06 2.06-.94-2.06-.94-.94-2.06-.94 2.06-2.06.94zm-11 1L8.5 8.5l.94-2.06 2.06-.94-2.06-.94L8.5 2.5l-.94 2.06-2.06.94zm10 10l.94 2.06.94-2.06 2.06-.94-2.06-.94-.94-2.06-.94 2.06-2.06.94z\"/><path d=\"M17.41 7.96l-1.37-1.37c-.4-.4-.92-.59-1.43-.59-.52 0-1.04.2-1.43.59L10.3 9.45l-7.72 7.72c-.78.78-.78 2.05 0 2.83L4 21.41c.39.39.9.59 1.41.59.51 0 1.02-.2 1.41-.59l7.78-7.78 2.81-2.81c.8-.78.8-2.07 0-2.86zM5.41 20L4 18.59l7.72-7.72 1.47 1.35L5.41 20z\"/>\n",
              "  </svg>\n",
              "      </button>\n",
              "      \n",
              "  <style>\n",
              "    .colab-df-container {\n",
              "      display:flex;\n",
              "      flex-wrap:wrap;\n",
              "      gap: 12px;\n",
              "    }\n",
              "\n",
              "    .colab-df-convert {\n",
              "      background-color: #E8F0FE;\n",
              "      border: none;\n",
              "      border-radius: 50%;\n",
              "      cursor: pointer;\n",
              "      display: none;\n",
              "      fill: #1967D2;\n",
              "      height: 32px;\n",
              "      padding: 0 0 0 0;\n",
              "      width: 32px;\n",
              "    }\n",
              "\n",
              "    .colab-df-convert:hover {\n",
              "      background-color: #E2EBFA;\n",
              "      box-shadow: 0px 1px 2px rgba(60, 64, 67, 0.3), 0px 1px 3px 1px rgba(60, 64, 67, 0.15);\n",
              "      fill: #174EA6;\n",
              "    }\n",
              "\n",
              "    [theme=dark] .colab-df-convert {\n",
              "      background-color: #3B4455;\n",
              "      fill: #D2E3FC;\n",
              "    }\n",
              "\n",
              "    [theme=dark] .colab-df-convert:hover {\n",
              "      background-color: #434B5C;\n",
              "      box-shadow: 0px 1px 3px 1px rgba(0, 0, 0, 0.15);\n",
              "      filter: drop-shadow(0px 1px 2px rgba(0, 0, 0, 0.3));\n",
              "      fill: #FFFFFF;\n",
              "    }\n",
              "  </style>\n",
              "\n",
              "      <script>\n",
              "        const buttonEl =\n",
              "          document.querySelector('#df-09585999-d4c7-40ca-a84c-f964c95d0251 button.colab-df-convert');\n",
              "        buttonEl.style.display =\n",
              "          google.colab.kernel.accessAllowed ? 'block' : 'none';\n",
              "\n",
              "        async function convertToInteractive(key) {\n",
              "          const element = document.querySelector('#df-09585999-d4c7-40ca-a84c-f964c95d0251');\n",
              "          const dataTable =\n",
              "            await google.colab.kernel.invokeFunction('convertToInteractive',\n",
              "                                                     [key], {});\n",
              "          if (!dataTable) return;\n",
              "\n",
              "          const docLinkHtml = 'Like what you see? Visit the ' +\n",
              "            '<a target=\"_blank\" href=https://colab.research.google.com/notebooks/data_table.ipynb>data table notebook</a>'\n",
              "            + ' to learn more about interactive tables.';\n",
              "          element.innerHTML = '';\n",
              "          dataTable['output_type'] = 'display_data';\n",
              "          await google.colab.output.renderOutput(dataTable, element);\n",
              "          const docLink = document.createElement('div');\n",
              "          docLink.innerHTML = docLinkHtml;\n",
              "          element.appendChild(docLink);\n",
              "        }\n",
              "      </script>\n",
              "    </div>\n",
              "  </div>\n",
              "  "
            ]
          },
          "metadata": {},
          "execution_count": 871
        }
      ]
    },
    {
      "cell_type": "markdown",
      "source": [
        "Cambiamos las columnas numéricas a las variables escaladas y transformadas."
      ],
      "metadata": {
        "id": "bDjLUKldq0US"
      }
    },
    {
      "cell_type": "code",
      "source": [
        "df2[\"price\"] = df[\"minmax_price\"]\n",
        "df2[\"curb-weight\"] = df[\"minmax_curb_weight\"]\n",
        "df2[\"engine-size\"] = df[\"minmax_engine-size\"]\n",
        "df2[\"horsepower\"] = df[\"minmax_horsepower\"]"
      ],
      "metadata": {
        "id": "MDklu8lZqgxV"
      },
      "execution_count": null,
      "outputs": []
    },
    {
      "cell_type": "code",
      "source": [
        "df2.head()"
      ],
      "metadata": {
        "colab": {
          "base_uri": "https://localhost:8080/",
          "height": 297
        },
        "id": "aIGuUtTcrfX1",
        "outputId": "ffec528f-5fae-43f0-8f6e-f06953bae5cb"
      },
      "execution_count": null,
      "outputs": [
        {
          "output_type": "execute_result",
          "data": {
            "text/plain": [
              "     symboling  normalized-losses  fuel-type  aspiration  number-of-doors  \\\n",
              "177         -1          65.000000          1           0                0   \n",
              "75           1         123.026549          1           1                1   \n",
              "174         -1          65.000000          0           1                0   \n",
              "31           2         137.000000          1           0                1   \n",
              "12           0         188.000000          1           0                1   \n",
              "\n",
              "     engine-location  wheel-base  length  width  height  ...  ohcv  rotor  \\\n",
              "177                0       102.4   175.6   66.5    53.9  ...     0      0   \n",
              "75                 0       102.7   178.4   68.0    54.8  ...     0      0   \n",
              "174                0       102.4   175.6   66.5    54.9  ...     0      0   \n",
              "31                 0        86.6   144.6   63.9    50.8  ...     0      0   \n",
              "12                 0       101.2   176.8   64.8    54.3  ...     0      0   \n",
              "\n",
              "     eight  five  four  six  three  twelve  two     price  \n",
              "177      0     0     1    0      0       0    0  0.152177  \n",
              "75       0     0     1    0      0       0    0  0.282632  \n",
              "174      0     0     1    0      0       0    0  0.138523  \n",
              "31       0     0     1    0      0       0    0  0.043121  \n",
              "12       0     0     0    1      0       0    0  0.393526  \n",
              "\n",
              "[5 rows x 72 columns]"
            ],
            "text/html": [
              "\n",
              "  <div id=\"df-9fc17418-a2a4-40fc-bdfc-b36931cffdd8\">\n",
              "    <div class=\"colab-df-container\">\n",
              "      <div>\n",
              "<style scoped>\n",
              "    .dataframe tbody tr th:only-of-type {\n",
              "        vertical-align: middle;\n",
              "    }\n",
              "\n",
              "    .dataframe tbody tr th {\n",
              "        vertical-align: top;\n",
              "    }\n",
              "\n",
              "    .dataframe thead th {\n",
              "        text-align: right;\n",
              "    }\n",
              "</style>\n",
              "<table border=\"1\" class=\"dataframe\">\n",
              "  <thead>\n",
              "    <tr style=\"text-align: right;\">\n",
              "      <th></th>\n",
              "      <th>symboling</th>\n",
              "      <th>normalized-losses</th>\n",
              "      <th>fuel-type</th>\n",
              "      <th>aspiration</th>\n",
              "      <th>number-of-doors</th>\n",
              "      <th>engine-location</th>\n",
              "      <th>wheel-base</th>\n",
              "      <th>length</th>\n",
              "      <th>width</th>\n",
              "      <th>height</th>\n",
              "      <th>...</th>\n",
              "      <th>ohcv</th>\n",
              "      <th>rotor</th>\n",
              "      <th>eight</th>\n",
              "      <th>five</th>\n",
              "      <th>four</th>\n",
              "      <th>six</th>\n",
              "      <th>three</th>\n",
              "      <th>twelve</th>\n",
              "      <th>two</th>\n",
              "      <th>price</th>\n",
              "    </tr>\n",
              "  </thead>\n",
              "  <tbody>\n",
              "    <tr>\n",
              "      <th>177</th>\n",
              "      <td>-1</td>\n",
              "      <td>65.000000</td>\n",
              "      <td>1</td>\n",
              "      <td>0</td>\n",
              "      <td>0</td>\n",
              "      <td>0</td>\n",
              "      <td>102.4</td>\n",
              "      <td>175.6</td>\n",
              "      <td>66.5</td>\n",
              "      <td>53.9</td>\n",
              "      <td>...</td>\n",
              "      <td>0</td>\n",
              "      <td>0</td>\n",
              "      <td>0</td>\n",
              "      <td>0</td>\n",
              "      <td>1</td>\n",
              "      <td>0</td>\n",
              "      <td>0</td>\n",
              "      <td>0</td>\n",
              "      <td>0</td>\n",
              "      <td>0.152177</td>\n",
              "    </tr>\n",
              "    <tr>\n",
              "      <th>75</th>\n",
              "      <td>1</td>\n",
              "      <td>123.026549</td>\n",
              "      <td>1</td>\n",
              "      <td>1</td>\n",
              "      <td>1</td>\n",
              "      <td>0</td>\n",
              "      <td>102.7</td>\n",
              "      <td>178.4</td>\n",
              "      <td>68.0</td>\n",
              "      <td>54.8</td>\n",
              "      <td>...</td>\n",
              "      <td>0</td>\n",
              "      <td>0</td>\n",
              "      <td>0</td>\n",
              "      <td>0</td>\n",
              "      <td>1</td>\n",
              "      <td>0</td>\n",
              "      <td>0</td>\n",
              "      <td>0</td>\n",
              "      <td>0</td>\n",
              "      <td>0.282632</td>\n",
              "    </tr>\n",
              "    <tr>\n",
              "      <th>174</th>\n",
              "      <td>-1</td>\n",
              "      <td>65.000000</td>\n",
              "      <td>0</td>\n",
              "      <td>1</td>\n",
              "      <td>0</td>\n",
              "      <td>0</td>\n",
              "      <td>102.4</td>\n",
              "      <td>175.6</td>\n",
              "      <td>66.5</td>\n",
              "      <td>54.9</td>\n",
              "      <td>...</td>\n",
              "      <td>0</td>\n",
              "      <td>0</td>\n",
              "      <td>0</td>\n",
              "      <td>0</td>\n",
              "      <td>1</td>\n",
              "      <td>0</td>\n",
              "      <td>0</td>\n",
              "      <td>0</td>\n",
              "      <td>0</td>\n",
              "      <td>0.138523</td>\n",
              "    </tr>\n",
              "    <tr>\n",
              "      <th>31</th>\n",
              "      <td>2</td>\n",
              "      <td>137.000000</td>\n",
              "      <td>1</td>\n",
              "      <td>0</td>\n",
              "      <td>1</td>\n",
              "      <td>0</td>\n",
              "      <td>86.6</td>\n",
              "      <td>144.6</td>\n",
              "      <td>63.9</td>\n",
              "      <td>50.8</td>\n",
              "      <td>...</td>\n",
              "      <td>0</td>\n",
              "      <td>0</td>\n",
              "      <td>0</td>\n",
              "      <td>0</td>\n",
              "      <td>1</td>\n",
              "      <td>0</td>\n",
              "      <td>0</td>\n",
              "      <td>0</td>\n",
              "      <td>0</td>\n",
              "      <td>0.043121</td>\n",
              "    </tr>\n",
              "    <tr>\n",
              "      <th>12</th>\n",
              "      <td>0</td>\n",
              "      <td>188.000000</td>\n",
              "      <td>1</td>\n",
              "      <td>0</td>\n",
              "      <td>1</td>\n",
              "      <td>0</td>\n",
              "      <td>101.2</td>\n",
              "      <td>176.8</td>\n",
              "      <td>64.8</td>\n",
              "      <td>54.3</td>\n",
              "      <td>...</td>\n",
              "      <td>0</td>\n",
              "      <td>0</td>\n",
              "      <td>0</td>\n",
              "      <td>0</td>\n",
              "      <td>0</td>\n",
              "      <td>1</td>\n",
              "      <td>0</td>\n",
              "      <td>0</td>\n",
              "      <td>0</td>\n",
              "      <td>0.393526</td>\n",
              "    </tr>\n",
              "  </tbody>\n",
              "</table>\n",
              "<p>5 rows × 72 columns</p>\n",
              "</div>\n",
              "      <button class=\"colab-df-convert\" onclick=\"convertToInteractive('df-9fc17418-a2a4-40fc-bdfc-b36931cffdd8')\"\n",
              "              title=\"Convert this dataframe to an interactive table.\"\n",
              "              style=\"display:none;\">\n",
              "        \n",
              "  <svg xmlns=\"http://www.w3.org/2000/svg\" height=\"24px\"viewBox=\"0 0 24 24\"\n",
              "       width=\"24px\">\n",
              "    <path d=\"M0 0h24v24H0V0z\" fill=\"none\"/>\n",
              "    <path d=\"M18.56 5.44l.94 2.06.94-2.06 2.06-.94-2.06-.94-.94-2.06-.94 2.06-2.06.94zm-11 1L8.5 8.5l.94-2.06 2.06-.94-2.06-.94L8.5 2.5l-.94 2.06-2.06.94zm10 10l.94 2.06.94-2.06 2.06-.94-2.06-.94-.94-2.06-.94 2.06-2.06.94z\"/><path d=\"M17.41 7.96l-1.37-1.37c-.4-.4-.92-.59-1.43-.59-.52 0-1.04.2-1.43.59L10.3 9.45l-7.72 7.72c-.78.78-.78 2.05 0 2.83L4 21.41c.39.39.9.59 1.41.59.51 0 1.02-.2 1.41-.59l7.78-7.78 2.81-2.81c.8-.78.8-2.07 0-2.86zM5.41 20L4 18.59l7.72-7.72 1.47 1.35L5.41 20z\"/>\n",
              "  </svg>\n",
              "      </button>\n",
              "      \n",
              "  <style>\n",
              "    .colab-df-container {\n",
              "      display:flex;\n",
              "      flex-wrap:wrap;\n",
              "      gap: 12px;\n",
              "    }\n",
              "\n",
              "    .colab-df-convert {\n",
              "      background-color: #E8F0FE;\n",
              "      border: none;\n",
              "      border-radius: 50%;\n",
              "      cursor: pointer;\n",
              "      display: none;\n",
              "      fill: #1967D2;\n",
              "      height: 32px;\n",
              "      padding: 0 0 0 0;\n",
              "      width: 32px;\n",
              "    }\n",
              "\n",
              "    .colab-df-convert:hover {\n",
              "      background-color: #E2EBFA;\n",
              "      box-shadow: 0px 1px 2px rgba(60, 64, 67, 0.3), 0px 1px 3px 1px rgba(60, 64, 67, 0.15);\n",
              "      fill: #174EA6;\n",
              "    }\n",
              "\n",
              "    [theme=dark] .colab-df-convert {\n",
              "      background-color: #3B4455;\n",
              "      fill: #D2E3FC;\n",
              "    }\n",
              "\n",
              "    [theme=dark] .colab-df-convert:hover {\n",
              "      background-color: #434B5C;\n",
              "      box-shadow: 0px 1px 3px 1px rgba(0, 0, 0, 0.15);\n",
              "      filter: drop-shadow(0px 1px 2px rgba(0, 0, 0, 0.3));\n",
              "      fill: #FFFFFF;\n",
              "    }\n",
              "  </style>\n",
              "\n",
              "      <script>\n",
              "        const buttonEl =\n",
              "          document.querySelector('#df-9fc17418-a2a4-40fc-bdfc-b36931cffdd8 button.colab-df-convert');\n",
              "        buttonEl.style.display =\n",
              "          google.colab.kernel.accessAllowed ? 'block' : 'none';\n",
              "\n",
              "        async function convertToInteractive(key) {\n",
              "          const element = document.querySelector('#df-9fc17418-a2a4-40fc-bdfc-b36931cffdd8');\n",
              "          const dataTable =\n",
              "            await google.colab.kernel.invokeFunction('convertToInteractive',\n",
              "                                                     [key], {});\n",
              "          if (!dataTable) return;\n",
              "\n",
              "          const docLinkHtml = 'Like what you see? Visit the ' +\n",
              "            '<a target=\"_blank\" href=https://colab.research.google.com/notebooks/data_table.ipynb>data table notebook</a>'\n",
              "            + ' to learn more about interactive tables.';\n",
              "          element.innerHTML = '';\n",
              "          dataTable['output_type'] = 'display_data';\n",
              "          await google.colab.output.renderOutput(dataTable, element);\n",
              "          const docLink = document.createElement('div');\n",
              "          docLink.innerHTML = docLinkHtml;\n",
              "          element.appendChild(docLink);\n",
              "        }\n",
              "      </script>\n",
              "    </div>\n",
              "  </div>\n",
              "  "
            ]
          },
          "metadata": {},
          "execution_count": 873
        }
      ]
    },
    {
      "cell_type": "markdown",
      "source": [
        "Ingresamos las variables Dummy"
      ],
      "metadata": {
        "id": "WiJxiQO5q55z"
      }
    },
    {
      "cell_type": "markdown",
      "source": [
        "Ingresamos las variables con el Label Encoder"
      ],
      "metadata": {
        "id": "_01ZJCD1q_bu"
      }
    },
    {
      "cell_type": "code",
      "source": [
        "df2[\"price\"].head()"
      ],
      "metadata": {
        "colab": {
          "base_uri": "https://localhost:8080/"
        },
        "id": "dqCJmooDvp2t",
        "outputId": "092768d6-2707-4762-f497-b3021a3c40bc"
      },
      "execution_count": null,
      "outputs": [
        {
          "output_type": "execute_result",
          "data": {
            "text/plain": [
              "177    0.152177\n",
              "75     0.282632\n",
              "174    0.138523\n",
              "31     0.043121\n",
              "12     0.393526\n",
              "Name: price, dtype: float64"
            ]
          },
          "metadata": {},
          "execution_count": 874
        }
      ]
    },
    {
      "cell_type": "code",
      "source": [
        "print(len(df2.columns))"
      ],
      "metadata": {
        "colab": {
          "base_uri": "https://localhost:8080/"
        },
        "id": "0GVil2DZfE6X",
        "outputId": "56480397-0925-4930-bbd4-8351ed6026a8"
      },
      "execution_count": null,
      "outputs": [
        {
          "output_type": "stream",
          "name": "stdout",
          "text": [
            "72\n"
          ]
        }
      ]
    },
    {
      "cell_type": "markdown",
      "source": [
        "Como vamos a usar Stats models, debemos adecuar el nombre de las columnas cambiando los guiones por guionas bajos, y los numeros por letras."
      ],
      "metadata": {
        "id": "E_FBxyKRrDoA"
      }
    },
    {
      "cell_type": "code",
      "source": [
        "import statsmodels.formula.api as smf\n",
        "nombres = []\n",
        "for i in df2:\n",
        "    j = i.replace(\"-\",\"_\")\n",
        "    nombres.append(j)\n",
        "nombres_ac = []\n",
        "for i in nombres:\n",
        "    nombres_ac.append(i.replace(\"4\",\"c\").replace(\"2\",\"d\").replace(\"1\",\"u\"))\n",
        "df2.columns = nombres_ac\n",
        "numerical = [\"engine-size\",\"horsepower\"]\n",
        "cat = numerical + dummy_final + le_cat\n",
        "categorias = \" + \".join(cat).replace(\"-\",\"_\").replace(\"4\",\"c\").replace(\"2\",\"d\").replace(\"1\",\"u\")\n",
        "#Al final creando un string con las variables numéricas escogidas e ingresando todas las variables categóricas.\n",
        "print(categorias)"
      ],
      "metadata": {
        "colab": {
          "base_uri": "https://localhost:8080/"
        },
        "id": "yrQggp8tvrFV",
        "outputId": "c55dad47-1a51-47d5-acdf-b43dae4a8de5"
      },
      "execution_count": null,
      "outputs": [
        {
          "output_type": "stream",
          "name": "stdout",
          "text": [
            "engine_size + horsepower + alfa_romero + audi + bmw + chevrolet + dodge + honda + isuzu + jaguar + mazda + mercedes_benz + mercury + mitsubishi + nissan + peugot + plymouth + porsche + renault + saab + subaru + toyota + volkswagen + volvo + convertible + hatchback + sedan + wagon + hardtop + rwd + fwd + cwd + mpfi + dbbl + mfi + ubbl + spfi + cbbl + idi + spdi + dohc + ohcv + ohc + l + rotor + ohcf + dohcv + four + six + five + three + twelve + two + eight + fuel_type + aspiration + number_of_doors + engine_location\n"
          ]
        }
      ]
    },
    {
      "cell_type": "markdown",
      "source": [
        "En este caso vamos a utilizar un modelo de regresión lineal, el de mínimos cuadrados ordinarios, ya que como el el comportamiento del target que es el precio de los carros aumenta o baja dependiendo de las características del carro, considero que un modelo lineal es el correcto, ya que es una variable continua, no categórica."
      ],
      "metadata": {
        "id": "TH7KzY_UswXb"
      }
    },
    {
      "cell_type": "markdown",
      "source": [
        "Las variables que vamos a escoger son las de horse power y engine size esto porque tiene correlacione grandes pero diferetes, ya que la curb weight tiene una correalción muy parecida con engine size. Y escogemos todas las categóricas."
      ],
      "metadata": {
        "id": "J7otOYW4t_Dr"
      }
    },
    {
      "cell_type": "code",
      "source": [
        "#Creamos y entrenamos el modelo\n",
        "reg = smf.ols('price ~ '+categorias , data=df2)\n",
        "# print(dir(reg))\n",
        "res = reg.fit()\n",
        "# print(dir(res))\n",
        "\n",
        "print(len(res.params))"
      ],
      "metadata": {
        "colab": {
          "base_uri": "https://localhost:8080/"
        },
        "id": "AeAcNZF5wYjA",
        "outputId": "59ef06c1-bec1-406f-dc45-609c9651968a"
      },
      "execution_count": null,
      "outputs": [
        {
          "output_type": "stream",
          "name": "stdout",
          "text": [
            "59\n"
          ]
        }
      ]
    },
    {
      "cell_type": "code",
      "source": [
        "print(len(cat))"
      ],
      "metadata": {
        "colab": {
          "base_uri": "https://localhost:8080/"
        },
        "id": "72_XUOo3fO3P",
        "outputId": "8845d0d6-ec4a-412d-86ef-fc9204bff143"
      },
      "execution_count": null,
      "outputs": [
        {
          "output_type": "stream",
          "name": "stdout",
          "text": [
            "58\n"
          ]
        }
      ]
    },
    {
      "cell_type": "code",
      "source": [
        "for i in df2:\n",
        "    print(i)"
      ],
      "metadata": {
        "colab": {
          "base_uri": "https://localhost:8080/"
        },
        "id": "zqDl8V02qpjL",
        "outputId": "18efd1d9-27b1-4a2e-d33e-86afb0efcc3c"
      },
      "execution_count": null,
      "outputs": [
        {
          "output_type": "stream",
          "name": "stdout",
          "text": [
            "symboling\n",
            "normalized_losses\n",
            "fuel_type\n",
            "aspiration\n",
            "number_of_doors\n",
            "engine_location\n",
            "wheel_base\n",
            "length\n",
            "width\n",
            "height\n",
            "curb_weight\n",
            "engine_size\n",
            "bore\n",
            "stroke\n",
            "compression_ratio\n",
            "horsepower\n",
            "peak_rpm\n",
            "city_mpg\n",
            "highway_mpg\n",
            "alfa_romero\n",
            "audi\n",
            "bmw\n",
            "chevrolet\n",
            "dodge\n",
            "honda\n",
            "isuzu\n",
            "jaguar\n",
            "mazda\n",
            "mercedes_benz\n",
            "mercury\n",
            "mitsubishi\n",
            "nissan\n",
            "peugot\n",
            "plymouth\n",
            "porsche\n",
            "renault\n",
            "saab\n",
            "subaru\n",
            "toyota\n",
            "volkswagen\n",
            "volvo\n",
            "convertible\n",
            "hardtop\n",
            "hatchback\n",
            "sedan\n",
            "wagon\n",
            "cwd\n",
            "fwd\n",
            "rwd\n",
            "ubbl\n",
            "dbbl\n",
            "cbbl\n",
            "idi\n",
            "mfi\n",
            "mpfi\n",
            "spdi\n",
            "spfi\n",
            "dohc\n",
            "dohcv\n",
            "l\n",
            "ohc\n",
            "ohcf\n",
            "ohcv\n",
            "rotor\n",
            "eight\n",
            "five\n",
            "four\n",
            "six\n",
            "three\n",
            "twelve\n",
            "two\n",
            "price\n"
          ]
        }
      ]
    },
    {
      "cell_type": "code",
      "source": [
        "len(list(categorias.split(\" + \")))"
      ],
      "metadata": {
        "colab": {
          "base_uri": "https://localhost:8080/"
        },
        "id": "3HulYUN-rZb-",
        "outputId": "877df093-141f-40fa-d6e7-b2e829b5c938"
      },
      "execution_count": null,
      "outputs": [
        {
          "output_type": "execute_result",
          "data": {
            "text/plain": [
              "58"
            ]
          },
          "metadata": {},
          "execution_count": 880
        }
      ]
    },
    {
      "cell_type": "markdown",
      "source": [
        "Además de obtener una correlación aceptable o R, lo que debemos de analizar es si el coeficiente tiene el mismo signo con la correlación de las variables numéricas con el precio, en este caso vemos que si se cumple para horsepower y engine-size, eliminamos curb-weight ya que al hacer el modelo solo con las variables numéricas su coefiente es negativo y su correlación es positiva. En el caso de las variables categóricas no pude saber bien si su coefiente es correcto, pero considere que estas caracterísiticas son importantes, ya que cosas como la marca pueden subir o bajar el precio. Ya que no cuento con los conocimeintos necesarios de autos para considerar eliminar alguna."
      ],
      "metadata": {
        "id": "e2uXwhuArmNd"
      }
    },
    {
      "cell_type": "code",
      "source": [
        "print(res.summary())"
      ],
      "metadata": {
        "colab": {
          "base_uri": "https://localhost:8080/"
        },
        "id": "VB-bFzg6xLub",
        "outputId": "ac9e4a06-521f-497a-8c4b-56540239604e"
      },
      "execution_count": null,
      "outputs": [
        {
          "output_type": "stream",
          "name": "stdout",
          "text": [
            "                            OLS Regression Results                            \n",
            "==============================================================================\n",
            "Dep. Variable:                  price   R-squared:                       0.960\n",
            "Model:                            OLS   Adj. R-squared:                  0.941\n",
            "Method:                 Least Squares   F-statistic:                     49.83\n",
            "Date:                Wed, 07 Sep 2022   Prob (F-statistic):           3.58e-50\n",
            "Time:                        20:45:15   Log-Likelihood:                 264.42\n",
            "No. Observations:                 143   AIC:                            -434.8\n",
            "Df Residuals:                      96   BIC:                            -295.6\n",
            "Df Model:                          46                                         \n",
            "Covariance Type:            nonrobust                                         \n",
            "===================================================================================\n",
            "                      coef    std err          t      P>|t|      [0.025      0.975]\n",
            "-----------------------------------------------------------------------------------\n",
            "Intercept           0.0066      0.020      0.331      0.742      -0.033       0.046\n",
            "engine_size         0.3784      0.125      3.033      0.003       0.131       0.626\n",
            "horsepower          0.3720      0.144      2.585      0.011       0.086       0.658\n",
            "alfa_romero        -0.0049      0.038     -0.128      0.898      -0.081       0.071\n",
            "audi                0.0275      0.046      0.601      0.549      -0.063       0.118\n",
            "bmw                 0.1522      0.030      5.122      0.000       0.093       0.211\n",
            "chevrolet          -0.0828      0.047     -1.771      0.080      -0.176       0.010\n",
            "dodge              -0.0967      0.022     -4.357      0.000      -0.141      -0.053\n",
            "honda              -0.0281      0.036     -0.790      0.431      -0.099       0.042\n",
            "isuzu               0.0012      0.035      0.034      0.973      -0.068       0.071\n",
            "jaguar              0.1901      0.053      3.611      0.000       0.086       0.295\n",
            "mazda              -0.0672      0.019     -3.570      0.001      -0.105      -0.030\n",
            "mercedes_benz       0.2381      0.070      3.400      0.001       0.099       0.377\n",
            "mercury            -0.0627      0.054     -1.161      0.249      -0.170       0.044\n",
            "mitsubishi         -0.0976      0.024     -4.028      0.000      -0.146      -0.050\n",
            "nissan             -0.0915      0.023     -4.025      0.000      -0.137      -0.046\n",
            "peugot              0.0744      0.023      3.208      0.002       0.028       0.120\n",
            "plymouth           -0.0904      0.024     -3.843      0.000      -0.137      -0.044\n",
            "porsche             0.1393      0.049      2.857      0.005       0.043       0.236\n",
            "renault            -0.1171      0.036     -3.247      0.002      -0.189      -0.046\n",
            "saab                0.0107      0.028      0.384      0.702      -0.045       0.066\n",
            "subaru             -0.0352      0.037     -0.950      0.344      -0.109       0.038\n",
            "toyota             -0.0659      0.014     -4.662      0.000      -0.094      -0.038\n",
            "volkswagen         -0.0510      0.021     -2.448      0.016      -0.092      -0.010\n",
            "volvo               0.0643      0.026      2.520      0.013       0.014       0.115\n",
            "convertible         0.0458      0.024      1.932      0.056      -0.001       0.093\n",
            "hatchback          -0.0227      0.013     -1.683      0.096      -0.049       0.004\n",
            "sedan              -0.0236      0.013     -1.789      0.077      -0.050       0.003\n",
            "wagon              -0.0246      0.017     -1.488      0.140      -0.057       0.008\n",
            "hardtop             0.0316      0.035      0.906      0.367      -0.038       0.101\n",
            "rwd                -0.0246      0.020     -1.243      0.217      -0.064       0.015\n",
            "fwd                 0.0073      0.013      0.581      0.563      -0.018       0.032\n",
            "cwd                 0.0239      0.021      1.151      0.252      -0.017       0.065\n",
            "mpfi                0.0066      0.020      0.324      0.747      -0.034       0.047\n",
            "dbbl                0.0124      0.018      0.678      0.500      -0.024       0.049\n",
            "mfi             -1.272e-16   3.48e-17     -3.655      0.000   -1.96e-16   -5.81e-17\n",
            "ubbl               -0.0373      0.035     -1.067      0.288      -0.107       0.032\n",
            "spfi                0.0033      0.052      0.063      0.950      -0.100       0.106\n",
            "cbbl                0.0254      0.058      0.435      0.664      -0.090       0.141\n",
            "idi                 0.0190      0.017      1.086      0.280      -0.016       0.054\n",
            "spdi               -0.0227      0.031     -0.727      0.469      -0.085       0.039\n",
            "dohc                0.1045      0.032      3.301      0.001       0.042       0.167\n",
            "ohcv                0.0639      0.033      1.927      0.057      -0.002       0.130\n",
            "ohc                 0.1209      0.040      3.018      0.003       0.041       0.200\n",
            "l                   0.0744      0.023      3.208      0.002       0.028       0.120\n",
            "rotor               0.1183      0.027      4.329      0.000       0.064       0.173\n",
            "ohcf                0.0512      0.029      1.743      0.085      -0.007       0.110\n",
            "dohcv              -0.5266      0.112     -4.707      0.000      -0.749      -0.305\n",
            "four               -0.0502      0.036     -1.411      0.162      -0.121       0.020\n",
            "six                -0.0062      0.030     -0.207      0.836      -0.065       0.053\n",
            "five                0.0112      0.043      0.262      0.794      -0.074       0.096\n",
            "three                    0          0        nan        nan           0           0\n",
            "twelve             -0.1422      0.074     -1.916      0.058      -0.290       0.005\n",
            "two                 0.1183      0.027      4.329      0.000       0.064       0.173\n",
            "eight               0.0757      0.070      1.075      0.285      -0.064       0.216\n",
            "fuel_type          -0.0124      0.018     -0.683      0.496      -0.048       0.024\n",
            "aspiration          0.0309      0.022      1.416      0.160      -0.012       0.074\n",
            "number_of_doors    -0.0072      0.015     -0.481      0.632      -0.037       0.023\n",
            "engine_location     0.0865      0.047      1.826      0.071      -0.008       0.180\n",
            "==============================================================================\n",
            "Omnibus:                       24.435   Durbin-Watson:                   1.906\n",
            "Prob(Omnibus):                  0.000   Jarque-Bera (JB):               45.467\n",
            "Skew:                           0.778   Prob(JB):                     1.34e-10\n",
            "Kurtosis:                       5.282   Cond. No.                     1.14e+16\n",
            "==============================================================================\n",
            "\n",
            "Notes:\n",
            "[1] Standard Errors assume that the covariance matrix of the errors is correctly specified.\n",
            "[2] The smallest eigenvalue is 5.17e-30. This might indicate that there are\n",
            "strong multicollinearity problems or that the design matrix is singular.\n"
          ]
        }
      ]
    },
    {
      "cell_type": "markdown",
      "source": [
        "Como podemos ver las variables tiene un valor cercano a la real. Teniendo una correlación de 0.94 o R ajustada que es la pricipal cuando se tienen muchas variables."
      ],
      "metadata": {
        "id": "EFpbnkrgscXj"
      }
    },
    {
      "cell_type": "code",
      "source": [
        "print(res.resid)"
      ],
      "metadata": {
        "colab": {
          "base_uri": "https://localhost:8080/"
        },
        "id": "r-2Y5Cd6zZ_b",
        "outputId": "0f9c9c54-fd38-4d05-d043-261a830e4f61"
      },
      "execution_count": null,
      "outputs": [
        {
          "output_type": "stream",
          "name": "stdout",
          "text": [
            "177    2.194610e-02\n",
            "75     3.552714e-15\n",
            "174    1.333108e-03\n",
            "31    -4.224640e-03\n",
            "12    -6.657530e-02\n",
            "           ...     \n",
            "106    8.285343e-02\n",
            "14     1.542448e-02\n",
            "92     6.772734e-03\n",
            "179   -2.981447e-02\n",
            "102   -4.105122e-02\n",
            "Length: 143, dtype: float64\n"
          ]
        }
      ]
    },
    {
      "cell_type": "code",
      "source": [
        "print(res.fittedvalues)"
      ],
      "metadata": {
        "colab": {
          "base_uri": "https://localhost:8080/"
        },
        "id": "SQSspNpU8NBO",
        "outputId": "688f91cc-50d5-47f1-c357-3d935647af5c"
      },
      "execution_count": null,
      "outputs": [
        {
          "output_type": "stream",
          "name": "stdout",
          "text": [
            "177    0.130231\n",
            "75     0.282632\n",
            "174    0.137190\n",
            "31     0.047346\n",
            "12     0.460101\n",
            "         ...   \n",
            "106    0.246847\n",
            "14     0.467347\n",
            "92     0.036199\n",
            "179    0.299910\n",
            "102    0.271452\n",
            "Length: 143, dtype: float64\n"
          ]
        }
      ]
    },
    {
      "cell_type": "code",
      "source": [
        "df2.head()"
      ],
      "metadata": {
        "colab": {
          "base_uri": "https://localhost:8080/",
          "height": 299
        },
        "id": "ItlNr9LwOykQ",
        "outputId": "e7371425-e530-4130-80b0-43ff40120a04"
      },
      "execution_count": null,
      "outputs": [
        {
          "output_type": "execute_result",
          "data": {
            "text/plain": [
              "     symboling  normalized_losses  fuel_type  aspiration  number_of_doors  \\\n",
              "177         -1          65.000000          1           0                0   \n",
              "75           1         123.026549          1           1                1   \n",
              "174         -1          65.000000          0           1                0   \n",
              "31           2         137.000000          1           0                1   \n",
              "12           0         188.000000          1           0                1   \n",
              "\n",
              "     engine_location  wheel_base  length  width  height  ...  ohcv  rotor  \\\n",
              "177                0       102.4   175.6   66.5    53.9  ...     0      0   \n",
              "75                 0       102.7   178.4   68.0    54.8  ...     0      0   \n",
              "174                0       102.4   175.6   66.5    54.9  ...     0      0   \n",
              "31                 0        86.6   144.6   63.9    50.8  ...     0      0   \n",
              "12                 0       101.2   176.8   64.8    54.3  ...     0      0   \n",
              "\n",
              "     eight  five  four  six  three  twelve  two     price  \n",
              "177      0     0     1    0      0       0    0  0.152177  \n",
              "75       0     0     1    0      0       0    0  0.282632  \n",
              "174      0     0     1    0      0       0    0  0.138523  \n",
              "31       0     0     1    0      0       0    0  0.043121  \n",
              "12       0     0     0    1      0       0    0  0.393526  \n",
              "\n",
              "[5 rows x 72 columns]"
            ],
            "text/html": [
              "\n",
              "  <div id=\"df-bf748ea7-fe92-4184-9ce4-390ac63a9e4b\">\n",
              "    <div class=\"colab-df-container\">\n",
              "      <div>\n",
              "<style scoped>\n",
              "    .dataframe tbody tr th:only-of-type {\n",
              "        vertical-align: middle;\n",
              "    }\n",
              "\n",
              "    .dataframe tbody tr th {\n",
              "        vertical-align: top;\n",
              "    }\n",
              "\n",
              "    .dataframe thead th {\n",
              "        text-align: right;\n",
              "    }\n",
              "</style>\n",
              "<table border=\"1\" class=\"dataframe\">\n",
              "  <thead>\n",
              "    <tr style=\"text-align: right;\">\n",
              "      <th></th>\n",
              "      <th>symboling</th>\n",
              "      <th>normalized_losses</th>\n",
              "      <th>fuel_type</th>\n",
              "      <th>aspiration</th>\n",
              "      <th>number_of_doors</th>\n",
              "      <th>engine_location</th>\n",
              "      <th>wheel_base</th>\n",
              "      <th>length</th>\n",
              "      <th>width</th>\n",
              "      <th>height</th>\n",
              "      <th>...</th>\n",
              "      <th>ohcv</th>\n",
              "      <th>rotor</th>\n",
              "      <th>eight</th>\n",
              "      <th>five</th>\n",
              "      <th>four</th>\n",
              "      <th>six</th>\n",
              "      <th>three</th>\n",
              "      <th>twelve</th>\n",
              "      <th>two</th>\n",
              "      <th>price</th>\n",
              "    </tr>\n",
              "  </thead>\n",
              "  <tbody>\n",
              "    <tr>\n",
              "      <th>177</th>\n",
              "      <td>-1</td>\n",
              "      <td>65.000000</td>\n",
              "      <td>1</td>\n",
              "      <td>0</td>\n",
              "      <td>0</td>\n",
              "      <td>0</td>\n",
              "      <td>102.4</td>\n",
              "      <td>175.6</td>\n",
              "      <td>66.5</td>\n",
              "      <td>53.9</td>\n",
              "      <td>...</td>\n",
              "      <td>0</td>\n",
              "      <td>0</td>\n",
              "      <td>0</td>\n",
              "      <td>0</td>\n",
              "      <td>1</td>\n",
              "      <td>0</td>\n",
              "      <td>0</td>\n",
              "      <td>0</td>\n",
              "      <td>0</td>\n",
              "      <td>0.152177</td>\n",
              "    </tr>\n",
              "    <tr>\n",
              "      <th>75</th>\n",
              "      <td>1</td>\n",
              "      <td>123.026549</td>\n",
              "      <td>1</td>\n",
              "      <td>1</td>\n",
              "      <td>1</td>\n",
              "      <td>0</td>\n",
              "      <td>102.7</td>\n",
              "      <td>178.4</td>\n",
              "      <td>68.0</td>\n",
              "      <td>54.8</td>\n",
              "      <td>...</td>\n",
              "      <td>0</td>\n",
              "      <td>0</td>\n",
              "      <td>0</td>\n",
              "      <td>0</td>\n",
              "      <td>1</td>\n",
              "      <td>0</td>\n",
              "      <td>0</td>\n",
              "      <td>0</td>\n",
              "      <td>0</td>\n",
              "      <td>0.282632</td>\n",
              "    </tr>\n",
              "    <tr>\n",
              "      <th>174</th>\n",
              "      <td>-1</td>\n",
              "      <td>65.000000</td>\n",
              "      <td>0</td>\n",
              "      <td>1</td>\n",
              "      <td>0</td>\n",
              "      <td>0</td>\n",
              "      <td>102.4</td>\n",
              "      <td>175.6</td>\n",
              "      <td>66.5</td>\n",
              "      <td>54.9</td>\n",
              "      <td>...</td>\n",
              "      <td>0</td>\n",
              "      <td>0</td>\n",
              "      <td>0</td>\n",
              "      <td>0</td>\n",
              "      <td>1</td>\n",
              "      <td>0</td>\n",
              "      <td>0</td>\n",
              "      <td>0</td>\n",
              "      <td>0</td>\n",
              "      <td>0.138523</td>\n",
              "    </tr>\n",
              "    <tr>\n",
              "      <th>31</th>\n",
              "      <td>2</td>\n",
              "      <td>137.000000</td>\n",
              "      <td>1</td>\n",
              "      <td>0</td>\n",
              "      <td>1</td>\n",
              "      <td>0</td>\n",
              "      <td>86.6</td>\n",
              "      <td>144.6</td>\n",
              "      <td>63.9</td>\n",
              "      <td>50.8</td>\n",
              "      <td>...</td>\n",
              "      <td>0</td>\n",
              "      <td>0</td>\n",
              "      <td>0</td>\n",
              "      <td>0</td>\n",
              "      <td>1</td>\n",
              "      <td>0</td>\n",
              "      <td>0</td>\n",
              "      <td>0</td>\n",
              "      <td>0</td>\n",
              "      <td>0.043121</td>\n",
              "    </tr>\n",
              "    <tr>\n",
              "      <th>12</th>\n",
              "      <td>0</td>\n",
              "      <td>188.000000</td>\n",
              "      <td>1</td>\n",
              "      <td>0</td>\n",
              "      <td>1</td>\n",
              "      <td>0</td>\n",
              "      <td>101.2</td>\n",
              "      <td>176.8</td>\n",
              "      <td>64.8</td>\n",
              "      <td>54.3</td>\n",
              "      <td>...</td>\n",
              "      <td>0</td>\n",
              "      <td>0</td>\n",
              "      <td>0</td>\n",
              "      <td>0</td>\n",
              "      <td>0</td>\n",
              "      <td>1</td>\n",
              "      <td>0</td>\n",
              "      <td>0</td>\n",
              "      <td>0</td>\n",
              "      <td>0.393526</td>\n",
              "    </tr>\n",
              "  </tbody>\n",
              "</table>\n",
              "<p>5 rows × 72 columns</p>\n",
              "</div>\n",
              "      <button class=\"colab-df-convert\" onclick=\"convertToInteractive('df-bf748ea7-fe92-4184-9ce4-390ac63a9e4b')\"\n",
              "              title=\"Convert this dataframe to an interactive table.\"\n",
              "              style=\"display:none;\">\n",
              "        \n",
              "  <svg xmlns=\"http://www.w3.org/2000/svg\" height=\"24px\"viewBox=\"0 0 24 24\"\n",
              "       width=\"24px\">\n",
              "    <path d=\"M0 0h24v24H0V0z\" fill=\"none\"/>\n",
              "    <path d=\"M18.56 5.44l.94 2.06.94-2.06 2.06-.94-2.06-.94-.94-2.06-.94 2.06-2.06.94zm-11 1L8.5 8.5l.94-2.06 2.06-.94-2.06-.94L8.5 2.5l-.94 2.06-2.06.94zm10 10l.94 2.06.94-2.06 2.06-.94-2.06-.94-.94-2.06-.94 2.06-2.06.94z\"/><path d=\"M17.41 7.96l-1.37-1.37c-.4-.4-.92-.59-1.43-.59-.52 0-1.04.2-1.43.59L10.3 9.45l-7.72 7.72c-.78.78-.78 2.05 0 2.83L4 21.41c.39.39.9.59 1.41.59.51 0 1.02-.2 1.41-.59l7.78-7.78 2.81-2.81c.8-.78.8-2.07 0-2.86zM5.41 20L4 18.59l7.72-7.72 1.47 1.35L5.41 20z\"/>\n",
              "  </svg>\n",
              "      </button>\n",
              "      \n",
              "  <style>\n",
              "    .colab-df-container {\n",
              "      display:flex;\n",
              "      flex-wrap:wrap;\n",
              "      gap: 12px;\n",
              "    }\n",
              "\n",
              "    .colab-df-convert {\n",
              "      background-color: #E8F0FE;\n",
              "      border: none;\n",
              "      border-radius: 50%;\n",
              "      cursor: pointer;\n",
              "      display: none;\n",
              "      fill: #1967D2;\n",
              "      height: 32px;\n",
              "      padding: 0 0 0 0;\n",
              "      width: 32px;\n",
              "    }\n",
              "\n",
              "    .colab-df-convert:hover {\n",
              "      background-color: #E2EBFA;\n",
              "      box-shadow: 0px 1px 2px rgba(60, 64, 67, 0.3), 0px 1px 3px 1px rgba(60, 64, 67, 0.15);\n",
              "      fill: #174EA6;\n",
              "    }\n",
              "\n",
              "    [theme=dark] .colab-df-convert {\n",
              "      background-color: #3B4455;\n",
              "      fill: #D2E3FC;\n",
              "    }\n",
              "\n",
              "    [theme=dark] .colab-df-convert:hover {\n",
              "      background-color: #434B5C;\n",
              "      box-shadow: 0px 1px 3px 1px rgba(0, 0, 0, 0.15);\n",
              "      filter: drop-shadow(0px 1px 2px rgba(0, 0, 0, 0.3));\n",
              "      fill: #FFFFFF;\n",
              "    }\n",
              "  </style>\n",
              "\n",
              "      <script>\n",
              "        const buttonEl =\n",
              "          document.querySelector('#df-bf748ea7-fe92-4184-9ce4-390ac63a9e4b button.colab-df-convert');\n",
              "        buttonEl.style.display =\n",
              "          google.colab.kernel.accessAllowed ? 'block' : 'none';\n",
              "\n",
              "        async function convertToInteractive(key) {\n",
              "          const element = document.querySelector('#df-bf748ea7-fe92-4184-9ce4-390ac63a9e4b');\n",
              "          const dataTable =\n",
              "            await google.colab.kernel.invokeFunction('convertToInteractive',\n",
              "                                                     [key], {});\n",
              "          if (!dataTable) return;\n",
              "\n",
              "          const docLinkHtml = 'Like what you see? Visit the ' +\n",
              "            '<a target=\"_blank\" href=https://colab.research.google.com/notebooks/data_table.ipynb>data table notebook</a>'\n",
              "            + ' to learn more about interactive tables.';\n",
              "          element.innerHTML = '';\n",
              "          dataTable['output_type'] = 'display_data';\n",
              "          await google.colab.output.renderOutput(dataTable, element);\n",
              "          const docLink = document.createElement('div');\n",
              "          docLink.innerHTML = docLinkHtml;\n",
              "          element.appendChild(docLink);\n",
              "        }\n",
              "      </script>\n",
              "    </div>\n",
              "  </div>\n",
              "  "
            ]
          },
          "metadata": {},
          "execution_count": 884
        }
      ]
    },
    {
      "cell_type": "markdown",
      "source": [
        "# Testeo\n",
        "Ahora vamos a probar el modelo generado en el cacho de test"
      ],
      "metadata": {
        "id": "r1rmOzxzL6hC"
      }
    },
    {
      "cell_type": "code",
      "source": [
        "df_test.head()"
      ],
      "metadata": {
        "colab": {
          "base_uri": "https://localhost:8080/",
          "height": 297
        },
        "id": "uVABu7BSMFO8",
        "outputId": "25407208-d434-4097-a80f-9702ebe8b678"
      },
      "execution_count": null,
      "outputs": [
        {
          "output_type": "execute_result",
          "data": {
            "text/plain": [
              "     symboling  normalized-losses  fuel-type  aspiration  number-of-doors  \\\n",
              "15           0          119.72549          1           0                0   \n",
              "9            0          119.72549          1           1                1   \n",
              "100          0          106.00000          1           0                0   \n",
              "132          3          150.00000          1           0                1   \n",
              "68          -1           93.00000          0           1                0   \n",
              "\n",
              "     engine-location  wheel-base  length  width  height  ...  ohcv  rotor  \\\n",
              "15                 0       103.5   189.0   66.9    55.7  ...     0      0   \n",
              "9                  0        99.5   178.2   67.9    52.0  ...     0      0   \n",
              "100                0        97.2   173.4   65.2    54.7  ...     0      0   \n",
              "132                0        99.1   186.6   66.5    56.1  ...     0      0   \n",
              "68                 0       110.0   190.9   70.3    58.7  ...     0      0   \n",
              "\n",
              "     eight  five  four  six  three  twelve  two    price  \n",
              "15       0     0     0    1      0       0    0  30760.0  \n",
              "9        0     1     0    0      0       0    0  12958.9  \n",
              "100      0     0     1    0      0       0    0   9549.0  \n",
              "132      0     0     1    0      0       0    0  11850.0  \n",
              "68       0     1     0    0      0       0    0  28248.0  \n",
              "\n",
              "[5 rows x 72 columns]"
            ],
            "text/html": [
              "\n",
              "  <div id=\"df-8a35f8d4-8cd9-462f-8196-116c88aa3dee\">\n",
              "    <div class=\"colab-df-container\">\n",
              "      <div>\n",
              "<style scoped>\n",
              "    .dataframe tbody tr th:only-of-type {\n",
              "        vertical-align: middle;\n",
              "    }\n",
              "\n",
              "    .dataframe tbody tr th {\n",
              "        vertical-align: top;\n",
              "    }\n",
              "\n",
              "    .dataframe thead th {\n",
              "        text-align: right;\n",
              "    }\n",
              "</style>\n",
              "<table border=\"1\" class=\"dataframe\">\n",
              "  <thead>\n",
              "    <tr style=\"text-align: right;\">\n",
              "      <th></th>\n",
              "      <th>symboling</th>\n",
              "      <th>normalized-losses</th>\n",
              "      <th>fuel-type</th>\n",
              "      <th>aspiration</th>\n",
              "      <th>number-of-doors</th>\n",
              "      <th>engine-location</th>\n",
              "      <th>wheel-base</th>\n",
              "      <th>length</th>\n",
              "      <th>width</th>\n",
              "      <th>height</th>\n",
              "      <th>...</th>\n",
              "      <th>ohcv</th>\n",
              "      <th>rotor</th>\n",
              "      <th>eight</th>\n",
              "      <th>five</th>\n",
              "      <th>four</th>\n",
              "      <th>six</th>\n",
              "      <th>three</th>\n",
              "      <th>twelve</th>\n",
              "      <th>two</th>\n",
              "      <th>price</th>\n",
              "    </tr>\n",
              "  </thead>\n",
              "  <tbody>\n",
              "    <tr>\n",
              "      <th>15</th>\n",
              "      <td>0</td>\n",
              "      <td>119.72549</td>\n",
              "      <td>1</td>\n",
              "      <td>0</td>\n",
              "      <td>0</td>\n",
              "      <td>0</td>\n",
              "      <td>103.5</td>\n",
              "      <td>189.0</td>\n",
              "      <td>66.9</td>\n",
              "      <td>55.7</td>\n",
              "      <td>...</td>\n",
              "      <td>0</td>\n",
              "      <td>0</td>\n",
              "      <td>0</td>\n",
              "      <td>0</td>\n",
              "      <td>0</td>\n",
              "      <td>1</td>\n",
              "      <td>0</td>\n",
              "      <td>0</td>\n",
              "      <td>0</td>\n",
              "      <td>30760.0</td>\n",
              "    </tr>\n",
              "    <tr>\n",
              "      <th>9</th>\n",
              "      <td>0</td>\n",
              "      <td>119.72549</td>\n",
              "      <td>1</td>\n",
              "      <td>1</td>\n",
              "      <td>1</td>\n",
              "      <td>0</td>\n",
              "      <td>99.5</td>\n",
              "      <td>178.2</td>\n",
              "      <td>67.9</td>\n",
              "      <td>52.0</td>\n",
              "      <td>...</td>\n",
              "      <td>0</td>\n",
              "      <td>0</td>\n",
              "      <td>0</td>\n",
              "      <td>1</td>\n",
              "      <td>0</td>\n",
              "      <td>0</td>\n",
              "      <td>0</td>\n",
              "      <td>0</td>\n",
              "      <td>0</td>\n",
              "      <td>12958.9</td>\n",
              "    </tr>\n",
              "    <tr>\n",
              "      <th>100</th>\n",
              "      <td>0</td>\n",
              "      <td>106.00000</td>\n",
              "      <td>1</td>\n",
              "      <td>0</td>\n",
              "      <td>0</td>\n",
              "      <td>0</td>\n",
              "      <td>97.2</td>\n",
              "      <td>173.4</td>\n",
              "      <td>65.2</td>\n",
              "      <td>54.7</td>\n",
              "      <td>...</td>\n",
              "      <td>0</td>\n",
              "      <td>0</td>\n",
              "      <td>0</td>\n",
              "      <td>0</td>\n",
              "      <td>1</td>\n",
              "      <td>0</td>\n",
              "      <td>0</td>\n",
              "      <td>0</td>\n",
              "      <td>0</td>\n",
              "      <td>9549.0</td>\n",
              "    </tr>\n",
              "    <tr>\n",
              "      <th>132</th>\n",
              "      <td>3</td>\n",
              "      <td>150.00000</td>\n",
              "      <td>1</td>\n",
              "      <td>0</td>\n",
              "      <td>1</td>\n",
              "      <td>0</td>\n",
              "      <td>99.1</td>\n",
              "      <td>186.6</td>\n",
              "      <td>66.5</td>\n",
              "      <td>56.1</td>\n",
              "      <td>...</td>\n",
              "      <td>0</td>\n",
              "      <td>0</td>\n",
              "      <td>0</td>\n",
              "      <td>0</td>\n",
              "      <td>1</td>\n",
              "      <td>0</td>\n",
              "      <td>0</td>\n",
              "      <td>0</td>\n",
              "      <td>0</td>\n",
              "      <td>11850.0</td>\n",
              "    </tr>\n",
              "    <tr>\n",
              "      <th>68</th>\n",
              "      <td>-1</td>\n",
              "      <td>93.00000</td>\n",
              "      <td>0</td>\n",
              "      <td>1</td>\n",
              "      <td>0</td>\n",
              "      <td>0</td>\n",
              "      <td>110.0</td>\n",
              "      <td>190.9</td>\n",
              "      <td>70.3</td>\n",
              "      <td>58.7</td>\n",
              "      <td>...</td>\n",
              "      <td>0</td>\n",
              "      <td>0</td>\n",
              "      <td>0</td>\n",
              "      <td>1</td>\n",
              "      <td>0</td>\n",
              "      <td>0</td>\n",
              "      <td>0</td>\n",
              "      <td>0</td>\n",
              "      <td>0</td>\n",
              "      <td>28248.0</td>\n",
              "    </tr>\n",
              "  </tbody>\n",
              "</table>\n",
              "<p>5 rows × 72 columns</p>\n",
              "</div>\n",
              "      <button class=\"colab-df-convert\" onclick=\"convertToInteractive('df-8a35f8d4-8cd9-462f-8196-116c88aa3dee')\"\n",
              "              title=\"Convert this dataframe to an interactive table.\"\n",
              "              style=\"display:none;\">\n",
              "        \n",
              "  <svg xmlns=\"http://www.w3.org/2000/svg\" height=\"24px\"viewBox=\"0 0 24 24\"\n",
              "       width=\"24px\">\n",
              "    <path d=\"M0 0h24v24H0V0z\" fill=\"none\"/>\n",
              "    <path d=\"M18.56 5.44l.94 2.06.94-2.06 2.06-.94-2.06-.94-.94-2.06-.94 2.06-2.06.94zm-11 1L8.5 8.5l.94-2.06 2.06-.94-2.06-.94L8.5 2.5l-.94 2.06-2.06.94zm10 10l.94 2.06.94-2.06 2.06-.94-2.06-.94-.94-2.06-.94 2.06-2.06.94z\"/><path d=\"M17.41 7.96l-1.37-1.37c-.4-.4-.92-.59-1.43-.59-.52 0-1.04.2-1.43.59L10.3 9.45l-7.72 7.72c-.78.78-.78 2.05 0 2.83L4 21.41c.39.39.9.59 1.41.59.51 0 1.02-.2 1.41-.59l7.78-7.78 2.81-2.81c.8-.78.8-2.07 0-2.86zM5.41 20L4 18.59l7.72-7.72 1.47 1.35L5.41 20z\"/>\n",
              "  </svg>\n",
              "      </button>\n",
              "      \n",
              "  <style>\n",
              "    .colab-df-container {\n",
              "      display:flex;\n",
              "      flex-wrap:wrap;\n",
              "      gap: 12px;\n",
              "    }\n",
              "\n",
              "    .colab-df-convert {\n",
              "      background-color: #E8F0FE;\n",
              "      border: none;\n",
              "      border-radius: 50%;\n",
              "      cursor: pointer;\n",
              "      display: none;\n",
              "      fill: #1967D2;\n",
              "      height: 32px;\n",
              "      padding: 0 0 0 0;\n",
              "      width: 32px;\n",
              "    }\n",
              "\n",
              "    .colab-df-convert:hover {\n",
              "      background-color: #E2EBFA;\n",
              "      box-shadow: 0px 1px 2px rgba(60, 64, 67, 0.3), 0px 1px 3px 1px rgba(60, 64, 67, 0.15);\n",
              "      fill: #174EA6;\n",
              "    }\n",
              "\n",
              "    [theme=dark] .colab-df-convert {\n",
              "      background-color: #3B4455;\n",
              "      fill: #D2E3FC;\n",
              "    }\n",
              "\n",
              "    [theme=dark] .colab-df-convert:hover {\n",
              "      background-color: #434B5C;\n",
              "      box-shadow: 0px 1px 3px 1px rgba(0, 0, 0, 0.15);\n",
              "      filter: drop-shadow(0px 1px 2px rgba(0, 0, 0, 0.3));\n",
              "      fill: #FFFFFF;\n",
              "    }\n",
              "  </style>\n",
              "\n",
              "      <script>\n",
              "        const buttonEl =\n",
              "          document.querySelector('#df-8a35f8d4-8cd9-462f-8196-116c88aa3dee button.colab-df-convert');\n",
              "        buttonEl.style.display =\n",
              "          google.colab.kernel.accessAllowed ? 'block' : 'none';\n",
              "\n",
              "        async function convertToInteractive(key) {\n",
              "          const element = document.querySelector('#df-8a35f8d4-8cd9-462f-8196-116c88aa3dee');\n",
              "          const dataTable =\n",
              "            await google.colab.kernel.invokeFunction('convertToInteractive',\n",
              "                                                     [key], {});\n",
              "          if (!dataTable) return;\n",
              "\n",
              "          const docLinkHtml = 'Like what you see? Visit the ' +\n",
              "            '<a target=\"_blank\" href=https://colab.research.google.com/notebooks/data_table.ipynb>data table notebook</a>'\n",
              "            + ' to learn more about interactive tables.';\n",
              "          element.innerHTML = '';\n",
              "          dataTable['output_type'] = 'display_data';\n",
              "          await google.colab.output.renderOutput(dataTable, element);\n",
              "          const docLink = document.createElement('div');\n",
              "          docLink.innerHTML = docLinkHtml;\n",
              "          element.appendChild(docLink);\n",
              "        }\n",
              "      </script>\n",
              "    </div>\n",
              "  </div>\n",
              "  "
            ]
          },
          "metadata": {},
          "execution_count": 885
        }
      ]
    },
    {
      "cell_type": "code",
      "source": [
        "df_test.shape"
      ],
      "metadata": {
        "colab": {
          "base_uri": "https://localhost:8080/"
        },
        "id": "X8kz4rtHM6MD",
        "outputId": "c3c46646-7fe9-46cc-ea86-5b178999c82b"
      },
      "execution_count": null,
      "outputs": [
        {
          "output_type": "execute_result",
          "data": {
            "text/plain": [
              "(62, 72)"
            ]
          },
          "metadata": {},
          "execution_count": 886
        }
      ]
    },
    {
      "cell_type": "markdown",
      "source": [
        "Eliminamos las variables numéricas que no utilizamos."
      ],
      "metadata": {
        "id": "RknMvTmqjBUT"
      }
    },
    {
      "cell_type": "code",
      "source": [
        "df_test = df_test.drop([\"normalized-losses\",\"symboling\",\"wheel-base\",\"length\",\"width\",\"height\",\"curb-weight\",\"bore\",\"stroke\",\"compression-ratio\",\"peak-rpm\",\"city-mpg\",\"highway-mpg\"],axis=1)"
      ],
      "metadata": {
        "id": "2SXfb4qY8TAb"
      },
      "execution_count": null,
      "outputs": []
    },
    {
      "cell_type": "code",
      "source": [
        "df_test.head()"
      ],
      "metadata": {
        "colab": {
          "base_uri": "https://localhost:8080/",
          "height": 279
        },
        "id": "KgLXdeIyVlTW",
        "outputId": "9994451b-856b-44eb-8e91-08f4d00547e9"
      },
      "execution_count": null,
      "outputs": [
        {
          "output_type": "execute_result",
          "data": {
            "text/plain": [
              "     fuel-type  aspiration  number-of-doors  engine-location  engine-size  \\\n",
              "15           1           0                0                0          209   \n",
              "9            1           1                1                0          131   \n",
              "100          1           0                0                0          120   \n",
              "132          1           0                1                0          121   \n",
              "68           0           1                0                0          183   \n",
              "\n",
              "     horsepower  alfa-romero  audi  bmw  chevrolet  ...  ohcv  rotor  eight  \\\n",
              "15        182.0            0     0    1          0  ...     0      0      0   \n",
              "9         160.0            0     1    0          0  ...     0      0      0   \n",
              "100        97.0            0     0    0          0  ...     0      0      0   \n",
              "132       110.0            0     0    0          0  ...     0      0      0   \n",
              "68        123.0            0     0    0          0  ...     0      0      0   \n",
              "\n",
              "     five  four  six  three  twelve  two    price  \n",
              "15      0     0    1      0       0    0  30760.0  \n",
              "9       1     0    0      0       0    0  12958.9  \n",
              "100     0     1    0      0       0    0   9549.0  \n",
              "132     0     1    0      0       0    0  11850.0  \n",
              "68      1     0    0      0       0    0  28248.0  \n",
              "\n",
              "[5 rows x 59 columns]"
            ],
            "text/html": [
              "\n",
              "  <div id=\"df-05904b11-c9c9-4785-b343-49aef24b7fa1\">\n",
              "    <div class=\"colab-df-container\">\n",
              "      <div>\n",
              "<style scoped>\n",
              "    .dataframe tbody tr th:only-of-type {\n",
              "        vertical-align: middle;\n",
              "    }\n",
              "\n",
              "    .dataframe tbody tr th {\n",
              "        vertical-align: top;\n",
              "    }\n",
              "\n",
              "    .dataframe thead th {\n",
              "        text-align: right;\n",
              "    }\n",
              "</style>\n",
              "<table border=\"1\" class=\"dataframe\">\n",
              "  <thead>\n",
              "    <tr style=\"text-align: right;\">\n",
              "      <th></th>\n",
              "      <th>fuel-type</th>\n",
              "      <th>aspiration</th>\n",
              "      <th>number-of-doors</th>\n",
              "      <th>engine-location</th>\n",
              "      <th>engine-size</th>\n",
              "      <th>horsepower</th>\n",
              "      <th>alfa-romero</th>\n",
              "      <th>audi</th>\n",
              "      <th>bmw</th>\n",
              "      <th>chevrolet</th>\n",
              "      <th>...</th>\n",
              "      <th>ohcv</th>\n",
              "      <th>rotor</th>\n",
              "      <th>eight</th>\n",
              "      <th>five</th>\n",
              "      <th>four</th>\n",
              "      <th>six</th>\n",
              "      <th>three</th>\n",
              "      <th>twelve</th>\n",
              "      <th>two</th>\n",
              "      <th>price</th>\n",
              "    </tr>\n",
              "  </thead>\n",
              "  <tbody>\n",
              "    <tr>\n",
              "      <th>15</th>\n",
              "      <td>1</td>\n",
              "      <td>0</td>\n",
              "      <td>0</td>\n",
              "      <td>0</td>\n",
              "      <td>209</td>\n",
              "      <td>182.0</td>\n",
              "      <td>0</td>\n",
              "      <td>0</td>\n",
              "      <td>1</td>\n",
              "      <td>0</td>\n",
              "      <td>...</td>\n",
              "      <td>0</td>\n",
              "      <td>0</td>\n",
              "      <td>0</td>\n",
              "      <td>0</td>\n",
              "      <td>0</td>\n",
              "      <td>1</td>\n",
              "      <td>0</td>\n",
              "      <td>0</td>\n",
              "      <td>0</td>\n",
              "      <td>30760.0</td>\n",
              "    </tr>\n",
              "    <tr>\n",
              "      <th>9</th>\n",
              "      <td>1</td>\n",
              "      <td>1</td>\n",
              "      <td>1</td>\n",
              "      <td>0</td>\n",
              "      <td>131</td>\n",
              "      <td>160.0</td>\n",
              "      <td>0</td>\n",
              "      <td>1</td>\n",
              "      <td>0</td>\n",
              "      <td>0</td>\n",
              "      <td>...</td>\n",
              "      <td>0</td>\n",
              "      <td>0</td>\n",
              "      <td>0</td>\n",
              "      <td>1</td>\n",
              "      <td>0</td>\n",
              "      <td>0</td>\n",
              "      <td>0</td>\n",
              "      <td>0</td>\n",
              "      <td>0</td>\n",
              "      <td>12958.9</td>\n",
              "    </tr>\n",
              "    <tr>\n",
              "      <th>100</th>\n",
              "      <td>1</td>\n",
              "      <td>0</td>\n",
              "      <td>0</td>\n",
              "      <td>0</td>\n",
              "      <td>120</td>\n",
              "      <td>97.0</td>\n",
              "      <td>0</td>\n",
              "      <td>0</td>\n",
              "      <td>0</td>\n",
              "      <td>0</td>\n",
              "      <td>...</td>\n",
              "      <td>0</td>\n",
              "      <td>0</td>\n",
              "      <td>0</td>\n",
              "      <td>0</td>\n",
              "      <td>1</td>\n",
              "      <td>0</td>\n",
              "      <td>0</td>\n",
              "      <td>0</td>\n",
              "      <td>0</td>\n",
              "      <td>9549.0</td>\n",
              "    </tr>\n",
              "    <tr>\n",
              "      <th>132</th>\n",
              "      <td>1</td>\n",
              "      <td>0</td>\n",
              "      <td>1</td>\n",
              "      <td>0</td>\n",
              "      <td>121</td>\n",
              "      <td>110.0</td>\n",
              "      <td>0</td>\n",
              "      <td>0</td>\n",
              "      <td>0</td>\n",
              "      <td>0</td>\n",
              "      <td>...</td>\n",
              "      <td>0</td>\n",
              "      <td>0</td>\n",
              "      <td>0</td>\n",
              "      <td>0</td>\n",
              "      <td>1</td>\n",
              "      <td>0</td>\n",
              "      <td>0</td>\n",
              "      <td>0</td>\n",
              "      <td>0</td>\n",
              "      <td>11850.0</td>\n",
              "    </tr>\n",
              "    <tr>\n",
              "      <th>68</th>\n",
              "      <td>0</td>\n",
              "      <td>1</td>\n",
              "      <td>0</td>\n",
              "      <td>0</td>\n",
              "      <td>183</td>\n",
              "      <td>123.0</td>\n",
              "      <td>0</td>\n",
              "      <td>0</td>\n",
              "      <td>0</td>\n",
              "      <td>0</td>\n",
              "      <td>...</td>\n",
              "      <td>0</td>\n",
              "      <td>0</td>\n",
              "      <td>0</td>\n",
              "      <td>1</td>\n",
              "      <td>0</td>\n",
              "      <td>0</td>\n",
              "      <td>0</td>\n",
              "      <td>0</td>\n",
              "      <td>0</td>\n",
              "      <td>28248.0</td>\n",
              "    </tr>\n",
              "  </tbody>\n",
              "</table>\n",
              "<p>5 rows × 59 columns</p>\n",
              "</div>\n",
              "      <button class=\"colab-df-convert\" onclick=\"convertToInteractive('df-05904b11-c9c9-4785-b343-49aef24b7fa1')\"\n",
              "              title=\"Convert this dataframe to an interactive table.\"\n",
              "              style=\"display:none;\">\n",
              "        \n",
              "  <svg xmlns=\"http://www.w3.org/2000/svg\" height=\"24px\"viewBox=\"0 0 24 24\"\n",
              "       width=\"24px\">\n",
              "    <path d=\"M0 0h24v24H0V0z\" fill=\"none\"/>\n",
              "    <path d=\"M18.56 5.44l.94 2.06.94-2.06 2.06-.94-2.06-.94-.94-2.06-.94 2.06-2.06.94zm-11 1L8.5 8.5l.94-2.06 2.06-.94-2.06-.94L8.5 2.5l-.94 2.06-2.06.94zm10 10l.94 2.06.94-2.06 2.06-.94-2.06-.94-.94-2.06-.94 2.06-2.06.94z\"/><path d=\"M17.41 7.96l-1.37-1.37c-.4-.4-.92-.59-1.43-.59-.52 0-1.04.2-1.43.59L10.3 9.45l-7.72 7.72c-.78.78-.78 2.05 0 2.83L4 21.41c.39.39.9.59 1.41.59.51 0 1.02-.2 1.41-.59l7.78-7.78 2.81-2.81c.8-.78.8-2.07 0-2.86zM5.41 20L4 18.59l7.72-7.72 1.47 1.35L5.41 20z\"/>\n",
              "  </svg>\n",
              "      </button>\n",
              "      \n",
              "  <style>\n",
              "    .colab-df-container {\n",
              "      display:flex;\n",
              "      flex-wrap:wrap;\n",
              "      gap: 12px;\n",
              "    }\n",
              "\n",
              "    .colab-df-convert {\n",
              "      background-color: #E8F0FE;\n",
              "      border: none;\n",
              "      border-radius: 50%;\n",
              "      cursor: pointer;\n",
              "      display: none;\n",
              "      fill: #1967D2;\n",
              "      height: 32px;\n",
              "      padding: 0 0 0 0;\n",
              "      width: 32px;\n",
              "    }\n",
              "\n",
              "    .colab-df-convert:hover {\n",
              "      background-color: #E2EBFA;\n",
              "      box-shadow: 0px 1px 2px rgba(60, 64, 67, 0.3), 0px 1px 3px 1px rgba(60, 64, 67, 0.15);\n",
              "      fill: #174EA6;\n",
              "    }\n",
              "\n",
              "    [theme=dark] .colab-df-convert {\n",
              "      background-color: #3B4455;\n",
              "      fill: #D2E3FC;\n",
              "    }\n",
              "\n",
              "    [theme=dark] .colab-df-convert:hover {\n",
              "      background-color: #434B5C;\n",
              "      box-shadow: 0px 1px 3px 1px rgba(0, 0, 0, 0.15);\n",
              "      filter: drop-shadow(0px 1px 2px rgba(0, 0, 0, 0.3));\n",
              "      fill: #FFFFFF;\n",
              "    }\n",
              "  </style>\n",
              "\n",
              "      <script>\n",
              "        const buttonEl =\n",
              "          document.querySelector('#df-05904b11-c9c9-4785-b343-49aef24b7fa1 button.colab-df-convert');\n",
              "        buttonEl.style.display =\n",
              "          google.colab.kernel.accessAllowed ? 'block' : 'none';\n",
              "\n",
              "        async function convertToInteractive(key) {\n",
              "          const element = document.querySelector('#df-05904b11-c9c9-4785-b343-49aef24b7fa1');\n",
              "          const dataTable =\n",
              "            await google.colab.kernel.invokeFunction('convertToInteractive',\n",
              "                                                     [key], {});\n",
              "          if (!dataTable) return;\n",
              "\n",
              "          const docLinkHtml = 'Like what you see? Visit the ' +\n",
              "            '<a target=\"_blank\" href=https://colab.research.google.com/notebooks/data_table.ipynb>data table notebook</a>'\n",
              "            + ' to learn more about interactive tables.';\n",
              "          element.innerHTML = '';\n",
              "          dataTable['output_type'] = 'display_data';\n",
              "          await google.colab.output.renderOutput(dataTable, element);\n",
              "          const docLink = document.createElement('div');\n",
              "          docLink.innerHTML = docLinkHtml;\n",
              "          element.appendChild(docLink);\n",
              "        }\n",
              "      </script>\n",
              "    </div>\n",
              "  </div>\n",
              "  "
            ]
          },
          "metadata": {},
          "execution_count": 888
        }
      ]
    },
    {
      "cell_type": "markdown",
      "source": [
        "# Escalamiento"
      ],
      "metadata": {
        "id": "6js23hqRNsq8"
      }
    },
    {
      "cell_type": "markdown",
      "source": [
        "Escalamos las variables del test conforme a las de train."
      ],
      "metadata": {
        "id": "HPGDoXE4jJot"
      }
    },
    {
      "cell_type": "code",
      "source": [
        "df_test['engine-size'] = (df_test['engine-size']-df['engine-size'].min())/ (df['engine-size'].max()-df['engine-size'].min())\n",
        "df_test['horsepower'] = (df_test['horsepower']-df['horsepower'].min())/ (df['horsepower'].max()-df['horsepower'].min())\n",
        "df_test['price'] = (df_test['price']-df['price'].min())/ (df['price'].max()-df['price'].min())\n",
        "y = df_test[\"price\"]"
      ],
      "metadata": {
        "id": "wEwT5Z1cNpQr"
      },
      "execution_count": null,
      "outputs": []
    },
    {
      "cell_type": "markdown",
      "source": [
        "Eliminamos los string con numéros con letras."
      ],
      "metadata": {
        "id": "tPV2FOkQjN6R"
      }
    },
    {
      "cell_type": "code",
      "source": [
        "columnas = []\n",
        "for i in df_test.columns:\n",
        "    i = i.replace(\"-\",\"_\")\n",
        "    i = i.replace(\"4\",\"c\")\n",
        "    i = i.replace(\"2\",\"d\")\n",
        "    i = i.replace(\"1\",\"u\")\n",
        "    columnas.append(i)\n",
        "df_test.columns = columnas\n",
        "print(columnas)"
      ],
      "metadata": {
        "colab": {
          "base_uri": "https://localhost:8080/"
        },
        "id": "2w1HGpoEPGgF",
        "outputId": "462b1a0b-cc65-464f-bae8-ee86b0b5a64e"
      },
      "execution_count": null,
      "outputs": [
        {
          "output_type": "stream",
          "name": "stdout",
          "text": [
            "['fuel_type', 'aspiration', 'number_of_doors', 'engine_location', 'engine_size', 'horsepower', 'alfa_romero', 'audi', 'bmw', 'chevrolet', 'dodge', 'honda', 'isuzu', 'jaguar', 'mazda', 'mercedes_benz', 'mercury', 'mitsubishi', 'nissan', 'peugot', 'plymouth', 'porsche', 'renault', 'saab', 'subaru', 'toyota', 'volkswagen', 'volvo', 'convertible', 'hardtop', 'hatchback', 'sedan', 'wagon', 'cwd', 'fwd', 'rwd', 'ubbl', 'dbbl', 'cbbl', 'idi', 'mfi', 'mpfi', 'spdi', 'spfi', 'dohc', 'dohcv', 'l', 'ohc', 'ohcf', 'ohcv', 'rotor', 'eight', 'five', 'four', 'six', 'three', 'twelve', 'two', 'price']\n"
          ]
        }
      ]
    },
    {
      "cell_type": "code",
      "source": [
        "columnas = numerical + dummy_final + le_cat\n",
        "col_final = []\n",
        "for i in columnas:\n",
        "    i = i.replace(\"-\",\"_\")\n",
        "    i = i.replace(\"4\",\"c\")\n",
        "    i = i.replace(\"2\",\"d\")\n",
        "    i = i.replace(\"1\",\"u\")\n",
        "    col_final.append(i)\n",
        "print(len(df.columns),len(df_test.columns))"
      ],
      "metadata": {
        "colab": {
          "base_uri": "https://localhost:8080/"
        },
        "id": "6LBvgydtN-wB",
        "outputId": "481fe550-c408-480c-89e2-29cf2db3f27f"
      },
      "execution_count": null,
      "outputs": [
        {
          "output_type": "stream",
          "name": "stdout",
          "text": [
            "80 59\n"
          ]
        }
      ]
    },
    {
      "cell_type": "markdown",
      "source": [
        "Acomodamos el test como entrenamos el modelo creado."
      ],
      "metadata": {
        "id": "M1_Ll-pjjWqA"
      }
    },
    {
      "cell_type": "code",
      "source": [
        "df_test = df_test[col_final]\n",
        "df_test.head()"
      ],
      "metadata": {
        "colab": {
          "base_uri": "https://localhost:8080/",
          "height": 279
        },
        "id": "peERkFRoOAMR",
        "outputId": "93d8df67-52df-44aa-9654-d74da465bd58"
      },
      "execution_count": null,
      "outputs": [
        {
          "output_type": "execute_result",
          "data": {
            "text/plain": [
              "     engine_size  horsepower  alfa_romero  audi  bmw  chevrolet  dodge  honda  \\\n",
              "15      0.542969    0.550847            0     0    1          0      0      0   \n",
              "9       0.238281    0.457627            0     1    0          0      0      0   \n",
              "100     0.195312    0.190678            0     0    0          0      0      0   \n",
              "132     0.199219    0.245763            0     0    0          0      0      0   \n",
              "68      0.441406    0.300847            0     0    0          0      0      0   \n",
              "\n",
              "     isuzu  jaguar  ...  six  five  three  twelve  two  eight  fuel_type  \\\n",
              "15       0       0  ...    1     0      0       0    0      0          1   \n",
              "9        0       0  ...    0     1      0       0    0      0          1   \n",
              "100      0       0  ...    0     0      0       0    0      0          1   \n",
              "132      0       0  ...    0     0      0       0    0      0          1   \n",
              "68       0       0  ...    0     1      0       0    0      0          0   \n",
              "\n",
              "     aspiration  number_of_doors  engine_location  \n",
              "15            0                0                0  \n",
              "9             1                1                0  \n",
              "100           0                0                0  \n",
              "132           0                1                0  \n",
              "68            1                0                0  \n",
              "\n",
              "[5 rows x 58 columns]"
            ],
            "text/html": [
              "\n",
              "  <div id=\"df-9a2cbe0b-9fc6-4809-8229-682f5dfa24af\">\n",
              "    <div class=\"colab-df-container\">\n",
              "      <div>\n",
              "<style scoped>\n",
              "    .dataframe tbody tr th:only-of-type {\n",
              "        vertical-align: middle;\n",
              "    }\n",
              "\n",
              "    .dataframe tbody tr th {\n",
              "        vertical-align: top;\n",
              "    }\n",
              "\n",
              "    .dataframe thead th {\n",
              "        text-align: right;\n",
              "    }\n",
              "</style>\n",
              "<table border=\"1\" class=\"dataframe\">\n",
              "  <thead>\n",
              "    <tr style=\"text-align: right;\">\n",
              "      <th></th>\n",
              "      <th>engine_size</th>\n",
              "      <th>horsepower</th>\n",
              "      <th>alfa_romero</th>\n",
              "      <th>audi</th>\n",
              "      <th>bmw</th>\n",
              "      <th>chevrolet</th>\n",
              "      <th>dodge</th>\n",
              "      <th>honda</th>\n",
              "      <th>isuzu</th>\n",
              "      <th>jaguar</th>\n",
              "      <th>...</th>\n",
              "      <th>six</th>\n",
              "      <th>five</th>\n",
              "      <th>three</th>\n",
              "      <th>twelve</th>\n",
              "      <th>two</th>\n",
              "      <th>eight</th>\n",
              "      <th>fuel_type</th>\n",
              "      <th>aspiration</th>\n",
              "      <th>number_of_doors</th>\n",
              "      <th>engine_location</th>\n",
              "    </tr>\n",
              "  </thead>\n",
              "  <tbody>\n",
              "    <tr>\n",
              "      <th>15</th>\n",
              "      <td>0.542969</td>\n",
              "      <td>0.550847</td>\n",
              "      <td>0</td>\n",
              "      <td>0</td>\n",
              "      <td>1</td>\n",
              "      <td>0</td>\n",
              "      <td>0</td>\n",
              "      <td>0</td>\n",
              "      <td>0</td>\n",
              "      <td>0</td>\n",
              "      <td>...</td>\n",
              "      <td>1</td>\n",
              "      <td>0</td>\n",
              "      <td>0</td>\n",
              "      <td>0</td>\n",
              "      <td>0</td>\n",
              "      <td>0</td>\n",
              "      <td>1</td>\n",
              "      <td>0</td>\n",
              "      <td>0</td>\n",
              "      <td>0</td>\n",
              "    </tr>\n",
              "    <tr>\n",
              "      <th>9</th>\n",
              "      <td>0.238281</td>\n",
              "      <td>0.457627</td>\n",
              "      <td>0</td>\n",
              "      <td>1</td>\n",
              "      <td>0</td>\n",
              "      <td>0</td>\n",
              "      <td>0</td>\n",
              "      <td>0</td>\n",
              "      <td>0</td>\n",
              "      <td>0</td>\n",
              "      <td>...</td>\n",
              "      <td>0</td>\n",
              "      <td>1</td>\n",
              "      <td>0</td>\n",
              "      <td>0</td>\n",
              "      <td>0</td>\n",
              "      <td>0</td>\n",
              "      <td>1</td>\n",
              "      <td>1</td>\n",
              "      <td>1</td>\n",
              "      <td>0</td>\n",
              "    </tr>\n",
              "    <tr>\n",
              "      <th>100</th>\n",
              "      <td>0.195312</td>\n",
              "      <td>0.190678</td>\n",
              "      <td>0</td>\n",
              "      <td>0</td>\n",
              "      <td>0</td>\n",
              "      <td>0</td>\n",
              "      <td>0</td>\n",
              "      <td>0</td>\n",
              "      <td>0</td>\n",
              "      <td>0</td>\n",
              "      <td>...</td>\n",
              "      <td>0</td>\n",
              "      <td>0</td>\n",
              "      <td>0</td>\n",
              "      <td>0</td>\n",
              "      <td>0</td>\n",
              "      <td>0</td>\n",
              "      <td>1</td>\n",
              "      <td>0</td>\n",
              "      <td>0</td>\n",
              "      <td>0</td>\n",
              "    </tr>\n",
              "    <tr>\n",
              "      <th>132</th>\n",
              "      <td>0.199219</td>\n",
              "      <td>0.245763</td>\n",
              "      <td>0</td>\n",
              "      <td>0</td>\n",
              "      <td>0</td>\n",
              "      <td>0</td>\n",
              "      <td>0</td>\n",
              "      <td>0</td>\n",
              "      <td>0</td>\n",
              "      <td>0</td>\n",
              "      <td>...</td>\n",
              "      <td>0</td>\n",
              "      <td>0</td>\n",
              "      <td>0</td>\n",
              "      <td>0</td>\n",
              "      <td>0</td>\n",
              "      <td>0</td>\n",
              "      <td>1</td>\n",
              "      <td>0</td>\n",
              "      <td>1</td>\n",
              "      <td>0</td>\n",
              "    </tr>\n",
              "    <tr>\n",
              "      <th>68</th>\n",
              "      <td>0.441406</td>\n",
              "      <td>0.300847</td>\n",
              "      <td>0</td>\n",
              "      <td>0</td>\n",
              "      <td>0</td>\n",
              "      <td>0</td>\n",
              "      <td>0</td>\n",
              "      <td>0</td>\n",
              "      <td>0</td>\n",
              "      <td>0</td>\n",
              "      <td>...</td>\n",
              "      <td>0</td>\n",
              "      <td>1</td>\n",
              "      <td>0</td>\n",
              "      <td>0</td>\n",
              "      <td>0</td>\n",
              "      <td>0</td>\n",
              "      <td>0</td>\n",
              "      <td>1</td>\n",
              "      <td>0</td>\n",
              "      <td>0</td>\n",
              "    </tr>\n",
              "  </tbody>\n",
              "</table>\n",
              "<p>5 rows × 58 columns</p>\n",
              "</div>\n",
              "      <button class=\"colab-df-convert\" onclick=\"convertToInteractive('df-9a2cbe0b-9fc6-4809-8229-682f5dfa24af')\"\n",
              "              title=\"Convert this dataframe to an interactive table.\"\n",
              "              style=\"display:none;\">\n",
              "        \n",
              "  <svg xmlns=\"http://www.w3.org/2000/svg\" height=\"24px\"viewBox=\"0 0 24 24\"\n",
              "       width=\"24px\">\n",
              "    <path d=\"M0 0h24v24H0V0z\" fill=\"none\"/>\n",
              "    <path d=\"M18.56 5.44l.94 2.06.94-2.06 2.06-.94-2.06-.94-.94-2.06-.94 2.06-2.06.94zm-11 1L8.5 8.5l.94-2.06 2.06-.94-2.06-.94L8.5 2.5l-.94 2.06-2.06.94zm10 10l.94 2.06.94-2.06 2.06-.94-2.06-.94-.94-2.06-.94 2.06-2.06.94z\"/><path d=\"M17.41 7.96l-1.37-1.37c-.4-.4-.92-.59-1.43-.59-.52 0-1.04.2-1.43.59L10.3 9.45l-7.72 7.72c-.78.78-.78 2.05 0 2.83L4 21.41c.39.39.9.59 1.41.59.51 0 1.02-.2 1.41-.59l7.78-7.78 2.81-2.81c.8-.78.8-2.07 0-2.86zM5.41 20L4 18.59l7.72-7.72 1.47 1.35L5.41 20z\"/>\n",
              "  </svg>\n",
              "      </button>\n",
              "      \n",
              "  <style>\n",
              "    .colab-df-container {\n",
              "      display:flex;\n",
              "      flex-wrap:wrap;\n",
              "      gap: 12px;\n",
              "    }\n",
              "\n",
              "    .colab-df-convert {\n",
              "      background-color: #E8F0FE;\n",
              "      border: none;\n",
              "      border-radius: 50%;\n",
              "      cursor: pointer;\n",
              "      display: none;\n",
              "      fill: #1967D2;\n",
              "      height: 32px;\n",
              "      padding: 0 0 0 0;\n",
              "      width: 32px;\n",
              "    }\n",
              "\n",
              "    .colab-df-convert:hover {\n",
              "      background-color: #E2EBFA;\n",
              "      box-shadow: 0px 1px 2px rgba(60, 64, 67, 0.3), 0px 1px 3px 1px rgba(60, 64, 67, 0.15);\n",
              "      fill: #174EA6;\n",
              "    }\n",
              "\n",
              "    [theme=dark] .colab-df-convert {\n",
              "      background-color: #3B4455;\n",
              "      fill: #D2E3FC;\n",
              "    }\n",
              "\n",
              "    [theme=dark] .colab-df-convert:hover {\n",
              "      background-color: #434B5C;\n",
              "      box-shadow: 0px 1px 3px 1px rgba(0, 0, 0, 0.15);\n",
              "      filter: drop-shadow(0px 1px 2px rgba(0, 0, 0, 0.3));\n",
              "      fill: #FFFFFF;\n",
              "    }\n",
              "  </style>\n",
              "\n",
              "      <script>\n",
              "        const buttonEl =\n",
              "          document.querySelector('#df-9a2cbe0b-9fc6-4809-8229-682f5dfa24af button.colab-df-convert');\n",
              "        buttonEl.style.display =\n",
              "          google.colab.kernel.accessAllowed ? 'block' : 'none';\n",
              "\n",
              "        async function convertToInteractive(key) {\n",
              "          const element = document.querySelector('#df-9a2cbe0b-9fc6-4809-8229-682f5dfa24af');\n",
              "          const dataTable =\n",
              "            await google.colab.kernel.invokeFunction('convertToInteractive',\n",
              "                                                     [key], {});\n",
              "          if (!dataTable) return;\n",
              "\n",
              "          const docLinkHtml = 'Like what you see? Visit the ' +\n",
              "            '<a target=\"_blank\" href=https://colab.research.google.com/notebooks/data_table.ipynb>data table notebook</a>'\n",
              "            + ' to learn more about interactive tables.';\n",
              "          element.innerHTML = '';\n",
              "          dataTable['output_type'] = 'display_data';\n",
              "          await google.colab.output.renderOutput(dataTable, element);\n",
              "          const docLink = document.createElement('div');\n",
              "          docLink.innerHTML = docLinkHtml;\n",
              "          element.appendChild(docLink);\n",
              "        }\n",
              "      </script>\n",
              "    </div>\n",
              "  </div>\n",
              "  "
            ]
          },
          "metadata": {},
          "execution_count": 892
        }
      ]
    },
    {
      "cell_type": "markdown",
      "source": [
        "# Desempeño:"
      ],
      "metadata": {
        "id": "Tgy1iXyypQLB"
      }
    },
    {
      "cell_type": "markdown",
      "source": [
        "Hacemos unas predicciones"
      ],
      "metadata": {
        "id": "feih0eAKjnlA"
      }
    },
    {
      "cell_type": "code",
      "source": [
        "predicciones = res.predict(df_test).to_numpy()\n",
        "print(\"Predicciones:\")\n",
        "print(predicciones)\n",
        "print(\"Reales:\")\n",
        "print(y.to_numpy())"
      ],
      "metadata": {
        "colab": {
          "base_uri": "https://localhost:8080/"
        },
        "id": "aBL0IVFlQjr1",
        "outputId": "5ab14b6d-d769-4001-fbf1-2302475fecd5"
      },
      "execution_count": null,
      "outputs": [
        {
          "output_type": "stream",
          "name": "stdout",
          "text": [
            "Predicciones:\n",
            "[ 0.63001302  0.44579481  0.11433074  0.226506    0.65641084  0.02986417\n",
            "  0.08044059  0.06488985  0.07175242  0.061673    0.25470042  0.02667071\n",
            "  0.16682518  0.13023105  0.89026444  0.04432211 -0.04398458  0.22657898\n",
            "  0.09701075  0.0727568   0.12107988  0.27245627  0.08413332  0.01897303\n",
            "  0.01911919  0.62276698  0.21867467  0.28935681  0.03519493  0.29036119\n",
            "  0.65741522  0.02627451  0.05907262  0.3561746   0.07307028  0.70534923\n",
            "  0.14708318  0.21168264  0.12014897  0.22657898  0.05855904  0.10698824\n",
            "  0.19304154  0.04240684  0.03619931  0.08971396  0.02003009  0.03904197\n",
            "  0.29589687  0.25021668  0.02983486  0.2999103   0.03472453  0.12932015\n",
            "  0.03519493  0.32593157  0.21867467  0.21168264  0.7132773   0.01480755\n",
            "  0.07622919  0.24684718]\n",
            "Reales:\n",
            "[6.36562236e-01 1.94650216e-01 1.09999504e-01 1.67121791e-01\n",
            " 5.74201877e-01 6.65557817e-02 6.62827069e-02 1.02775433e-01\n",
            " 1.26110918e-01 6.59599821e-02 2.02993893e-01 7.74539497e-02\n",
            " 3.26746438e-01 1.20897671e-01 8.89777072e-01 3.40102279e-02\n",
            " 8.19224468e-04 1.86460454e-01 7.62375254e-02 1.20202572e-01\n",
            " 8.38339705e-02 2.08058190e-01 7.77270245e-02 3.37868030e-02\n",
            " 3.90745246e-02 8.98589941e-01 1.12233752e-01 2.05972891e-01\n",
            " 7.15207785e-02 1.94181024e-01 5.07273720e-01 2.75805571e-02\n",
            " 6.90134551e-02 4.06310511e-01 6.38250335e-02 5.72414478e-01\n",
            " 1.52450226e-01 1.44655181e-01 1.94650216e-01 2.32634924e-01\n",
            " 5.82145872e-02 3.28335237e-01 2.59718981e-01 4.46849710e-02\n",
            " 5.91082866e-02 9.87289608e-02 2.75805571e-02 4.80363438e-02\n",
            " 2.92487960e-01 1.94776823e-01 2.92190060e-02 2.83997815e-01\n",
            " 4.91782930e-02 9.50796882e-02 5.53845390e-02 2.51526737e-01\n",
            " 8.26920213e-02 1.66997666e-01 7.92165235e-01 6.72757063e-03\n",
            " 1.02154809e-01 2.99910630e-01]\n"
          ]
        }
      ]
    },
    {
      "cell_type": "markdown",
      "source": [
        "Ahorita tenemos las predicciones y los targets reales escalados, pero viendo las diferencias no son muchas tomando en cuenta en la escala en la que se encuentra."
      ],
      "metadata": {
        "id": "ncbmoSLqs0W3"
      }
    },
    {
      "cell_type": "markdown",
      "source": [
        "Mostramos los residuos o restas entre estos:"
      ],
      "metadata": {
        "id": "JDMFtQAWtDZn"
      }
    },
    {
      "cell_type": "code",
      "source": [
        "print(\"Residuos: \")\n",
        "print(y.to_numpy() - predicciones)"
      ],
      "metadata": {
        "colab": {
          "base_uri": "https://localhost:8080/"
        },
        "id": "187rstxsgb-w",
        "outputId": "818003cf-eba0-41b7-e2ce-8ee6394cfe7b"
      },
      "execution_count": null,
      "outputs": [
        {
          "output_type": "stream",
          "name": "stdout",
          "text": [
            "Residuos: \n",
            "[ 0.00654922 -0.25114459 -0.00433124 -0.05938421 -0.08220897  0.03669161\n",
            " -0.01415789  0.03788558  0.0543585   0.00428699 -0.05170653  0.05078324\n",
            "  0.15992126 -0.00933338 -0.00048737 -0.01031188  0.0448038  -0.04011853\n",
            " -0.02077323  0.04744577 -0.03724591 -0.06439808 -0.0064063   0.01481378\n",
            "  0.01995533  0.27582296 -0.10644091 -0.08338392  0.03632584 -0.09618017\n",
            " -0.1501415   0.00130605  0.00994084  0.05013591 -0.00924524 -0.13293476\n",
            "  0.00536705 -0.06702746  0.07450125  0.00605594 -0.00034445  0.22134699\n",
            "  0.06667744  0.00227813  0.02290897  0.009015    0.00755047  0.00899438\n",
            " -0.00340891 -0.05543986 -0.00061585 -0.01591248  0.01445376 -0.03424046\n",
            "  0.0201896  -0.07440483 -0.13598264 -0.04468497  0.07888793 -0.00807998\n",
            "  0.02592561  0.05306345]\n"
          ]
        }
      ]
    },
    {
      "cell_type": "markdown",
      "source": [
        "Ahora volvemos a la escala original para poder ver que tan diferentes son los precios realmente."
      ],
      "metadata": {
        "id": "pN46MD3fj15l"
      }
    },
    {
      "cell_type": "code",
      "source": [
        "pred = predicciones*(df['price'].max()-df['price'].min())+df['price'].min()\n",
        "y = y.to_numpy()\n",
        "y = y*(df['price'].max()-df['price'].min())+df['price'].min()"
      ],
      "metadata": {
        "id": "kGb93-dbbEIU"
      },
      "execution_count": null,
      "outputs": []
    },
    {
      "cell_type": "code",
      "source": [
        "print(\"Predicciones escala original: \")\n",
        "print(np.round(pred))\n",
        "print(\"Reales escala original: \")\n",
        "print(y)"
      ],
      "metadata": {
        "colab": {
          "base_uri": "https://localhost:8080/"
        },
        "id": "pxWJihVSxbaY",
        "outputId": "a560f019-0363-49cd-e53a-d0ae2bccda60"
      },
      "execution_count": null,
      "outputs": [
        {
          "output_type": "stream",
          "name": "stdout",
          "text": [
            "Predicciones escala original: \n",
            "[30496. 23076.  9723. 14242. 31560.  6321.  8358.  7732.  8008.  7602.\n",
            " 15378.  6192. 11838. 10364. 40980.  6903.  3346. 14245.  9026.  8049.\n",
            "  9995. 16093.  8507.  5882.  5888. 30204. 13927. 16774.  6536. 16814.\n",
            " 31600.  6176.  7498. 19465.  8061. 33531. 11043. 13645.  9958. 14245.\n",
            "  7477.  9428. 12894.  6826.  6576.  8732.  5925.  6691. 17037. 15197.\n",
            "  6320. 17199.  6517. 10327.  6536. 18247. 13927. 13645. 33850.  5714.\n",
            "  8189. 15061.]\n",
            "Reales escala original: \n",
            "[30760.  12958.9  9549.  11850.  28248.   7799.   7788.   9258.  10198.\n",
            "  7775.  13295.   8238.  18280.   9988.  40960.   6488.   5151.  12629.\n",
            "  8189.   9960.   8495.  13499.   8249.   6479.   6692.  41315.   9639.\n",
            " 13415.   7999.  12940.  25552.   6229.   7898.  21485.   7689.  28176.\n",
            " 11259.  10945.  12958.9 14489.   7463.  18344.  15580.   6918.   7499.\n",
            "  9095.   6229.   7053.  16900.  12964.   6295.  16558.   7099.   8948.\n",
            "  7349.  15250.   8449.  11845.  37028.   5389.   9233.  17199. ]\n"
          ]
        }
      ]
    },
    {
      "cell_type": "code",
      "source": [
        "print(\"Residuos escala original: \")\n",
        "print(np.round(y-pred))"
      ],
      "metadata": {
        "colab": {
          "base_uri": "https://localhost:8080/"
        },
        "id": "lufZMuJCx9sx",
        "outputId": "c1f7168b-b842-4b1b-f1a3-f1bbb70f9504"
      },
      "execution_count": null,
      "outputs": [
        {
          "output_type": "stream",
          "name": "stdout",
          "text": [
            "Residuos escala original: \n",
            "[   264. -10117.   -174.  -2392.  -3312.   1478.   -570.   1526.   2190.\n",
            "    173.  -2083.   2046.   6442.   -376.    -20.   -415.   1805.  -1616.\n",
            "   -837.   1911.  -1500.  -2594.   -258.    597.    804.  11111.  -4288.\n",
            "  -3359.   1463.  -3874.  -6048.     53.    400.   2020.   -372.  -5355.\n",
            "    216.  -2700.   3001.    244.    -14.   8916.   2686.     92.    923.\n",
            "    363.    304.    362.   -137.  -2233.    -25.   -641.    582.  -1379.\n",
            "    813.  -2997.  -5478.  -1800.   3178.   -325.   1044.   2138.]\n"
          ]
        }
      ]
    },
    {
      "cell_type": "markdown",
      "source": [
        "Como podemos ver la diferencia entre las predicciones y los target no es mucha, tomando en cuenta la cantidad de cada una de de las predicciones, entre más grande sea el precio el error puede aumentar, pero entre más peuqeño ese error no aumenta mucho."
      ],
      "metadata": {
        "id": "VNkAWnQPtM0b"
      }
    },
    {
      "cell_type": "code",
      "source": [
        "for i,j in zip(np.round(pred),np.round(y)):\n",
        "    print(\"Real: \",j,\", Pred: \",i,\", Residuo: \", np.round(j-i))"
      ],
      "metadata": {
        "id": "MkjYcIhbwxZ5",
        "colab": {
          "base_uri": "https://localhost:8080/"
        },
        "outputId": "62bb4e44-91b4-4ab0-90db-75671f67fca4"
      },
      "execution_count": null,
      "outputs": [
        {
          "output_type": "stream",
          "name": "stdout",
          "text": [
            "Real:  30760.0 , Pred:  30496.0 , Residuo:  264.0\n",
            "Real:  12959.0 , Pred:  23076.0 , Residuo:  -10117.0\n",
            "Real:  9549.0 , Pred:  9723.0 , Residuo:  -174.0\n",
            "Real:  11850.0 , Pred:  14242.0 , Residuo:  -2392.0\n",
            "Real:  28248.0 , Pred:  31560.0 , Residuo:  -3312.0\n",
            "Real:  7799.0 , Pred:  6321.0 , Residuo:  1478.0\n",
            "Real:  7788.0 , Pred:  8358.0 , Residuo:  -570.0\n",
            "Real:  9258.0 , Pred:  7732.0 , Residuo:  1526.0\n",
            "Real:  10198.0 , Pred:  8008.0 , Residuo:  2190.0\n",
            "Real:  7775.0 , Pred:  7602.0 , Residuo:  173.0\n",
            "Real:  13295.0 , Pred:  15378.0 , Residuo:  -2083.0\n",
            "Real:  8238.0 , Pred:  6192.0 , Residuo:  2046.0\n",
            "Real:  18280.0 , Pred:  11838.0 , Residuo:  6442.0\n",
            "Real:  9988.0 , Pred:  10364.0 , Residuo:  -376.0\n",
            "Real:  40960.0 , Pred:  40980.0 , Residuo:  -20.0\n",
            "Real:  6488.0 , Pred:  6903.0 , Residuo:  -415.0\n",
            "Real:  5151.0 , Pred:  3346.0 , Residuo:  1805.0\n",
            "Real:  12629.0 , Pred:  14245.0 , Residuo:  -1616.0\n",
            "Real:  8189.0 , Pred:  9026.0 , Residuo:  -837.0\n",
            "Real:  9960.0 , Pred:  8049.0 , Residuo:  1911.0\n",
            "Real:  8495.0 , Pred:  9995.0 , Residuo:  -1500.0\n",
            "Real:  13499.0 , Pred:  16093.0 , Residuo:  -2594.0\n",
            "Real:  8249.0 , Pred:  8507.0 , Residuo:  -258.0\n",
            "Real:  6479.0 , Pred:  5882.0 , Residuo:  597.0\n",
            "Real:  6692.0 , Pred:  5888.0 , Residuo:  804.0\n",
            "Real:  41315.0 , Pred:  30204.0 , Residuo:  11111.0\n",
            "Real:  9639.0 , Pred:  13927.0 , Residuo:  -4288.0\n",
            "Real:  13415.0 , Pred:  16774.0 , Residuo:  -3359.0\n",
            "Real:  7999.0 , Pred:  6536.0 , Residuo:  1463.0\n",
            "Real:  12940.0 , Pred:  16814.0 , Residuo:  -3874.0\n",
            "Real:  25552.0 , Pred:  31600.0 , Residuo:  -6048.0\n",
            "Real:  6229.0 , Pred:  6176.0 , Residuo:  53.0\n",
            "Real:  7898.0 , Pred:  7498.0 , Residuo:  400.0\n",
            "Real:  21485.0 , Pred:  19465.0 , Residuo:  2020.0\n",
            "Real:  7689.0 , Pred:  8061.0 , Residuo:  -372.0\n",
            "Real:  28176.0 , Pred:  33531.0 , Residuo:  -5355.0\n",
            "Real:  11259.0 , Pred:  11043.0 , Residuo:  216.0\n",
            "Real:  10945.0 , Pred:  13645.0 , Residuo:  -2700.0\n",
            "Real:  12959.0 , Pred:  9958.0 , Residuo:  3001.0\n",
            "Real:  14489.0 , Pred:  14245.0 , Residuo:  244.0\n",
            "Real:  7463.0 , Pred:  7477.0 , Residuo:  -14.0\n",
            "Real:  18344.0 , Pred:  9428.0 , Residuo:  8916.0\n",
            "Real:  15580.0 , Pred:  12894.0 , Residuo:  2686.0\n",
            "Real:  6918.0 , Pred:  6826.0 , Residuo:  92.0\n",
            "Real:  7499.0 , Pred:  6576.0 , Residuo:  923.0\n",
            "Real:  9095.0 , Pred:  8732.0 , Residuo:  363.0\n",
            "Real:  6229.0 , Pred:  5925.0 , Residuo:  304.0\n",
            "Real:  7053.0 , Pred:  6691.0 , Residuo:  362.0\n",
            "Real:  16900.0 , Pred:  17037.0 , Residuo:  -137.0\n",
            "Real:  12964.0 , Pred:  15197.0 , Residuo:  -2233.0\n",
            "Real:  6295.0 , Pred:  6320.0 , Residuo:  -25.0\n",
            "Real:  16558.0 , Pred:  17199.0 , Residuo:  -641.0\n",
            "Real:  7099.0 , Pred:  6517.0 , Residuo:  582.0\n",
            "Real:  8948.0 , Pred:  10327.0 , Residuo:  -1379.0\n",
            "Real:  7349.0 , Pred:  6536.0 , Residuo:  813.0\n",
            "Real:  15250.0 , Pred:  18247.0 , Residuo:  -2997.0\n",
            "Real:  8449.0 , Pred:  13927.0 , Residuo:  -5478.0\n",
            "Real:  11845.0 , Pred:  13645.0 , Residuo:  -1800.0\n",
            "Real:  37028.0 , Pred:  33850.0 , Residuo:  3178.0\n",
            "Real:  5389.0 , Pred:  5714.0 , Residuo:  -325.0\n",
            "Real:  9233.0 , Pred:  8189.0 , Residuo:  1044.0\n",
            "Real:  17199.0 , Pred:  15061.0 , Residuo:  2138.0\n"
          ]
        }
      ]
    },
    {
      "cell_type": "markdown",
      "source": [
        "Obtenemos la correlacion del modelo y ver que tan preciso es"
      ],
      "metadata": {
        "id": "GBg9RNbHnk25"
      }
    },
    {
      "cell_type": "code",
      "source": [
        "import sklearn.metrics as sm\n",
        "print(\"R2 score =\", round(sm.r2_score(y, pred), 2))"
      ],
      "metadata": {
        "colab": {
          "base_uri": "https://localhost:8080/"
        },
        "id": "mma08bYxnOaN",
        "outputId": "e975b536-f18c-46b9-d1b8-85a6d69a6b6b"
      },
      "execution_count": null,
      "outputs": [
        {
          "output_type": "stream",
          "name": "stdout",
          "text": [
            "R2 score = 0.86\n"
          ]
        }
      ]
    },
    {
      "cell_type": "markdown",
      "source": [
        "Como podemos ver nuestro modelo tiene un desempeño aceptable, logrando acercarse de manera óptima a la correlación del modelo en la parte del train, no llegando al 90% pero si acercandose me manera óptima.\n",
        "<br>Mostrando que nuestro modelo esta bien diseñado y no esta cerca de ser una respuesta al azar. \n",
        "<br>Esto se puede ver al observar las predicciones que hacemos anteiormente, ya que el residuo entre la predicción y la real no es mucho en comparación con la catidad total tanto de la real como la predicción. "
      ],
      "metadata": {
        "id": "6w-PQ21MpYqQ"
      }
    },
    {
      "cell_type": "code",
      "source": [],
      "metadata": {
        "id": "wBbCXVkOnO31"
      },
      "execution_count": null,
      "outputs": []
    }
  ]
}